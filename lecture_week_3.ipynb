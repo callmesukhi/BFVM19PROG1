{
  "nbformat": 4,
  "nbformat_minor": 0,
  "metadata": {
    "colab": {
      "name": "lecture_week_3.ipynb",
      "provenance": [],
      "authorship_tag": "ABX9TyN5g9xXwhmgGCAHqavM7w6m",
      "include_colab_link": true
    },
    "kernelspec": {
      "name": "python3",
      "display_name": "Python 3"
    }
  },
  "cells": [
    {
      "cell_type": "markdown",
      "metadata": {
        "id": "view-in-github",
        "colab_type": "text"
      },
      "source": [
        "<a href=\"https://colab.research.google.com/github/callmesukhi/BFVM19PROG1/blob/main/lecture_week_3.ipynb\" target=\"_parent\"><img src=\"https://colab.research.google.com/assets/colab-badge.svg\" alt=\"Open In Colab\"/></a>"
      ]
    },
    {
      "cell_type": "markdown",
      "metadata": {
        "id": "aOGmHlhf3KJy"
      },
      "source": [
        "# **Lesson 5 (02-Dec-2020)**"
      ]
    },
    {
      "cell_type": "markdown",
      "metadata": {
        "id": "hXTEbgZ8gB27"
      },
      "source": [
        "## Combining data"
      ]
    },
    {
      "cell_type": "markdown",
      "metadata": {
        "id": "glTyBRxpgBuf"
      },
      "source": [
        "\n",
        "*   Use` .join()` method to combine two df with 1 common column\n",
        "*   https://padlet.com/ffeenstra1/zy0ltccr6c1f2ewx \n",
        "*   Use `.merge()` method to combine two dfs \n",
        "*   Use `.concat()` medthod to combine two dfs - dfs should match in shape, same like union \n",
        "*   GPA - Graphical, practical and analytical "
      ]
    }
  ]
}