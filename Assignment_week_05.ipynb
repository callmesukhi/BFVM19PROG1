{
 "cells": [
  {
   "cell_type": "markdown",
   "metadata": {
    "cell_id": "00000-6095bfbe-bad5-4e93-9364-8ff6552d8983",
    "colab_type": "text",
    "deepnote_cell_type": "markdown",
    "id": "view-in-github"
   },
   "source": [
    "<a href=\"https://colab.research.google.com/github/callmesukhi/BFVM19PROG1/blob/main/assessments/Assignment_week_05.ipynb\" target=\"_parent\"><img src=\"https://colab.research.google.com/assets/colab-badge.svg\" alt=\"Open In Colab\"/></a>"
   ]
  },
  {
   "cell_type": "markdown",
   "metadata": {
    "cell_id": "00001-64d34da0-ce8d-4443-b93d-5631c51033d2",
    "deepnote_cell_type": "markdown",
    "id": "vZaA7sGoH6-H"
   },
   "source": [
    "## Assignment week 05: Sleeping habits\n",
    "\n",
    "Welcome to **week five** of this course programming 1. You will learn about analysing data with pandas and numpy and you will learn to visualize with bokeh. Concretely, you will preprocess the Sleep Study data in an appropiate format in order to conduct statistical and visual analysis. Learning outcomes:\n",
    "\n",
    "\n",
    "## About the data\n",
    "\n",
    "The data is collected from a survey-based study of the sleeping habits of individuals within the US. \n",
    "\n",
    "Below is a description of each of the variables contained within the dataset.\n",
    "\n",
    "- Enough = Do you think that you get enough sleep?\n",
    "- Hours = On average, how many hours of sleep do you get on a weeknight?\n",
    "- PhoneReach = Do you sleep with your phone within arms reach?\n",
    "- PhoneTime = Do you use your phone within 30 minutes of falling asleep?\n",
    "- Tired = On a scale from 1 to 5, how tired are you throughout the day? (1 being not tired, 5 being very tired)\n",
    "- Breakfast = Do you typically eat breakfast?\n",
    "\n",
    "The two research questions you should answer in this assignment are:\n",
    "1. Is there a differences in Hours sleep caused by having breakfast (yes, no)?\n",
    "2. Is there a differences in Hours sleep caused by having breakfast and the tireness (score)\n",
    "\n",
    "\n",
    "The assignment consists of 6 parts:\n",
    "\n",
    "- [part 1: load the data](#0)\n",
    "- [part 2: data inspection](#1)\n",
    "- [part 3: check assumptions](#2)\n",
    "   - [check normality 3.1](#ex-31)\n",
    "   - [check equal variance 3.2](#ex-32)\n",
    "- [part 4: prepare the data](#3)\n",
    "- [part 5: answer the research question](#4)\n",
    "- [part 6: enhanced plotting](#5)\n",
    "\n",
    "Part 1 till 5 are mandatory, part 6 is optional (bonus)\n",
    "To pass the assingnment you need to a score of 60%. \n",
    "\n",
    "\n",
    "**NOTE If your project data is suitable you can use that data instead of the given data**"
   ]
  },
  {
   "cell_type": "markdown",
   "metadata": {
    "cell_id": "00002-67d82ebc-3365-4747-ac5f-7e7dd0dfef93",
    "deepnote_cell_type": "markdown",
    "id": "HncclMyeH6-I"
   },
   "source": [
    "## ANOVA\n",
    "\n",
    "Analysis of variance (ANOVA) compares the variances between groups versus within groups. It basically determines whether the differences between groups is larger than the differences within a group (the noise). \n",
    "A graph picturing this is as follow: https://link.springer.com/article/10.1007/s00424-019-02300-4/figures/2\n",
    "\n",
    "\n",
    "In ANOVA, the dependent variable must be a continuous (interval or ratio) level of measurement. For instance Glucose level. The independent variables in ANOVA must be categorical (nominal or ordinal) variables. For instance trial category, time of day (AM versus PM) or time of trial (different categories). Like the t-test, ANOVA is also a parametric test and has some assumptions. ANOVA assumes that the data is normally distributed.  The ANOVA also assumes homogeneity of variance, which means that the variance among the groups should be approximately equal. ANOVA also assumes that the observations are independent of each other. \n",
    "\n",
    "A one-way ANOVA has just one independent variable. A two-way ANOVA (are also called factorial ANOVA) refers to an ANOVA using two independent variables. For research question 1 we can use the one-way ANOVA, for research question two we can use two-way ANOVA. But first we need to check the assumptions. \n"
   ]
  },
  {
   "cell_type": "markdown",
   "metadata": {
    "cell_id": "00003-388af2d4-25ed-4b5a-a696-9150909f6e80",
    "deepnote_cell_type": "markdown",
    "id": "mc5VoB7sH6-J"
   },
   "source": [
    "---"
   ]
  },
  {
   "cell_type": "markdown",
   "metadata": {
    "cell_id": "00004-923f6736-f076-434e-be01-b7354a927d19",
    "deepnote_cell_type": "markdown",
    "id": "OELKvqIVH6-K"
   },
   "source": [
    "<a name='0'></a>\n",
    "## Part 1: Load the data (10 pt)\n",
    "\n",
    "load the `sleep.csv` data. Get yourself familiar with the data. Answer the following questions.\n",
    "\n",
    "1. What is the percentage missing data?\n",
    "2. Considering the research question, what is the dependent variable and what are the indepent variables? Are they of the correct datatype? "
   ]
  },
  {
   "cell_type": "code",
   "execution_count": 1,
   "metadata": {
    "cell_id": "00005-0ad16115-d893-4f56-b641-33bb0f3327a9",
    "deepnote_cell_type": "code",
    "deepnote_to_be_reexecuted": false,
    "execution_millis": 39,
    "execution_start": 1609785309581,
    "id": "BrC0ST2e1CPp",
    "source_hash": "e9f0f52d"
   },
   "outputs": [],
   "source": [
    "# importing useful libraries \n",
    "import pandas as pd\n",
    "import numpy as np\n",
    "import yaml"
   ]
  },
  {
   "cell_type": "code",
   "execution_count": 2,
   "metadata": {
    "cell_id": "00006-cd4491d9-a1f4-45e8-9a3a-b0ca9eb2ef62",
    "deepnote_cell_type": "code",
    "deepnote_to_be_reexecuted": false,
    "execution_millis": 9,
    "execution_start": 1609785314321,
    "id": "3KOo3h4E2-M0",
    "source_hash": "5383ae73"
   },
   "outputs": [],
   "source": [
    "# creating a color class for printing things in different colors \n",
    "class color:\n",
    "    PURPLE = '\\033[95m'\n",
    "    CYAN = '\\033[96m'\n",
    "    DARKCYAN = '\\033[36m'\n",
    "    BLUE = '\\033[94m'\n",
    "    GREEN = '\\033[92m'\n",
    "    YELLOW = '\\033[93m'\n",
    "    RED = '\\033[91m'\n",
    "    BOLD = '\\033[1m'\n",
    "    UNDERLINE = '\\033[4m'\n",
    "    END = '\\033[0m'"
   ]
  },
  {
   "cell_type": "code",
   "execution_count": 3,
   "metadata": {
    "cell_id": "00007-175057fd-3623-4386-90db-8567baf77e6b",
    "deepnote_cell_type": "code",
    "deepnote_to_be_reexecuted": false,
    "execution_millis": 9,
    "execution_start": 1609785316700,
    "source_hash": "f6d8f128",
    "tags": []
   },
   "outputs": [],
   "source": [
    "# reading the config file\n",
    "def get_config():\n",
    "    \"\"\"\n",
    "    this functions reads the yaml file and returns it as a dict object. \n",
    "    :param: none\n",
    "    :return: dict, returns a dict object\n",
    "    \"\"\"\n",
    "    with open(r\"config.yaml\", 'r') as file:\n",
    "        file = yaml.safe_load(file)\n",
    "    return file\n",
    "\n",
    "config = get_config()"
   ]
  },
  {
   "cell_type": "code",
   "execution_count": 4,
   "metadata": {
    "cell_id": "00007-9ee40393-8256-4c62-ae48-d305c1865de0",
    "colab": {
     "base_uri": "https://localhost:8080/",
     "height": 272
    },
    "deepnote_cell_type": "code",
    "deepnote_to_be_reexecuted": false,
    "execution_millis": 7,
    "execution_start": 1609785322646,
    "id": "idMXAlacH6-K",
    "outputId": "fb0f960f-e2a7-4c21-973f-a331b7de9f35",
    "source_hash": "23366d03"
   },
   "outputs": [],
   "source": [
    "# reading the file into pandas DataFrame\n",
    "def read_data(file_path):\n",
    "    \"\"\"\n",
    "    this functions reads the data into a Pandas DataFrame, \n",
    "    :param file_path: str, a string of file path\n",
    "    :return: DataFrame, returns a pandas DataFrame\n",
    "    \"\"\"\n",
    "    df = pd.read_csv(file_path)\n",
    "    return df \n",
    "\n",
    "df = read_data(config['datadir'] + 'sleep.csv')"
   ]
  },
  {
   "cell_type": "code",
   "execution_count": 10,
   "metadata": {
    "cell_id": "00008-739af68d-81e9-49bd-a700-42276aeb876d",
    "deepnote_cell_type": "code",
    "deepnote_to_be_reexecuted": false,
    "execution_millis": 2,
    "execution_start": 1609785457646,
    "source_hash": "3b01e435",
    "tags": []
   },
   "outputs": [
    {
     "name": "stdout",
     "output_type": "stream",
     "text": [
      "\u001b[1m\u001b[4mNumber of missing values in each column is:\n",
      "\u001b[0m\u001b[36mEnough        0\n",
      "Hours         2\n",
      "PhoneReach    0\n",
      "PhoneTime     0\n",
      "Tired         0\n",
      "Breakfast     0\n",
      "dtype: int64\u001b[0m\n",
      "\n",
      "\n",
      "\u001b[1m\u001b[4mPercentage of missing values in entire DataDrame is:\u001b[0m\u001b[36m 1.92%\u001b[0m\n",
      "\n",
      "\n",
      "\u001b[1m\u001b[4mPercentage of missing values in each column is:\n",
      "\u001b[0m\u001b[36mEnough        0.00\n",
      "Hours         1.92\n",
      "PhoneReach    0.00\n",
      "PhoneTime     0.00\n",
      "Tired         0.00\n",
      "Breakfast     0.00\n",
      "dtype: float64\u001b[0m\n",
      "\n",
      "\n",
      "\u001b[1m\u001b[4m\u001b[95mActual Data:\u001b[0m\n"
     ]
    },
    {
     "data": {
      "text/html": [
       "<div>\n",
       "<style scoped>\n",
       "    .dataframe tbody tr th:only-of-type {\n",
       "        vertical-align: middle;\n",
       "    }\n",
       "\n",
       "    .dataframe tbody tr th {\n",
       "        vertical-align: top;\n",
       "    }\n",
       "\n",
       "    .dataframe thead th {\n",
       "        text-align: right;\n",
       "    }\n",
       "</style>\n",
       "<table border=\"1\" class=\"dataframe\">\n",
       "  <thead>\n",
       "    <tr style=\"text-align: right;\">\n",
       "      <th></th>\n",
       "      <th>Enough</th>\n",
       "      <th>Hours</th>\n",
       "      <th>PhoneReach</th>\n",
       "      <th>PhoneTime</th>\n",
       "      <th>Tired</th>\n",
       "      <th>Breakfast</th>\n",
       "    </tr>\n",
       "  </thead>\n",
       "  <tbody>\n",
       "    <tr>\n",
       "      <th>0</th>\n",
       "      <td>Yes</td>\n",
       "      <td>8.0</td>\n",
       "      <td>Yes</td>\n",
       "      <td>Yes</td>\n",
       "      <td>3</td>\n",
       "      <td>Yes</td>\n",
       "    </tr>\n",
       "    <tr>\n",
       "      <th>1</th>\n",
       "      <td>No</td>\n",
       "      <td>6.0</td>\n",
       "      <td>Yes</td>\n",
       "      <td>Yes</td>\n",
       "      <td>3</td>\n",
       "      <td>No</td>\n",
       "    </tr>\n",
       "    <tr>\n",
       "      <th>2</th>\n",
       "      <td>Yes</td>\n",
       "      <td>6.0</td>\n",
       "      <td>Yes</td>\n",
       "      <td>Yes</td>\n",
       "      <td>2</td>\n",
       "      <td>Yes</td>\n",
       "    </tr>\n",
       "    <tr>\n",
       "      <th>3</th>\n",
       "      <td>No</td>\n",
       "      <td>7.0</td>\n",
       "      <td>Yes</td>\n",
       "      <td>Yes</td>\n",
       "      <td>4</td>\n",
       "      <td>No</td>\n",
       "    </tr>\n",
       "    <tr>\n",
       "      <th>4</th>\n",
       "      <td>No</td>\n",
       "      <td>7.0</td>\n",
       "      <td>Yes</td>\n",
       "      <td>Yes</td>\n",
       "      <td>2</td>\n",
       "      <td>Yes</td>\n",
       "    </tr>\n",
       "  </tbody>\n",
       "</table>\n",
       "</div>"
      ],
      "text/plain": [
       "  Enough  Hours PhoneReach PhoneTime  Tired Breakfast\n",
       "0    Yes    8.0        Yes       Yes      3       Yes\n",
       "1     No    6.0        Yes       Yes      3        No\n",
       "2    Yes    6.0        Yes       Yes      2       Yes\n",
       "3     No    7.0        Yes       Yes      4        No\n",
       "4     No    7.0        Yes       Yes      2       Yes"
      ]
     },
     "execution_count": 10,
     "metadata": {},
     "output_type": "execute_result"
    }
   ],
   "source": [
    "#code printing percentage missing data\n",
    "def calculate_missing_data(df):\n",
    "    \"\"\"\n",
    "    functions counts & prints the percentage of missing values in each column and entire DataFrame. \n",
    "    :param df: DataFrame, holds a pandas DataFrame\n",
    "    \"return: none\n",
    "    \"\"\"\n",
    "    missing_data_column_wise = []\n",
    "    for col in df.columns:\n",
    "        missing_data_col = df[col].isnull().mean()\n",
    "        missing_data_col = round((missing_data_col * 100), 2)\n",
    "        missing_data_column_wise.append(missing_data_col)\n",
    "    missing_total_data = sum(missing_data_column_wise)\n",
    "    missing_data_values = df.isnull().sum()\n",
    "    print(color.BOLD + color.UNDERLINE + \"Number of missing values in each column is:\\n\" + color.END + color.DARKCYAN + f\"{missing_data_values}\" + color.END)\n",
    "    print(\"\\n\")\n",
    "    print(color.BOLD + color.UNDERLINE + \"Percentage of missing values in entire DataDrame is:\" +color.END + color.DARKCYAN +  f\" {missing_total_data}%\"+ color.END)\n",
    "    print('\\n')\n",
    "    missing_data_each_column = df.isnull().mean()\n",
    "    print(color.BOLD + color.UNDERLINE + \"Percentage of missing values in each column is:\\n\" +color.END + color.DARKCYAN +  f\"{round((missing_data_each_column * 100), 2)}\"+ color.END)\n",
    "    print('\\n')\n",
    "    print(color.BOLD + color.UNDERLINE + color.PURPLE + \"Actual Data:\" + color.END)\n",
    "    return df.head()\n",
    "\n",
    "calculate_missing_data(df)"
   ]
  },
  {
   "cell_type": "code",
   "execution_count": 6,
   "metadata": {
    "cell_id": "00008-95fae423-6671-48eb-97b5-d068aa8f7d7c",
    "colab": {
     "base_uri": "https://localhost:8080/"
    },
    "deepnote_cell_type": "code",
    "deepnote_to_be_reexecuted": false,
    "execution_millis": 1,
    "execution_start": 1609530287477,
    "id": "FbkvyaplH6-L",
    "outputId": "d8055ca4-ee4c-4b95-f314-063d9eb24ca1",
    "source_hash": "69fca970"
   },
   "outputs": [
    {
     "name": "stdout",
     "output_type": "stream",
     "text": [
      "\u001b[1m\u001b[4mDependent variables are: \u001b[0m\u001b[95m('Enough', 'Hours', 'Tired')\u001b[0m\n",
      "\n",
      "\n",
      "\u001b[1m\u001b[4mIndependent variables are: \u001b[0m\u001b[91m('PhoneReach', 'PhoneTime', 'Breakfast')\u001b[0m\n"
     ]
    }
   ],
   "source": [
    "#code printing answer dependent and independent variables\n",
    "def dependent_independent_var(df):\n",
    "    \"\"\"\n",
    "    functions counts & prints the dependent and independent variables of the DataFrame. \n",
    "    :param df: DataFrame, holds a pandas DataFrame\n",
    "    \"return: none\n",
    "    \"\"\"\n",
    "    variables = df.columns.tolist()\n",
    "    print(color.BOLD + color.UNDERLINE + 'Dependent variables are: '+ color.END + color.PURPLE + f'{variables[0], variables[1], variables[4]}' + color.END)\n",
    "    print('\\n')\n",
    "    print(color.BOLD + color.UNDERLINE + 'Independent variables are: ' + color.END + color.RED + f'{variables[2], variables[3], variables[5]}' + color.END)\n",
    "\n",
    "dependent_independent_var(df)"
   ]
  },
  {
   "cell_type": "code",
   "execution_count": null,
   "metadata": {
    "cell_id": "00009-6ac9b0e1-980b-4784-bfa4-20d1fa2e2407",
    "colab": {
     "base_uri": "https://localhost:8080/"
    },
    "deepnote_cell_type": "code",
    "deepnote_to_be_reexecuted": false,
    "execution_millis": 21,
    "execution_start": 1609419016282,
    "id": "MfFCO7btH6-L",
    "outputId": "c47f74e7-6753-440f-a03d-30dcf89b802b",
    "source_hash": "5b92bb2d"
   },
   "outputs": [],
   "source": [
    "#code printing answer about datatypes\n",
    "def find_convert_datatypes(df):\n",
    "    \"\"\"\n",
    "    functions counts & prints the percentage of missing values in each column and entire DataFrame. \n",
    "    :param df: DataFrame, holds a pandas DataFrame\n",
    "    \"return: none\n",
    "    \"\"\"\n",
    "    print(color.BOLD + color.UNDERLINE + f'Current DataTypes are:\\n' + color.END + f'{df.dtypes}')\n",
    "\n",
    "    columns = ['Enough', 'PhoneReach', 'PhoneTime', 'Breakfast']\n",
    "\n",
    "    for col in columns:\n",
    "        df[col] = df[col].astype('category')\n",
    "\n",
    "    print('\\n')\n",
    "    print(color.BOLD + color.UNDERLINE + f'Changed DataTypes:\\n' + color.END + f'{df.dtypes}')\n",
    "    \n",
    "find_convert_datatypes(df)"
   ]
  },
  {
   "cell_type": "markdown",
   "metadata": {
    "cell_id": "00010-57aff7be-0fa1-48a9-a857-fd008ca2719e",
    "deepnote_cell_type": "markdown",
    "id": "nIZlI24PH6-M"
   },
   "source": [
    "---"
   ]
  },
  {
   "cell_type": "markdown",
   "metadata": {
    "cell_id": "00011-28b5f22d-66d2-4f32-ac18-08ffe670ed3e",
    "deepnote_cell_type": "markdown",
    "id": "I86gIRzTH6-N"
   },
   "source": [
    "<a name='1'></a>\n",
    "## Part 2: Inspect the data (30 pt)\n",
    "\n",
    "Inspect the data practically. Get an idea about how well the variable categories are ballanced. Are the values of a variable equally divided? What is the mean value of the dependent variable? Are there correlations amongs the variables?\n"
   ]
  },
  {
   "cell_type": "markdown",
   "metadata": {
    "cell_id": "00012-35dc246a-167c-44f2-8b57-1e0ae1fd6635",
    "deepnote_cell_type": "markdown",
    "id": "_yCrO8D-H6-N"
   },
   "source": [
    "<ul>\n",
    "<li>Create some meaninful overviews such as variable value counts</li>\n",
    "<li>Create a scatter plot ploting the relation between being tired and hours of sleep with different colors for Breakfast</li>\n",
    "    <li>Print some basic statistics about the target (mean, standard deviation)</li>\n",
    "    <li>Create a heatmap to check for correlations among variables. </li>\n",
    "\n",
    "<details>    \n",
    "<summary>\n",
    "    <font size=\"3\" color=\"darkgreen\"><b>Hints</b></font>\n",
    "</summary>\n",
    "    <ul><li>the gitbook has a bokeh heatmap example</li></ul>\n",
    "</details>\n",
    "</ul>"
   ]
  },
  {
   "cell_type": "code",
   "execution_count": null,
   "metadata": {
    "cell_id": "00013-4a033c10-0bd1-484b-8290-c3e75d8387e5",
    "colab": {
     "base_uri": "https://localhost:8080/"
    },
    "deepnote_cell_type": "code",
    "deepnote_to_be_reexecuted": false,
    "execution_millis": 1,
    "execution_start": 1609526266247,
    "id": "qgNlcmKIH6-N",
    "outputId": "a5a972e7-be89-4341-c7e8-4e6c87432ca1",
    "source_hash": "a682b5f3"
   },
   "outputs": [],
   "source": [
    "#code your answer to the value counts and distribution plots here\n",
    "def value_count(df):\n",
    "    print(color.BOLD + color.UNDERLINE + \"Number of values in each column is as follow:\\n\" + color.END + color.PURPLE + f\"{df.count(0)}\"+color.END)\n",
    "\n",
    "value_count(df)"
   ]
  },
  {
   "cell_type": "code",
   "execution_count": null,
   "metadata": {
    "cell_id": "00014-b62e9070-d523-430a-bd22-1c4c407b9fda",
    "deepnote_cell_type": "code",
    "id": "I_T8wJ40H6-O"
   },
   "outputs": [],
   "source": [
    "#code for the scatter plot here"
   ]
  },
  {
   "cell_type": "code",
   "execution_count": null,
   "metadata": {
    "cell_id": "00015-27d832a3-b911-4592-aa39-c8f00a574707",
    "deepnote_cell_type": "code",
    "id": "q5KKi4BLH6-O"
   },
   "outputs": [],
   "source": [
    "#code your answer to the target statistics here"
   ]
  },
  {
   "cell_type": "code",
   "execution_count": null,
   "metadata": {
    "cell_id": "00016-4ac15202-e034-41e0-84cd-0fce35a9231e",
    "deepnote_cell_type": "code",
    "id": "wZimWSccH6-O"
   },
   "outputs": [],
   "source": [
    "#code your answer for the heatmap here and briefly state your finding"
   ]
  },
  {
   "cell_type": "markdown",
   "metadata": {
    "cell_id": "00017-b2d0d143-70a6-40b5-943a-4bf70b5d94e1",
    "deepnote_cell_type": "markdown",
    "id": "0jPij4keH6-P"
   },
   "source": [
    "---"
   ]
  },
  {
   "cell_type": "markdown",
   "metadata": {
    "cell_id": "00018-2a9c01d0-61d1-4272-ae65-01251645421d",
    "deepnote_cell_type": "markdown",
    "id": "8rF3ehQFH6-P"
   },
   "source": [
    "<a name='2'></a>\n",
    "## Part 3: Check Assumptions\n",
    "\n",
    "Before we answer the research question with ANOVA we need to check the following assumptions:\n",
    "\n",
    "1. ANOVA assumes that the dependent variable is normaly distributed\n",
    "2. ANOVA also assumes homogeneity of variance\n",
    "3. ANOVA also assumes that the observations are independent of each other. Most of the time we need domain knowledge and experiment setup descriptions to estimate this assumption\n",
    "\n",
    "We are going to do this graphically and statistically. "
   ]
  },
  {
   "cell_type": "markdown",
   "metadata": {
    "cell_id": "00019-56651aef-b410-4163-a5a4-6d037acc9c79",
    "deepnote_cell_type": "markdown",
    "id": "f9r-gBn0H6-P"
   },
   "source": [
    "<a name='ex-31'></a>\n",
    "### Check normality (10 pt)\n",
    "\n",
    "<ul><li>\n",
    "Plot the distribution of the dependent variable. Add a vertical line at the position of the average. Add a vertical line for the robuust estimation. Add the normal distribution line to the plot. Comment on the normallity of the data. Do you want the full points? Plot with bokeh!</li>\n",
    "\n",
    "<li>Use a Shapiro-Wilk Test or an Anderson-Darling test to check statistically</li></ul>\n",
    "\n",
    "\n",
    "<details>    \n",
    "<summary>\n",
    "    <font size=\"3\" color=\"darkgreen\"><b>Hints</b></font>\n",
    "</summary>\n",
    "    <ul><li>check the code of lesson 1 DS1 bayesian statistics</li>\n",
    "        <li>heart_failure case of gitbook uses bokeh histograms</li>\n",
    "</ul>\n",
    "</details>"
   ]
  },
  {
   "cell_type": "code",
   "execution_count": null,
   "metadata": {
    "cell_id": "00020-fba79fac-c260-4c56-a794-45d029880a9b",
    "deepnote_cell_type": "code",
    "id": "WKD99y_SH6-P"
   },
   "outputs": [],
   "source": [
    "# your code to plot here"
   ]
  },
  {
   "cell_type": "code",
   "execution_count": null,
   "metadata": {
    "cell_id": "00021-8277ea15-5811-47f0-a735-14e643ec1bb3",
    "deepnote_cell_type": "code",
    "id": "w1V5uok1H6-Q"
   },
   "outputs": [],
   "source": [
    "# briefly summarize your findings"
   ]
  },
  {
   "cell_type": "markdown",
   "metadata": {
    "cell_id": "00022-1e02ab00-80b0-4f43-a848-6b489ba7b21d",
    "deepnote_cell_type": "markdown",
    "id": "feVuXuzeH6-Q"
   },
   "source": [
    "<a name='ex-32'></a>\n",
    "### Check homogeneity of variance (20 pt)\n",
    "\n",
    "<ul><li>\n",
    "Use boxplots for the check of homoegeneity of variance. Do you want the full points? Plot with bokeh!</li>\n",
    "\n",
    "<li>Use a Levene’s & Bartlett’s Test of Equality (Homogeneity) of Variance to test equal variance statistically</li><ul>"
   ]
  },
  {
   "cell_type": "code",
   "execution_count": null,
   "metadata": {
    "cell_id": "00023-0056e531-e3d5-45a6-a96e-19a3f85951a6",
    "deepnote_cell_type": "code",
    "id": "8WUxN1GMH6-Q"
   },
   "outputs": [],
   "source": [
    "# your code to plot here"
   ]
  },
  {
   "cell_type": "code",
   "execution_count": null,
   "metadata": {
    "cell_id": "00024-014f2710-4eef-4ab8-b280-aaa9dddcd8f4",
    "deepnote_cell_type": "code",
    "id": "F0gGroTuH6-Q"
   },
   "outputs": [],
   "source": [
    "# your code for the statistical test here"
   ]
  },
  {
   "cell_type": "code",
   "execution_count": null,
   "metadata": {
    "cell_id": "00025-22fe2996-22ad-4a5b-a581-5e05fa9465d2",
    "deepnote_cell_type": "code",
    "id": "MrGHKWmwH6-R"
   },
   "outputs": [],
   "source": [
    "# briefly summarize your findings"
   ]
  },
  {
   "cell_type": "markdown",
   "metadata": {
    "cell_id": "00026-5fef0ff7-16d9-4a5d-818a-0c91e184aa6d",
    "deepnote_cell_type": "markdown",
    "id": "0PjlBPpGH6-R"
   },
   "source": [
    "---"
   ]
  },
  {
   "cell_type": "markdown",
   "metadata": {
    "cell_id": "00027-6dccaf95-3fc2-4ca7-a094-60b29f2c121e",
    "deepnote_cell_type": "markdown",
    "id": "f7rzujjKH6-R"
   },
   "source": [
    "<a name='3'></a>\n",
    "## Part 4: Prepare your data (10 pt)\n",
    "\n",
    "Create a dataframe with equal samplesize. Make three categories for tireness 1-2 = no, 3 = maybe, 4-5 = yes"
   ]
  },
  {
   "cell_type": "code",
   "execution_count": null,
   "metadata": {
    "cell_id": "00028-6aa10006-7989-400a-9f42-54bf381327d6",
    "deepnote_cell_type": "code",
    "id": "_U7E_Li-H6-R"
   },
   "outputs": [],
   "source": [
    "#your solution here"
   ]
  },
  {
   "cell_type": "markdown",
   "metadata": {
    "cell_id": "00029-2d34d95b-8468-4ceb-ab95-7ed2ccb3db00",
    "deepnote_cell_type": "markdown",
    "id": "vBGGwSsjH6-R"
   },
   "source": [
    "---"
   ]
  },
  {
   "cell_type": "markdown",
   "metadata": {
    "cell_id": "00030-d5203d4a-b51c-4e8f-8b1d-1fb35ec5244f",
    "deepnote_cell_type": "markdown",
    "id": "UiYtOjOyH6-S"
   },
   "source": [
    "<a name='4'></a>\n",
    "## Part 5: Answer the research questions (20 pt)\n",
    "\n",
    "<details>    \n",
    "<summary>\n",
    "    <font size=\"3\" color=\"darkgreen\"><b>Hints</b></font>\n",
    "</summary>\n",
    "    <ul><li>use one-way ANOVA for research question 1</li>\n",
    "    <li>Use two-way ANOVA for research question 2</li>\n",
    "    <li>https://reneshbedre.github.io/blog/anova.html</li>\n",
    "</ul>\n",
    "</details>"
   ]
  },
  {
   "cell_type": "code",
   "execution_count": null,
   "metadata": {
    "cell_id": "00031-342603a3-912a-4ea3-8a45-db74fb00c8c0",
    "deepnote_cell_type": "code",
    "id": "gKertXzkH6-S"
   },
   "outputs": [],
   "source": [
    "#Your solution here"
   ]
  },
  {
   "cell_type": "markdown",
   "metadata": {
    "cell_id": "00032-01bd6cc9-2f82-4a28-ac5a-eb5674eb5795",
    "deepnote_cell_type": "markdown",
    "id": "CNIKNGeCH6-S"
   },
   "source": [
    "---"
   ]
  },
  {
   "cell_type": "markdown",
   "metadata": {
    "cell_id": "00033-10afc076-d73f-47a6-bb87-d7c7446f71a4",
    "deepnote_cell_type": "markdown",
    "id": "GZnU-EelH6-S"
   },
   "source": [
    "<a name='5'></a>\n",
    "## Part 6: Enhanced plotting (20 pt)\n",
    "\n",
    "Create a panel with 1) your dataframe with equal samplesize 2) a picture of a sleeping beauty, 3) the scatter plot of tired / hours of sleep with different colors for Breakfast from part 2 4) the boxplots given the p-value for the anova outcome in the title"
   ]
  },
  {
   "cell_type": "code",
   "execution_count": null,
   "metadata": {
    "cell_id": "00034-0f44e4d0-787a-44a0-a45f-0c86bc440c8b",
    "deepnote_cell_type": "code",
    "id": "Ga9ddhgUH6-T"
   },
   "outputs": [],
   "source": [
    "#your solution here"
   ]
  }
 ],
 "metadata": {
  "colab": {
   "include_colab_link": true,
   "name": "Assignment_week_05.ipynb",
   "provenance": [],
   "toc_visible": true
  },
  "deepnote_execution_queue": [],
  "deepnote_notebook_id": "e4807158-8c82-4dbc-be6b-2fded87d34a7",
  "kernelspec": {
   "display_name": "Python 3",
   "language": "python",
   "name": "python3"
  },
  "language_info": {
   "codemirror_mode": {
    "name": "ipython",
    "version": 3
   },
   "file_extension": ".py",
   "mimetype": "text/x-python",
   "name": "python",
   "nbconvert_exporter": "python",
   "pygments_lexer": "ipython3",
   "version": "3.8.5"
  }
 },
 "nbformat": 4,
 "nbformat_minor": 4
}
