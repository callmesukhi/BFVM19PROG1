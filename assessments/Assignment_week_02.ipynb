{
  "nbformat": 4,
  "nbformat_minor": 0,
  "metadata": {
    "kernelspec": {
      "display_name": "Python 3",
      "language": "python",
      "name": "python3"
    },
    "language_info": {
      "codemirror_mode": {
        "name": "ipython",
        "version": 3
      },
      "file_extension": ".py",
      "mimetype": "text/x-python",
      "name": "python",
      "nbconvert_exporter": "python",
      "pygments_lexer": "ipython3",
      "version": "3.8.1"
    },
    "colab": {
      "name": "Assignment_week_02.ipynb",
      "provenance": [],
      "toc_visible": true,
      "include_colab_link": true
    }
  },
  "cells": [
    {
      "cell_type": "markdown",
      "metadata": {
        "id": "view-in-github",
        "colab_type": "text"
      },
      "source": [
        "<a href=\"https://colab.research.google.com/github/callmesukhi/BFVM19PROG1/blob/main/assessments/Assignment_week_02.ipynb\" target=\"_parent\"><img src=\"https://colab.research.google.com/assets/colab-badge.svg\" alt=\"Open In Colab\"/></a>"
      ]
    },
    {
      "cell_type": "markdown",
      "metadata": {
        "id": "9w11GgP-KeDM"
      },
      "source": [
        "# Week 02 Assignment glucose level data\n",
        "\n",
        "Welcome to week two of this course programming 1. You will learn about time related data wrangling with pandas and you will learn to visualize with bokeh. This week will be focussed around missing data. Concretely, you will preprocess the glucose json file using interpolation to impute in order to conduct visual analysis. Learning outcomes:\n",
        "\n",
        "- load a json dataset \n",
        "- typecast the Pandas DataFrame to appropiate data types\n",
        "- inspect the dataset for quality and metadata information\n",
        "- add a column with interpolated data in Pandas DataFrame\n",
        "- perform visual analysis\n",
        "\n",
        "The assignment consists of 6 parts:\n",
        "\n",
        "- [part 1: load the data](#0)\n",
        "     - [Exercise 1.1](#ex-11)\n",
        "- [part 2: prepare for inspection](#1)\n",
        "     - [Exercise 2.1](#ex-21)\n",
        "- [part 3: inspect the data](#2)\n",
        "     - [Exercise 3.1](#ex-31)\n",
        "- [part 4: interpolate the data](#3)\n",
        "     - [Exercise 4.1](#ex-41)\n",
        "- [part 5: visualize the data](#4)\n",
        "     - [Exercise 5.1](#ex-51)\n",
        "- [part 6: Challenge](#5)\n",
        "     - [Exercise 6.1](#ex-61)\n",
        "\n",
        "Part 1 and 5 are mandatory, part 6 is optional (bonus)\n",
        "To pass the assingnment you need to a score of 60%. \n"
      ]
    },
    {
      "cell_type": "markdown",
      "metadata": {
        "id": "o8pBwLVDKeDN"
      },
      "source": [
        "<a name='0'></a>\n",
        "## Part 1: Load the data\n",
        "\n",
        "Instructions: Load the json datafile `glucose.json` into a pandas dataframe. Check your dataframe with a `.head()` to compare with the expected outcome\n",
        "\n",
        "<details>    \n",
        "<summary>\n",
        "    <font size=\"3\" color=\"darkgreen\"><b>Hints</b></font>\n",
        "</summary>\n",
        "<ul><li>json.load() method reads a file, pd.read_json converts it to a Pandas DataFrame</li>\n",
        "    <li>when loading into a Pandas DataFrame use records orientation </li>\n",
        "</ul>\n",
        "</details>\n",
        "\n",
        "<a name='ex-11'></a>\n",
        "### Code your solution"
      ]
    },
    {
      "cell_type": "code",
      "metadata": {
        "id": "RcekqMmfKeDN"
      },
      "source": [
        "# importing the essential libraries \n",
        "import pandas as pd\n",
        "import numpy as np\n",
        "import json"
      ],
      "execution_count": 3,
      "outputs": []
    },
    {
      "cell_type": "code",
      "metadata": {
        "id": "o9z9dFMpKoLj",
        "outputId": "0fb55ab7-550b-4405-cf2b-2f22bcc944e1",
        "colab": {
          "base_uri": "https://localhost:8080/",
          "height": 204
        }
      },
      "source": [
        "# opening, loading and reading the json file into pandas data frame\n",
        "load_file = json.load(open('/content/glucose.json'))\n",
        "df = pd.read_json(load_file, orient='records')\n",
        "df.head()"
      ],
      "execution_count": 4,
      "outputs": [
        {
          "output_type": "execute_result",
          "data": {
            "text/html": [
              "<div>\n",
              "<style scoped>\n",
              "    .dataframe tbody tr th:only-of-type {\n",
              "        vertical-align: middle;\n",
              "    }\n",
              "\n",
              "    .dataframe tbody tr th {\n",
              "        vertical-align: top;\n",
              "    }\n",
              "\n",
              "    .dataframe thead th {\n",
              "        text-align: right;\n",
              "    }\n",
              "</style>\n",
              "<table border=\"1\" class=\"dataframe\">\n",
              "  <thead>\n",
              "    <tr style=\"text-align: right;\">\n",
              "      <th></th>\n",
              "      <th>ID</th>\n",
              "      <th>time</th>\n",
              "      <th>recordtype</th>\n",
              "      <th>glucose</th>\n",
              "    </tr>\n",
              "  </thead>\n",
              "  <tbody>\n",
              "    <tr>\n",
              "      <th>0</th>\n",
              "      <td>2845.0</td>\n",
              "      <td>2019-04-25 00:08</td>\n",
              "      <td>1</td>\n",
              "      <td>109</td>\n",
              "    </tr>\n",
              "    <tr>\n",
              "      <th>1</th>\n",
              "      <td>2850.0</td>\n",
              "      <td>2019-04-25 00:50</td>\n",
              "      <td>1</td>\n",
              "      <td></td>\n",
              "    </tr>\n",
              "    <tr>\n",
              "      <th>2</th>\n",
              "      <td>2877.0</td>\n",
              "      <td>2019-04-25 07:02</td>\n",
              "      <td>1</td>\n",
              "      <td>123</td>\n",
              "    </tr>\n",
              "    <tr>\n",
              "      <th>3</th>\n",
              "      <td>2881.0</td>\n",
              "      <td>2019-04-25 07:34</td>\n",
              "      <td>1</td>\n",
              "      <td>158</td>\n",
              "    </tr>\n",
              "    <tr>\n",
              "      <th>4</th>\n",
              "      <td>2886.0</td>\n",
              "      <td>2019-04-25 08:19</td>\n",
              "      <td>1</td>\n",
              "      <td></td>\n",
              "    </tr>\n",
              "  </tbody>\n",
              "</table>\n",
              "</div>"
            ],
            "text/plain": [
              "       ID              time  recordtype glucose\n",
              "0  2845.0  2019-04-25 00:08           1     109\n",
              "1  2850.0  2019-04-25 00:50           1        \n",
              "2  2877.0  2019-04-25 07:02           1     123\n",
              "3  2881.0  2019-04-25 07:34           1     158\n",
              "4  2886.0  2019-04-25 08:19           1        "
            ]
          },
          "metadata": {
            "tags": []
          },
          "execution_count": 4
        }
      ]
    },
    {
      "cell_type": "markdown",
      "metadata": {
        "id": "CtnmJ7ycKeDN"
      },
      "source": [
        "#### Expected outcome: "
      ]
    },
    {
      "cell_type": "markdown",
      "metadata": {
        "id": "DzWYf4D4KeDN"
      },
      "source": [
        "       ID              time  recordtype glucose\n",
        "0  2845.0  2019-04-25 00:08           1     109\n",
        "1  2850.0  2019-04-25 00:50           1        \n",
        "2  2877.0  2019-04-25 07:02           1     123\n",
        "3  2881.0  2019-04-25 07:34           1     158\n",
        "4  2886.0  2019-04-25 08:19           1        "
      ]
    },
    {
      "cell_type": "markdown",
      "metadata": {
        "id": "ZAolrlcZKeDN"
      },
      "source": [
        "<a name='1'></a>\n",
        "## Part 2: Prepare the data\n",
        "\n",
        "Check the datatypes of your dataframe. The `glucose` field should be an integer, the `time` field should have a datetime format. If the datatypes are different you should typecast them to the right format.\n",
        "Make sure that your dataset is sorted by the time column\n",
        "\n",
        "\n",
        "<details>    \n",
        "<summary>\n",
        "    <font size=\"3\" color=\"darkgreen\"><b>Hints</b></font>\n",
        "</summary>\n",
        "<ul><li>use astype() method or pandas.DataFrame.to_datetime() for instance</li>\n",
        "    <li>make sure that the empty spaces are filled with NaN. Use errors='coerce'</li>\n",
        "    <li>set_index(), sort_index() and reset_index() are helpful to sort on index</li>\n",
        "</ul>\n",
        "</details>\n",
        "\n",
        "<a name='ex-21'></a>\n",
        "### Code your solution"
      ]
    },
    {
      "cell_type": "code",
      "metadata": {
        "id": "81fPZbOiKeDN",
        "outputId": "fd8d9a19-64b8-4f76-d662-492cb9248de3",
        "colab": {
          "base_uri": "https://localhost:8080/"
        }
      },
      "source": [
        "# coverting 'glucose' column into int64 after filling the NaN with 0's and converting 'time' column into datetime type\n",
        "df['glucose'] = pd.to_numeric(df.glucose, errors='coerce')\n",
        "df['time'] = pd.to_datetime(df.time, errors='coerce')\n",
        "df.info()"
      ],
      "execution_count": 5,
      "outputs": [
        {
          "output_type": "stream",
          "text": [
            "<class 'pandas.core.frame.DataFrame'>\n",
            "RangeIndex: 136 entries, 0 to 135\n",
            "Data columns (total 4 columns):\n",
            " #   Column      Non-Null Count  Dtype         \n",
            "---  ------      --------------  -----         \n",
            " 0   ID          136 non-null    float64       \n",
            " 1   time        136 non-null    datetime64[ns]\n",
            " 2   recordtype  136 non-null    int64         \n",
            " 3   glucose     52 non-null     float64       \n",
            "dtypes: datetime64[ns](1), float64(2), int64(1)\n",
            "memory usage: 4.4 KB\n"
          ],
          "name": "stdout"
        }
      ]
    },
    {
      "cell_type": "code",
      "metadata": {
        "id": "rjU4u1bUK22K",
        "outputId": "9efafd27-8e39-4ddb-df39-2598883ea996",
        "colab": {
          "base_uri": "https://localhost:8080/",
          "height": 204
        }
      },
      "source": [
        "# setting 'time' column as index column and sorting the data frame by 'time' column\n",
        "df = df.set_index('time')\n",
        "df = df.sort_index()\n",
        "df = df.reset_index()\n",
        "df.head()"
      ],
      "execution_count": 6,
      "outputs": [
        {
          "output_type": "execute_result",
          "data": {
            "text/html": [
              "<div>\n",
              "<style scoped>\n",
              "    .dataframe tbody tr th:only-of-type {\n",
              "        vertical-align: middle;\n",
              "    }\n",
              "\n",
              "    .dataframe tbody tr th {\n",
              "        vertical-align: top;\n",
              "    }\n",
              "\n",
              "    .dataframe thead th {\n",
              "        text-align: right;\n",
              "    }\n",
              "</style>\n",
              "<table border=\"1\" class=\"dataframe\">\n",
              "  <thead>\n",
              "    <tr style=\"text-align: right;\">\n",
              "      <th></th>\n",
              "      <th>time</th>\n",
              "      <th>ID</th>\n",
              "      <th>recordtype</th>\n",
              "      <th>glucose</th>\n",
              "    </tr>\n",
              "  </thead>\n",
              "  <tbody>\n",
              "    <tr>\n",
              "      <th>0</th>\n",
              "      <td>2019-04-25 00:08:00</td>\n",
              "      <td>2.845000e+03</td>\n",
              "      <td>1</td>\n",
              "      <td>109.0</td>\n",
              "    </tr>\n",
              "    <tr>\n",
              "      <th>1</th>\n",
              "      <td>2019-04-25 00:14:00</td>\n",
              "      <td>1.614305e+19</td>\n",
              "      <td>0</td>\n",
              "      <td>NaN</td>\n",
              "    </tr>\n",
              "    <tr>\n",
              "      <th>2</th>\n",
              "      <td>2019-04-25 00:29:00</td>\n",
              "      <td>1.614305e+19</td>\n",
              "      <td>0</td>\n",
              "      <td>NaN</td>\n",
              "    </tr>\n",
              "    <tr>\n",
              "      <th>3</th>\n",
              "      <td>2019-04-25 00:44:00</td>\n",
              "      <td>1.614305e+19</td>\n",
              "      <td>0</td>\n",
              "      <td>NaN</td>\n",
              "    </tr>\n",
              "    <tr>\n",
              "      <th>4</th>\n",
              "      <td>2019-04-25 00:50:00</td>\n",
              "      <td>2.850000e+03</td>\n",
              "      <td>1</td>\n",
              "      <td>NaN</td>\n",
              "    </tr>\n",
              "  </tbody>\n",
              "</table>\n",
              "</div>"
            ],
            "text/plain": [
              "                 time            ID  recordtype  glucose\n",
              "0 2019-04-25 00:08:00  2.845000e+03           1    109.0\n",
              "1 2019-04-25 00:14:00  1.614305e+19           0      NaN\n",
              "2 2019-04-25 00:29:00  1.614305e+19           0      NaN\n",
              "3 2019-04-25 00:44:00  1.614305e+19           0      NaN\n",
              "4 2019-04-25 00:50:00  2.850000e+03           1      NaN"
            ]
          },
          "metadata": {
            "tags": []
          },
          "execution_count": 6
        }
      ]
    },
    {
      "cell_type": "markdown",
      "metadata": {
        "id": "j0abinYKKeDN"
      },
      "source": [
        "#### Expected outcome: "
      ]
    },
    {
      "cell_type": "markdown",
      "metadata": {
        "id": "dubT1yiqKeDN"
      },
      "source": [
        "ID                     int64\n",
        "time          datetime64[ns]\n",
        "recordtype             int64\n",
        "glucose              float64\n",
        "dtype: object"
      ]
    },
    {
      "cell_type": "markdown",
      "metadata": {
        "id": "UBCgGwO5KeDN"
      },
      "source": [
        "<a name='2'></a>\n",
        "## Part 3: Inspect the data\n",
        "\n",
        "Now that we prepared the data we are going to inspect the data to get more familiar with the data. You are required to do the following\n",
        "\n",
        "- inspect the percentage missing data for glucose\n",
        "- what is the relationship between recordtype and glucose value?\n",
        "- what is the relationship between ID and glucose value?\n",
        "\n",
        "Code the solutions to your answers. Create meaningful overviews or statistics\n",
        "\n",
        "<details>    \n",
        "<summary>\n",
        "    <font size=\"3\" color=\"darkgreen\"><b>Hints</b></font>\n",
        "</summary>\n",
        "<ul><li>In the week 01 assignment some functions were explained to inspect missing values</li>\n",
        "    <li>In the week 01 assignment some functions were explained to groupby value</li>\n",
        "</ul>\n",
        "</details>\n",
        "\n",
        "<a name='ex-31'></a>\n",
        "### Code your solution"
      ]
    },
    {
      "cell_type": "code",
      "metadata": {
        "id": "IE5portOKeDN",
        "outputId": "dc41902d-10bf-4ecb-ef88-56fa76560255",
        "colab": {
          "base_uri": "https://localhost:8080/"
        }
      },
      "source": [
        "# percentage of missing values\n",
        "missing_values = df.isnull().mean()\n",
        "print(f\"Percentage of missing values is: {round((missing_values.glucose * 100), 2)}%\")\n",
        "print(f\"Result in expected format: {missing_values.glucose}\")"
      ],
      "execution_count": 16,
      "outputs": [
        {
          "output_type": "stream",
          "text": [
            "Percentage of missing values is: 61.76%\n",
            "Result in expected format: 0.6176470588235294\n"
          ],
          "name": "stdout"
        }
      ]
    },
    {
      "cell_type": "markdown",
      "metadata": {
        "id": "MaC4f3RMKeDN"
      },
      "source": [
        "#### Expected outcome percentage missing data\n",
        "0.6176470588235294"
      ]
    },
    {
      "cell_type": "markdown",
      "metadata": {
        "id": "jog7Ha-RKeDN"
      },
      "source": [
        "<a name='3'></a>\n",
        "## Part 4: Interpolate the data\n",
        "\n",
        "A lot of data is missing. Use interpolation to fill the missing values. Create a new column with the interpolated data. Take an argumentative approach. Select an interpolation method that suits the nature of the data and explain your choice. Mind you that the expected outcome of the interpolation values can differ from the example below\n",
        "\n",
        "<details>    \n",
        "<summary>\n",
        "    <font size=\"3\" color=\"darkgreen\"><b>Hints</b></font>\n",
        "</summary>\n",
        "<ul><li>use Pandas.DataFrame.interpolate() method</li>\n",
        "</ul>\n",
        "</details>\n",
        "\n",
        "<a name='ex-41'></a>\n",
        "### Code your solution"
      ]
    },
    {
      "cell_type": "code",
      "metadata": {
        "id": "DTvF0UH0KeDN",
        "outputId": "c10263bb-c483-4f1b-8949-a04b405a9ed9",
        "colab": {
          "base_uri": "https://localhost:8080/",
          "height": 419
        }
      },
      "source": [
        "df['interpolated'] = df.glucose.interpolate(method='spline', order=1).ffill()\n",
        "df\n",
        "# decide on interpolation \n",
        "# statistics section - for example: 1 hours mean or so\n",
        "\n",
        "# "
      ],
      "execution_count": 23,
      "outputs": [
        {
          "output_type": "execute_result",
          "data": {
            "text/html": [
              "<div>\n",
              "<style scoped>\n",
              "    .dataframe tbody tr th:only-of-type {\n",
              "        vertical-align: middle;\n",
              "    }\n",
              "\n",
              "    .dataframe tbody tr th {\n",
              "        vertical-align: top;\n",
              "    }\n",
              "\n",
              "    .dataframe thead th {\n",
              "        text-align: right;\n",
              "    }\n",
              "</style>\n",
              "<table border=\"1\" class=\"dataframe\">\n",
              "  <thead>\n",
              "    <tr style=\"text-align: right;\">\n",
              "      <th></th>\n",
              "      <th>time</th>\n",
              "      <th>ID</th>\n",
              "      <th>recordtype</th>\n",
              "      <th>glucose</th>\n",
              "      <th>interpolated</th>\n",
              "    </tr>\n",
              "  </thead>\n",
              "  <tbody>\n",
              "    <tr>\n",
              "      <th>0</th>\n",
              "      <td>2019-04-25 00:08:00</td>\n",
              "      <td>2.845000e+03</td>\n",
              "      <td>1</td>\n",
              "      <td>109.0</td>\n",
              "      <td>109.000000</td>\n",
              "    </tr>\n",
              "    <tr>\n",
              "      <th>1</th>\n",
              "      <td>2019-04-25 00:14:00</td>\n",
              "      <td>1.614305e+19</td>\n",
              "      <td>0</td>\n",
              "      <td>NaN</td>\n",
              "      <td>109.464647</td>\n",
              "    </tr>\n",
              "    <tr>\n",
              "      <th>2</th>\n",
              "      <td>2019-04-25 00:29:00</td>\n",
              "      <td>1.614305e+19</td>\n",
              "      <td>0</td>\n",
              "      <td>NaN</td>\n",
              "      <td>109.938597</td>\n",
              "    </tr>\n",
              "    <tr>\n",
              "      <th>3</th>\n",
              "      <td>2019-04-25 00:44:00</td>\n",
              "      <td>1.614305e+19</td>\n",
              "      <td>0</td>\n",
              "      <td>NaN</td>\n",
              "      <td>110.412547</td>\n",
              "    </tr>\n",
              "    <tr>\n",
              "      <th>4</th>\n",
              "      <td>2019-04-25 00:50:00</td>\n",
              "      <td>2.850000e+03</td>\n",
              "      <td>1</td>\n",
              "      <td>NaN</td>\n",
              "      <td>110.886497</td>\n",
              "    </tr>\n",
              "    <tr>\n",
              "      <th>...</th>\n",
              "      <td>...</td>\n",
              "      <td>...</td>\n",
              "      <td>...</td>\n",
              "      <td>...</td>\n",
              "      <td>...</td>\n",
              "    </tr>\n",
              "    <tr>\n",
              "      <th>131</th>\n",
              "      <td>2019-04-25 23:02:00</td>\n",
              "      <td>1.614305e+19</td>\n",
              "      <td>0</td>\n",
              "      <td>NaN</td>\n",
              "      <td>107.718822</td>\n",
              "    </tr>\n",
              "    <tr>\n",
              "      <th>132</th>\n",
              "      <td>2019-04-25 23:18:00</td>\n",
              "      <td>1.614305e+19</td>\n",
              "      <td>0</td>\n",
              "      <td>NaN</td>\n",
              "      <td>109.336002</td>\n",
              "    </tr>\n",
              "    <tr>\n",
              "      <th>133</th>\n",
              "      <td>2019-04-25 23:31:00</td>\n",
              "      <td>3.062000e+03</td>\n",
              "      <td>1</td>\n",
              "      <td>111.0</td>\n",
              "      <td>111.000000</td>\n",
              "    </tr>\n",
              "    <tr>\n",
              "      <th>134</th>\n",
              "      <td>2019-04-25 23:33:00</td>\n",
              "      <td>1.614305e+19</td>\n",
              "      <td>0</td>\n",
              "      <td>NaN</td>\n",
              "      <td>112.570363</td>\n",
              "    </tr>\n",
              "    <tr>\n",
              "      <th>135</th>\n",
              "      <td>2019-04-25 23:48:00</td>\n",
              "      <td>1.614305e+19</td>\n",
              "      <td>0</td>\n",
              "      <td>NaN</td>\n",
              "      <td>114.187543</td>\n",
              "    </tr>\n",
              "  </tbody>\n",
              "</table>\n",
              "<p>136 rows × 5 columns</p>\n",
              "</div>"
            ],
            "text/plain": [
              "                   time            ID  recordtype  glucose  interpolated\n",
              "0   2019-04-25 00:08:00  2.845000e+03           1    109.0    109.000000\n",
              "1   2019-04-25 00:14:00  1.614305e+19           0      NaN    109.464647\n",
              "2   2019-04-25 00:29:00  1.614305e+19           0      NaN    109.938597\n",
              "3   2019-04-25 00:44:00  1.614305e+19           0      NaN    110.412547\n",
              "4   2019-04-25 00:50:00  2.850000e+03           1      NaN    110.886497\n",
              "..                  ...           ...         ...      ...           ...\n",
              "131 2019-04-25 23:02:00  1.614305e+19           0      NaN    107.718822\n",
              "132 2019-04-25 23:18:00  1.614305e+19           0      NaN    109.336002\n",
              "133 2019-04-25 23:31:00  3.062000e+03           1    111.0    111.000000\n",
              "134 2019-04-25 23:33:00  1.614305e+19           0      NaN    112.570363\n",
              "135 2019-04-25 23:48:00  1.614305e+19           0      NaN    114.187543\n",
              "\n",
              "[136 rows x 5 columns]"
            ]
          },
          "metadata": {
            "tags": []
          },
          "execution_count": 23
        }
      ]
    },
    {
      "cell_type": "markdown",
      "metadata": {
        "id": "glZbwBKQKeDN"
      },
      "source": [
        "#### Example outcome"
      ]
    },
    {
      "cell_type": "markdown",
      "metadata": {
        "id": "i95UTZ2JKeDN"
      },
      "source": [
        "                 time                   ID  recordtype  glucose  interpolated\n",
        "0 2019-04-25 00:08:00                 2845           1    109.0    109.000000\n",
        "1 2019-04-25 00:14:00 -9223372036854775808           0      NaN    109.466667\n",
        "2 2019-04-25 00:29:00 -9223372036854775808           0      NaN    109.933333\n",
        "3 2019-04-25 00:44:00 -9223372036854775808           0      NaN    110.400000\n",
        "4 2019-04-25 00:50:00                 2850           1      NaN    110.866667"
      ]
    },
    {
      "cell_type": "markdown",
      "metadata": {
        "id": "fUApqB54KeDN"
      },
      "source": [
        "<a name='4'></a>\n",
        "## Part 5: Plot the data\n",
        "\n",
        "Create a plot with the original data and the interpolated data. Consider what the best representation is for visualisation of actual values and modelled/imputed values. An example of such a plot is given below. This plot however is not considered the best practice. \n",
        "\n",
        "<details>    \n",
        "<summary>\n",
        "    <font size=\"3\" color=\"darkgreen\"><b>Hints</b></font>\n",
        "</summary>\n",
        "<ul><li>figure(x_axis_type='datetime') automatically makes nices labels of the datetime data</li>\n",
        "</ul>\n",
        "</details>\n",
        "\n",
        "<a name='ex-51'></a>\n",
        "### Code your solution"
      ]
    },
    {
      "cell_type": "code",
      "metadata": {
        "id": "6O9OiC-DKeDN"
      },
      "source": [
        "from bokeh.io import output_notebook\n",
        "from bokeh.plotting import figure, show\n",
        "from bokeh.layouts import gridplot\n",
        "from bokeh.io import output_notebook\n",
        "from bokeh.plotting import ColumnDataSource\n",
        "output_notebook()"
      ],
      "execution_count": 17,
      "outputs": []
    },
    {
      "cell_type": "code",
      "metadata": {
        "id": "lRs72gkjKeDO",
        "outputId": "ae02e32f-01c0-44d0-cc06-6292de17da39",
        "colab": {
          "base_uri": "https://localhost:8080/",
          "height": 282
        }
      },
      "source": [
        "df.interpolated.plot()"
      ],
      "execution_count": 22,
      "outputs": [
        {
          "output_type": "execute_result",
          "data": {
            "text/plain": [
              "<matplotlib.axes._subplots.AxesSubplot at 0x7fac33e04390>"
            ]
          },
          "metadata": {
            "tags": []
          },
          "execution_count": 22
        },
        {
          "output_type": "display_data",
          "data": {
            "image/png": "[encoded data removed]",
            "text/plain": [
              "<Figure size 432x288 with 1 Axes>"
            ]
          },
          "metadata": {
            "tags": [],
            "needs_background": "light"
          }
        }
      ]
    },
    {
      "cell_type": "markdown",
      "metadata": {
        "id": "txtA-6xUKeDO"
      },
      "source": [
        "<a name='6'></a>\n",
        "## Part 6: Challenge\n",
        "\n",
        "It might even be interesting to introduce a widget in which you can select different methods to interpolate.\n",
        "1. Can you improve the interpolation by choosing an other method?\n",
        "2. Can you add an rolling mean line? \n",
        "2. Can you improve the plot by making it interactive?\n",
        "\n",
        "<a name='ex-61'></a>\n",
        "### Code your solution"
      ]
    },
    {
      "cell_type": "code",
      "metadata": {
        "id": "V2zaxmfIKeDO"
      },
      "source": [
        "from bokeh.models import CheckboxGroup\n",
        "checkbox_widget = CheckboxGroup(labels=[\"box: 1\", \"box: 2\", \"box:3\"], active=[1, 2])\n",
        "show(checkbox_widget)"
      ],
      "execution_count": null,
      "outputs": []
    }
  ]
}