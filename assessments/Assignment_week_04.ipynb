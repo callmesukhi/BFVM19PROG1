{
  "nbformat": 4,
  "nbformat_minor": 0,
  "metadata": {
    "kernelspec": {
      "display_name": "Python 3",
      "language": "python",
      "name": "python3"
    },
    "language_info": {
      "codemirror_mode": {
        "name": "ipython",
        "version": 3
      },
      "file_extension": ".py",
      "mimetype": "text/x-python",
      "name": "python",
      "nbconvert_exporter": "python",
      "pygments_lexer": "ipython3",
      "version": "3.8.1"
    },
    "colab": {
      "name": "Assignment_week_04.ipynb",
      "provenance": [],
      "toc_visible": true,
      "include_colab_link": true
    }
  },
  "cells": [
    {
      "cell_type": "markdown",
      "metadata": {
        "id": "view-in-github",
        "colab_type": "text"
      },
      "source": [
        "<a href=\"https://colab.research.google.com/github/callmesukhi/BFVM19PROG1/blob/main/assessments/Assignment_week_04.ipynb\" target=\"_parent\"><img src=\"https://colab.research.google.com/assets/colab-badge.svg\" alt=\"Open In Colab\"/></a>"
      ]
    },
    {
      "cell_type": "markdown",
      "metadata": {
        "id": "7y9NCiYwo8w9"
      },
      "source": [
        "# Week 04 Assignment weather data\n",
        "\n",
        "Welcome to week four of this course programming 1. You will to organise your data into the required format and apply smoothing. In this assignment we will work with weatherdata from the KNMI. A subset of weatherdata is for you available in the file: `KNMI_20181231.csv`. The data consist of several stations with daily weather data of several years. Your task is to make a plot similar to the plot below.\n",
        "\n",
        "\n",
        "<img src=\"https://github.com/callmesukhi/BFVM19PROG1/blob/main/assessments/images/weather.png?raw=1\" alt=\"drawing\" width=\"400\"/>\n",
        "\n",
        "\n",
        "Furthermore the plot needs the following enhancements\n",
        "\n",
        "1. proper titles and ticks\n",
        "2. a slider widget selecting a particular year or all years\n",
        "3. lines need to be smoothed\n",
        "3. legends needs to be added\n",
        "\n",
        "Use your creativity. Consider colors, alpha settings, sizes etc. \n",
        "\n",
        "Learning outcomes\n",
        "\n",
        "- load, inspect and clean a dataset \n",
        "- reformat dataframes\n",
        "- apply smoothing technologies\n",
        "- visualize timeseries data\n",
        "\n",
        "The assignment consists of 6 parts:\n",
        "\n",
        "- [part 1: load the data](#0)\n",
        "- [part 2: clean the data](#1)\n",
        "- [part 3: reformat data](#2)\n",
        "- [part 4: smooth the data](#3)\n",
        "- [part 5: visualize the data](#4)\n",
        "- [part 6: Challenge](#5)\n",
        "\n",
        "Part 1 and 5 are mandatory, part 6 is optional (bonus)\n",
        "To pass the assingnment you need to a score of 60%. \n"
      ]
    },
    {
      "cell_type": "markdown",
      "metadata": {
        "id": "C-h-aFp4o8xE"
      },
      "source": [
        "---"
      ]
    },
    {
      "cell_type": "markdown",
      "metadata": {
        "id": "ENflWKtzo8xG"
      },
      "source": [
        "<a name='0'></a>\n",
        "## Part 1: Load the data\n",
        "\n",
        "Either load the dataset `KNMI_20181231.csv` or `KNMI_20181231.txt.tsv`. The dataheaders contain spaces and are not very self explainable. Change this into more readable ones. Select data from station 270. Select only the mean, minimum and maximum temperature. The data should look something like this:\n"
      ]
    },
    {
      "cell_type": "code",
      "metadata": {
        "id": "U1T8npcRs9U0"
      },
      "source": [
        "import pandas as pd\r\n",
        "import numpy as np\r\n",
        "import yaml"
      ],
      "execution_count": 1,
      "outputs": []
    },
    {
      "cell_type": "code",
      "metadata": {
        "id": "oXgnzoj0tXWf",
        "colab": {
          "base_uri": "https://localhost:8080/",
          "height": 459
        },
        "outputId": "20becf74-db39-4513-effb-5c9fb54710c1"
      },
      "source": [
        "df = pd.read_csv('/content/KNMI_20181231.txt.tsv', sep=',', skiprows=63, parse_dates=['YYYYMMDD'])\r\n",
        "df = df.drop(df.index[0])\r\n",
        "df.rename(columns={\"# STN\":\"STATION\", \"YYYYMMDD\":\"DATE\", \"   TG\":\"Tmean\", \"   TN\":\"Tmin\", \"   TX\":\"Tmax\"}, inplace=True)\r\n",
        "df = df.drop(['   SQ', '   DR', '   RH'], axis='columns')\r\n",
        "df = df[df.STATION == 270]\r\n",
        "df = df.reset_index(drop=True)\r\n",
        "print(df.info())\r\n",
        "df.head()"
      ],
      "execution_count": 2,
      "outputs": [
        {
          "output_type": "stream",
          "text": [
            "/usr/local/lib/python3.6/dist-packages/IPython/core/interactiveshell.py:2718: DtypeWarning: Columns (0,2,3,4,5,6) have mixed types.Specify dtype option on import or set low_memory=False.\n",
            "  interactivity=interactivity, compiler=compiler, result=result)\n"
          ],
          "name": "stderr"
        },
        {
          "output_type": "stream",
          "text": [
            "<class 'pandas.core.frame.DataFrame'>\n",
            "RangeIndex: 6940 entries, 0 to 6939\n",
            "Data columns (total 5 columns):\n",
            " #   Column   Non-Null Count  Dtype         \n",
            "---  ------   --------------  -----         \n",
            " 0   STATION  6940 non-null   object        \n",
            " 1   DATE     6940 non-null   datetime64[ns]\n",
            " 2   Tmean    6940 non-null   object        \n",
            " 3   Tmin     6940 non-null   object        \n",
            " 4   Tmax     6940 non-null   object        \n",
            "dtypes: datetime64[ns](1), object(4)\n",
            "memory usage: 271.2+ KB\n",
            "None\n"
          ],
          "name": "stdout"
        },
        {
          "output_type": "execute_result",
          "data": {
            "text/html": [
              "<div>\n",
              "<style scoped>\n",
              "    .dataframe tbody tr th:only-of-type {\n",
              "        vertical-align: middle;\n",
              "    }\n",
              "\n",
              "    .dataframe tbody tr th {\n",
              "        vertical-align: top;\n",
              "    }\n",
              "\n",
              "    .dataframe thead th {\n",
              "        text-align: right;\n",
              "    }\n",
              "</style>\n",
              "<table border=\"1\" class=\"dataframe\">\n",
              "  <thead>\n",
              "    <tr style=\"text-align: right;\">\n",
              "      <th></th>\n",
              "      <th>STATION</th>\n",
              "      <th>DATE</th>\n",
              "      <th>Tmean</th>\n",
              "      <th>Tmin</th>\n",
              "      <th>Tmax</th>\n",
              "    </tr>\n",
              "  </thead>\n",
              "  <tbody>\n",
              "    <tr>\n",
              "      <th>0</th>\n",
              "      <td>270</td>\n",
              "      <td>2000-01-01</td>\n",
              "      <td>42</td>\n",
              "      <td>-4</td>\n",
              "      <td>79</td>\n",
              "    </tr>\n",
              "    <tr>\n",
              "      <th>1</th>\n",
              "      <td>270</td>\n",
              "      <td>2000-01-02</td>\n",
              "      <td>55</td>\n",
              "      <td>33</td>\n",
              "      <td>74</td>\n",
              "    </tr>\n",
              "    <tr>\n",
              "      <th>2</th>\n",
              "      <td>270</td>\n",
              "      <td>2000-01-03</td>\n",
              "      <td>74</td>\n",
              "      <td>49</td>\n",
              "      <td>89</td>\n",
              "    </tr>\n",
              "    <tr>\n",
              "      <th>3</th>\n",
              "      <td>270</td>\n",
              "      <td>2000-01-04</td>\n",
              "      <td>46</td>\n",
              "      <td>22</td>\n",
              "      <td>75</td>\n",
              "    </tr>\n",
              "    <tr>\n",
              "      <th>4</th>\n",
              "      <td>270</td>\n",
              "      <td>2000-01-05</td>\n",
              "      <td>41</td>\n",
              "      <td>14</td>\n",
              "      <td>56</td>\n",
              "    </tr>\n",
              "  </tbody>\n",
              "</table>\n",
              "</div>"
            ],
            "text/plain": [
              "  STATION       DATE  Tmean   Tmin   Tmax\n",
              "0     270 2000-01-01     42     -4     79\n",
              "1     270 2000-01-02     55     33     74\n",
              "2     270 2000-01-03     74     49     89\n",
              "3     270 2000-01-04     46     22     75\n",
              "4     270 2000-01-05     41     14     56"
            ]
          },
          "metadata": {
            "tags": []
          },
          "execution_count": 2
        }
      ]
    },
    {
      "cell_type": "markdown",
      "metadata": {
        "id": "IhyWB-sLo8xH"
      },
      "source": [
        "        station      Date  Tmean   Tmin   Tmax\n",
        "245205      270  19510101      0    -40     24\n",
        "245206      270  19510102      9     -5     19\n",
        "245207      270  19510103      5     -8     17\n",
        "245208      270  19510104      5    -15     17\n",
        "245209      270  19510105     26      6     46"
      ]
    },
    {
      "cell_type": "markdown",
      "metadata": {
        "id": "wV0DgLjuo8xJ"
      },
      "source": [
        "---"
      ]
    },
    {
      "cell_type": "markdown",
      "metadata": {
        "id": "BWv_uXZJo8xL"
      },
      "source": [
        "<a name='1'></a>\n",
        "## Part 2: Clean the data"
      ]
    },
    {
      "cell_type": "markdown",
      "metadata": {
        "id": "MELtnCcyo8xM"
      },
      "source": [
        "The data ia not clean. There are empty cells in the dataframe which needs to be replaced with NaN's and the temperature is in centidegrees which needs to be transformed into degrees. The date field needs a datetime format. For visualization convience we would like to remove the leap year. Conduct the cleaning."
      ]
    },
    {
      "cell_type": "code",
      "metadata": {
        "id": "UiYtXWC7M_Na"
      },
      "source": [
        "class color:\r\n",
        "   PURPLE = '\\033[95m'\r\n",
        "   CYAN = '\\033[96m'\r\n",
        "   DARKCYAN = '\\033[36m'\r\n",
        "   BLUE = '\\033[94m'\r\n",
        "   GREEN = '\\033[92m'\r\n",
        "   YELLOW = '\\033[93m'\r\n",
        "   RED = '\\033[91m'\r\n",
        "   BOLD = '\\033[1m'\r\n",
        "   UNDERLINE = '\\033[4m'\r\n",
        "   END = '\\033[0m'"
      ],
      "execution_count": 3,
      "outputs": []
    },
    {
      "cell_type": "code",
      "metadata": {
        "scrolled": true,
        "id": "urx1YB5Po8xN",
        "colab": {
          "base_uri": "https://localhost:8080/",
          "height": 646
        },
        "outputId": "a69a45d9-a555-4eb8-8802-bba8b77f07d4"
      },
      "source": [
        "#replace cells with spaces to NaN\n",
        "df = df.replace(r'^\\s*$', np.nan, regex=True)\n",
        "print(color.BOLD + color.UNDERLINE + \"Replaced all the empty spaces with NaNs:\" + color.END)\n",
        "print(df.isna().sum())\n",
        "print(\"\\n\")\n",
        "# #change data formats\n",
        "df['DATE'] = pd.to_datetime(df['DATE'], errors='coerce')\n",
        "df['STATION'] = pd.to_numeric(df['STATION'], errors='coerce').astype('int')\n",
        "df['Tmean'] = pd.to_numeric(df['Tmean'], errors='coerce')\n",
        "df['Tmin'] = pd.to_numeric(df['Tmin'], errors='coerce')\n",
        "df['Tmax'] = pd.to_numeric(df['Tmax'], errors='coerce')\n",
        "# #change temperatures to celcius degrees\n",
        "df['Tmean'] = df['Tmean'] / 10\n",
        "df['Tmin'] = df['Tmin'] / 10\n",
        "df['Tmax'] = df['Tmax'] / 10\n",
        "# #remove leap \n",
        "df = df[~((df['DATE'].dt.month == 2) & (df['DATE'].dt.day == 29))] \n",
        "print(color.BOLD + color.UNDERLINE + \"DataFrame after changing the data types of each column, converting the temprature to celcius, and removing the 29th feb from each leap year\" + color.END)\n",
        "print(df.info())\n",
        "print(\"\\n\")\n",
        "print(color.BOLD + color.UNDERLINE + \"Final DataFrame for station 270\" + color.END)\n",
        "df.head()\n"
      ],
      "execution_count": 4,
      "outputs": [
        {
          "output_type": "stream",
          "text": [
            "\u001b[1m\u001b[4mReplaced all the empty spaces with NaNs:\u001b[0m\n",
            "STATION    0\n",
            "DATE       0\n",
            "Tmean      0\n",
            "Tmin       0\n",
            "Tmax       0\n",
            "dtype: int64\n",
            "\n",
            "\n",
            "\u001b[1m\u001b[4mDataFrame after changing the data types of each column, converting the temprature to celcuis, and removing the 29th feb from each leap year\u001b[0m\n",
            "<class 'pandas.core.frame.DataFrame'>\n",
            "Int64Index: 6935 entries, 0 to 6939\n",
            "Data columns (total 5 columns):\n",
            " #   Column   Non-Null Count  Dtype         \n",
            "---  ------   --------------  -----         \n",
            " 0   STATION  6935 non-null   int64         \n",
            " 1   DATE     6935 non-null   datetime64[ns]\n",
            " 2   Tmean    6935 non-null   float64       \n",
            " 3   Tmin     6935 non-null   float64       \n",
            " 4   Tmax     6935 non-null   float64       \n",
            "dtypes: datetime64[ns](1), float64(3), int64(1)\n",
            "memory usage: 325.1 KB\n",
            "None\n",
            "\n",
            "\n",
            "\u001b[1m\u001b[4mFinal DataFrame for station 270\u001b[0m\n"
          ],
          "name": "stdout"
        },
        {
          "output_type": "execute_result",
          "data": {
            "text/html": [
              "<div>\n",
              "<style scoped>\n",
              "    .dataframe tbody tr th:only-of-type {\n",
              "        vertical-align: middle;\n",
              "    }\n",
              "\n",
              "    .dataframe tbody tr th {\n",
              "        vertical-align: top;\n",
              "    }\n",
              "\n",
              "    .dataframe thead th {\n",
              "        text-align: right;\n",
              "    }\n",
              "</style>\n",
              "<table border=\"1\" class=\"dataframe\">\n",
              "  <thead>\n",
              "    <tr style=\"text-align: right;\">\n",
              "      <th></th>\n",
              "      <th>STATION</th>\n",
              "      <th>DATE</th>\n",
              "      <th>Tmean</th>\n",
              "      <th>Tmin</th>\n",
              "      <th>Tmax</th>\n",
              "    </tr>\n",
              "  </thead>\n",
              "  <tbody>\n",
              "    <tr>\n",
              "      <th>0</th>\n",
              "      <td>270</td>\n",
              "      <td>2000-01-01</td>\n",
              "      <td>4.2</td>\n",
              "      <td>-0.4</td>\n",
              "      <td>7.9</td>\n",
              "    </tr>\n",
              "    <tr>\n",
              "      <th>1</th>\n",
              "      <td>270</td>\n",
              "      <td>2000-01-02</td>\n",
              "      <td>5.5</td>\n",
              "      <td>3.3</td>\n",
              "      <td>7.4</td>\n",
              "    </tr>\n",
              "    <tr>\n",
              "      <th>2</th>\n",
              "      <td>270</td>\n",
              "      <td>2000-01-03</td>\n",
              "      <td>7.4</td>\n",
              "      <td>4.9</td>\n",
              "      <td>8.9</td>\n",
              "    </tr>\n",
              "    <tr>\n",
              "      <th>3</th>\n",
              "      <td>270</td>\n",
              "      <td>2000-01-04</td>\n",
              "      <td>4.6</td>\n",
              "      <td>2.2</td>\n",
              "      <td>7.5</td>\n",
              "    </tr>\n",
              "    <tr>\n",
              "      <th>4</th>\n",
              "      <td>270</td>\n",
              "      <td>2000-01-05</td>\n",
              "      <td>4.1</td>\n",
              "      <td>1.4</td>\n",
              "      <td>5.6</td>\n",
              "    </tr>\n",
              "  </tbody>\n",
              "</table>\n",
              "</div>"
            ],
            "text/plain": [
              "   STATION       DATE  Tmean  Tmin  Tmax\n",
              "0      270 2000-01-01    4.2  -0.4   7.9\n",
              "1      270 2000-01-02    5.5   3.3   7.4\n",
              "2      270 2000-01-03    7.4   4.9   8.9\n",
              "3      270 2000-01-04    4.6   2.2   7.5\n",
              "4      270 2000-01-05    4.1   1.4   5.6"
            ]
          },
          "metadata": {
            "tags": []
          },
          "execution_count": 4
        }
      ]
    },
    {
      "cell_type": "markdown",
      "metadata": {
        "id": "snHGtTobo8xO"
      },
      "source": [
        "<details>    \n",
        "<summary>\n",
        "    <font size=\"3\" color=\"darkgreen\"><b>Hints</b></font>\n",
        "</summary>\n",
        "<ul><li>pd.to_datetime(df['Date'].astype(str), format='%Y%m%d')</li>\n",
        "    <li>regex for empty cells = `^\\s*$` </li>\n",
        "    <li>remove month == 2 & day == 29</li> \n",
        "</ul>\n",
        "</details>"
      ]
    },
    {
      "cell_type": "code",
      "metadata": {
        "id": "Tc7ilMb3o8xP",
        "colab": {
          "base_uri": "https://localhost:8080/"
        },
        "outputId": "dc42dfda-23e8-4b4c-c789-cd7491209823"
      },
      "source": [
        "#Test your outcome\n",
        "df.info()"
      ],
      "execution_count": 5,
      "outputs": [
        {
          "output_type": "stream",
          "text": [
            "<class 'pandas.core.frame.DataFrame'>\n",
            "Int64Index: 6935 entries, 0 to 6939\n",
            "Data columns (total 5 columns):\n",
            " #   Column   Non-Null Count  Dtype         \n",
            "---  ------   --------------  -----         \n",
            " 0   STATION  6935 non-null   int64         \n",
            " 1   DATE     6935 non-null   datetime64[ns]\n",
            " 2   Tmean    6935 non-null   float64       \n",
            " 3   Tmin     6935 non-null   float64       \n",
            " 4   Tmax     6935 non-null   float64       \n",
            "dtypes: datetime64[ns](1), float64(3), int64(1)\n",
            "memory usage: 325.1 KB\n"
          ],
          "name": "stdout"
        }
      ]
    },
    {
      "cell_type": "markdown",
      "metadata": {
        "id": "kXN5pXpTo8xQ"
      },
      "source": [
        "### Expected outcome"
      ]
    },
    {
      "cell_type": "markdown",
      "metadata": {
        "id": "2bCI0gJHo8xR"
      },
      "source": [
        "DatetimeIndex: 24820 entries, 1951-01-01 to 2018-12-31\n",
        "Data columns (total 5 columns):\n",
        " #   Column   Non-Null Count  Dtype         \n",
        "---  ------   --------------  -----         \n",
        " 0   station  24820 non-null  int64         \n",
        " 1   Date     24820 non-null  datetime64[ns]\n",
        " 2   Tmean    24819 non-null  float64       \n",
        " 3   Tmin     24819 non-null  float64       \n",
        " 4   Tmax     24819 non-null  float64       \n",
        "dtypes: datetime64[ns](1), float64(3), int64(1)\n",
        "memory usage: 1.1 MB"
      ]
    },
    {
      "cell_type": "markdown",
      "metadata": {
        "id": "1v15DIkXo8xS"
      },
      "source": [
        "---"
      ]
    },
    {
      "cell_type": "markdown",
      "metadata": {
        "id": "W0FmqqfWo8xT"
      },
      "source": [
        "<a name='2'></a>\n",
        "## Part 3: Reform your data\n",
        "\n",
        "First we will split the data in data from 2018 and data before 2018. Best is to split this in two dataframes. \n",
        "Next we need for the non 2018 data the minimum values for each day and the maximum values for each day. So we look for the minimum value out of all january-01 minimum values (regardless the year). Create a dataframe with 365 days containing the ultimate minimum and the ultimate maximum per day. \n"
      ]
    },
    {
      "cell_type": "code",
      "metadata": {
        "id": "3w7qEAc3THBJ"
      },
      "source": [
        "df_before_2018 = df[df.DATE.dt.year != 2018].set_index('DATE')\r\n",
        "df_2018 = df[df.DATE.dt.year == 2018].reset_index(drop = True).set_index('DATE')"
      ],
      "execution_count": 11,
      "outputs": []
    },
    {
      "cell_type": "code",
      "metadata": {
        "id": "LH2B7Pgzo8xU"
      },
      "source": [
        "def month_day(df_before_2018):\n",
        "  df_before_2018_Tmin =  df_before_2018.groupby([df_before_2018.index.month, df_before_2018.index.day]).Tmin.min()\n",
        "  df_before_2018_Tmax =  df_before_2018.groupby([df_before_2018.index.month, df_before_2018.index.day]).Tmax.max()\n",
        "  print(df_before_2018_Tmin)"
      ],
      "execution_count": 12,
      "outputs": []
    },
    {
      "cell_type": "code",
      "metadata": {
        "id": "QCw0F4kFo8xU",
        "colab": {
          "base_uri": "https://localhost:8080/"
        },
        "outputId": "c6d23870-908a-4600-a6fd-5f76eda00b51"
      },
      "source": [
        "#Test your code\n",
        "def test_reformed(df):\n",
        "    df = df[(df.index.year > 2007) & (df.index.year < 2018)]\n",
        "    month_day(df)\n",
        "\n",
        "test_reformed(df_before_2018)"
      ],
      "execution_count": 13,
      "outputs": [
        {
          "output_type": "stream",
          "text": [
            "DATE  DATE\n",
            "1     1       -5.8\n",
            "      2       -7.5\n",
            "      3      -12.6\n",
            "      4       -4.1\n",
            "      5       -6.0\n",
            "              ... \n",
            "12    27      -4.8\n",
            "      28      -4.2\n",
            "      29      -6.7\n",
            "      30     -10.2\n",
            "      31     -10.6\n",
            "Name: Tmin, Length: 365, dtype: float64\n"
          ],
          "name": "stdout"
        }
      ]
    },
    {
      "cell_type": "markdown",
      "metadata": {
        "id": "XrsQJWiyo8xV"
      },
      "source": [
        "<details>    \n",
        "<summary>\n",
        "    <font size=\"3\" color=\"darkgreen\"><b>Hints</b></font>\n",
        "</summary>\n",
        "<ul><li>use the dt.month and dt.day to groupby</li>\n",
        "</ul>\n",
        "</details>"
      ]
    },
    {
      "cell_type": "markdown",
      "metadata": {
        "id": "4_166MRGo8xW"
      },
      "source": [
        "### Expected outcome\n",
        "Note, the layout or names my differ, but the length should be 365 and the minimum values should be the same"
      ]
    },
    {
      "cell_type": "markdown",
      "metadata": {
        "id": "w0z5eg8co8xW"
      },
      "source": [
        "month  day\n",
        "1      1      -5.8\n",
        "       2      -7.5\n",
        "       3     -12.6\n",
        "       4      -4.1\n",
        "       5      -6.0\n",
        "              ... \n",
        "12     27     -4.8\n",
        "       28     -4.2\n",
        "       29     -6.7\n",
        "       30    -10.2\n",
        "       31    -10.6\n",
        "Name: Tmin, Length: 365, dtype: float64"
      ]
    },
    {
      "cell_type": "markdown",
      "metadata": {
        "id": "RVus0QOqo8xX"
      },
      "source": [
        "---"
      ]
    },
    {
      "cell_type": "markdown",
      "metadata": {
        "id": "NmKWsZUso8xZ"
      },
      "source": [
        "<a name='3'></a>\n",
        "## Part 4: Smooth the data\n",
        "\n",
        "Make a function that takes an array or a dataframe column and returns an array of smoothed data. Explain in words why you choose a certain smoothing algoritm\n"
      ]
    },
    {
      "cell_type": "code",
      "metadata": {
        "id": "VzyyoYcX-9cc"
      },
      "source": [
        "def smooth_data(df_column):\r\n",
        "  import numpy as np\r\n",
        "  rft = np.fft.rfft(df_column)\r\n",
        "  rft[5:0] = 0\r\n",
        "  smooth_column = np.fft.irfft(rft)\r\n",
        "  return smooth_column"
      ],
      "execution_count": 61,
      "outputs": []
    },
    {
      "cell_type": "code",
      "metadata": {
        "id": "nC0W3eXvo8xa",
        "colab": {
          "base_uri": "https://localhost:8080/",
          "height": 265
        },
        "outputId": "11ad0073-909c-4630-f3cd-95af00c8f5c2"
      },
      "source": [
        "import matplotlib.pyplot as plt\n",
        "\n",
        "x1 = np.arange(365)\n",
        "x2 = np.arange(364)\n",
        "rft_min = np.fft.rfft(df_before_2018_Tmin)\n",
        "rft_max = np.fft.rfft(df_before_2018_Tmax)\n",
        "rft_mean = np.fft.rfft(df_2018.Tmean)\n",
        "rft_min[5:] = 0 \n",
        "rft_max[5:] = 0 \n",
        "rft_mean[5:] = 0\n",
        "y_smooth_min = np.fft.irfft(rft_min)\n",
        "y_smooth_max = np.fft.irfft(rft_max)\n",
        "y_smooth_mean = np.fft.irfft(rft_mean)\n",
        "\n",
        "plt.plot(x1, df_before_2018_Tmin, color='gray')\n",
        "plt.plot(x1, df_before_2018_Tmax, color='gray')\n",
        "plt.plot(x1, df_2018.Tmean)\n",
        "plt.plot(x2, y_smooth_min, label='Smoothed Min')\n",
        "plt.plot(x2, y_smooth_max, label='Smoothed Max')\n",
        "plt.plot(x2, y_smooth_mean, label='Smoothed 2018')\n",
        "\n",
        "\n",
        "plt.fill_between(x1, df_before_2018_Tmin, df_before_2018_Tmax,\n",
        "                 facecolor=\"gray\") # The fill color\n",
        "\n",
        "plt.legend(loc=0)\n",
        "plt.show()"
      ],
      "execution_count": 52,
      "outputs": [
        {
          "output_type": "display_data",
          "data": {
            "image/png": "[encoded data removed]",
            "text/plain": [
              "<Figure size 432x288 with 1 Axes>"
            ]
          },
          "metadata": {
            "tags": [],
            "needs_background": "light"
          }
        }
      ]
    },
    {
      "cell_type": "markdown",
      "metadata": {
        "id": "xWedUjJoo8xc"
      },
      "source": [
        "---"
      ]
    },
    {
      "cell_type": "markdown",
      "metadata": {
        "id": "d4_S1JdCo8xd"
      },
      "source": [
        "<a name='4'></a>\n",
        "## Part 5: Visualize the data"
      ]
    },
    {
      "cell_type": "markdown",
      "metadata": {
        "id": "6tTPKz5Ho8xe"
      },
      "source": [
        "Plot the mean temperature of the year 2018. Create a shaded band with the ultimate minimum values and the ultimate maximum values from the multi-year dataset. Add labels, titles and legends. Use proper ranges. Be creative to make the plot attractive. \n",
        "\n"
      ]
    },
    {
      "cell_type": "markdown",
      "metadata": {
        "id": "xFz8Ve8Eo8xf"
      },
      "source": [
        "<details>    \n",
        "<summary>\n",
        "    <font size=\"3\" color=\"darkgreen\"><b>Hints</b></font>\n",
        "</summary>\n",
        "<ul><li>use from bokeh.models import Band</li>\n",
        "    <li>use ColumnDataSource to parse data arrays</li>\n",
        "    <li>look for xaxis tick formatters</li>\n",
        "</ul>\n",
        "</details>"
      ]
    },
    {
      "cell_type": "code",
      "metadata": {
        "id": "gJykaAwSz5Kr"
      },
      "source": [
        "from bokeh.io import output_notebook, curdoc\r\n",
        "from bokeh.plotting import figure, show\r\n",
        "from bokeh.layouts import gridplot, column\r\n",
        "from bokeh.models import Select, ColumnDataSource, Band, CheckboxGroup, Legend, LegendItem\r\n",
        "from bokeh.models.widgets import Panel, Tabs\r\n",
        "output_notebook()"
      ],
      "execution_count": 54,
      "outputs": []
    },
    {
      "cell_type": "code",
      "metadata": {
        "id": "Sq0OQsPQ7DIb",
        "outputId": "034fbf95-afe3-4700-8de0-a0d734846136",
        "colab": {
          "base_uri": "https://localhost:8080/",
          "height": 854
        }
      },
      "source": [
        "p = figure(title= \"Weather Data for Station 270\", plot_width = 800, plot_height = 800 , x_range=(0,400), y_range=(0, 70))\r\n",
        "\r\n",
        "source = ColumnDataSource({'days': np.arange(365), 'min': df_before_2018_Tmin , 'max': df_before_2018_Tmax , 'mean': df_2018.Tmean, 'smooth_min': smooth_data(df_before_2018_Tmin), 'smooth_max': smooth_data(df_before_2018_Tmax), 'smooth_mean': smooth_data(df_2018.Tmean)})\r\n",
        "\r\n",
        "band = Band(base = 'days', lower = 'min' , upper='max', source=source, fill_color = 'gray')\r\n",
        "\r\n",
        "# legend = Legend(items=[LegendItem(label=\" Min and max Temp before 2018\", renderers=[r], index=0),LegendItem(label=\"red\", renderers=[r], index=1),])\r\n",
        "\r\n",
        "p.add_layout(band)\r\n",
        "# p.add_layout(legend)\r\n",
        "\r\n",
        "# p.line(x='days', y='mean', source=source, legend_label = 'Average Temp 2018')\r\n",
        "p.line(x=np.arange(364), y = smooth_data(df_2018.Tmean), legend_label = 'Smooth Avg temp 2018')\r\n",
        "\r\n",
        "p.xaxis.axis_label = 'Days'\r\n",
        "p.yaxis.axis_label = 'Temprature (In Degree Celcius)'\r\n",
        "\r\n",
        "\r\n",
        "show(p)"
      ],
      "execution_count": 76,
      "outputs": [
        {
          "output_type": "stream",
          "text": [
            "BokehUserWarning: ColumnDataSource's columns must be of the same length. Current lengths: ('days', 365), ('max', 365), ('mean', 365), ('min', 365), ('smooth_max', 364), ('smooth_mean', 364), ('smooth_min', 364)\n"
          ],
          "name": "stderr"
        },
        {
          "output_type": "display_data",
          "data": {
            "application/javascript": [
              "\n",
              "(function(root) {\n",
              "  function now() {\n",
              "    return new Date();\n",
              "  }\n",
              "\n",
              "  var force = true;\n",
              "\n",
              "  if (typeof root._bokeh_onload_callbacks === \"undefined\" || force === true) {\n",
              "    root._bokeh_onload_callbacks = [];\n",
              "    root._bokeh_is_loading = undefined;\n",
              "  }\n",
              "\n",
              "  var JS_MIME_TYPE = 'application/javascript';\n",
              "  var HTML_MIME_TYPE = 'text/html';\n",
              "  var EXEC_MIME_TYPE = 'application/vnd.bokehjs_exec.v0+json';\n",
              "  var CLASS_NAME = 'output_bokeh rendered_html';\n",
              "\n",
              "  /**\n",
              "   * Render data to the DOM node\n",
              "   */\n",
              "  function render(props, node) {\n",
              "    var script = document.createElement(\"script\");\n",
              "    node.appendChild(script);\n",
              "  }\n",
              "\n",
              "  /**\n",
              "   * Handle when an output is cleared or removed\n",
              "   */\n",
              "  function handleClearOutput(event, handle) {\n",
              "    var cell = handle.cell;\n",
              "\n",
              "    var id = cell.output_area._bokeh_element_id;\n",
              "    var server_id = cell.output_area._bokeh_server_id;\n",
              "    // Clean up Bokeh references\n",
              "    if (id != null && id in Bokeh.index) {\n",
              "      Bokeh.index[id].model.document.clear();\n",
              "      delete Bokeh.index[id];\n",
              "    }\n",
              "\n",
              "    if (server_id !== undefined) {\n",
              "      // Clean up Bokeh references\n",
              "      var cmd = \"from bokeh.io.state import curstate; print(curstate().uuid_to_server['\" + server_id + \"'].get_sessions()[0].document.roots[0]._id)\";\n",
              "      cell.notebook.kernel.execute(cmd, {\n",
              "        iopub: {\n",
              "          output: function(msg) {\n",
              "            var id = msg.content.text.trim();\n",
              "            if (id in Bokeh.index) {\n",
              "              Bokeh.index[id].model.document.clear();\n",
              "              delete Bokeh.index[id];\n",
              "            }\n",
              "          }\n",
              "        }\n",
              "      });\n",
              "      // Destroy server and session\n",
              "      var cmd = \"import bokeh.io.notebook as ion; ion.destroy_server('\" + server_id + \"')\";\n",
              "      cell.notebook.kernel.execute(cmd);\n",
              "    }\n",
              "  }\n",
              "\n",
              "  /**\n",
              "   * Handle when a new output is added\n",
              "   */\n",
              "  function handleAddOutput(event, handle) {\n",
              "    var output_area = handle.output_area;\n",
              "    var output = handle.output;\n",
              "\n",
              "    // limit handleAddOutput to display_data with EXEC_MIME_TYPE content only\n",
              "    if ((output.output_type != \"display_data\") || (!output.data.hasOwnProperty(EXEC_MIME_TYPE))) {\n",
              "      return\n",
              "    }\n",
              "\n",
              "    var toinsert = output_area.element.find(\".\" + CLASS_NAME.split(' ')[0]);\n",
              "\n",
              "    if (output.metadata[EXEC_MIME_TYPE][\"id\"] !== undefined) {\n",
              "      toinsert[toinsert.length - 1].firstChild.textContent = output.data[JS_MIME_TYPE];\n",
              "      // store reference to embed id on output_area\n",
              "      output_area._bokeh_element_id = output.metadata[EXEC_MIME_TYPE][\"id\"];\n",
              "    }\n",
              "    if (output.metadata[EXEC_MIME_TYPE][\"server_id\"] !== undefined) {\n",
              "      var bk_div = document.createElement(\"div\");\n",
              "      bk_div.innerHTML = output.data[HTML_MIME_TYPE];\n",
              "      var script_attrs = bk_div.children[0].attributes;\n",
              "      for (var i = 0; i < script_attrs.length; i++) {\n",
              "        toinsert[toinsert.length - 1].firstChild.setAttribute(script_attrs[i].name, script_attrs[i].value);\n",
              "        toinsert[toinsert.length - 1].firstChild.textContent = bk_div.children[0].textContent\n",
              "      }\n",
              "      // store reference to server id on output_area\n",
              "      output_area._bokeh_server_id = output.metadata[EXEC_MIME_TYPE][\"server_id\"];\n",
              "    }\n",
              "  }\n",
              "\n",
              "  function register_renderer(events, OutputArea) {\n",
              "\n",
              "    function append_mime(data, metadata, element) {\n",
              "      // create a DOM node to render to\n",
              "      var toinsert = this.create_output_subarea(\n",
              "        metadata,\n",
              "        CLASS_NAME,\n",
              "        EXEC_MIME_TYPE\n",
              "      );\n",
              "      this.keyboard_manager.register_events(toinsert);\n",
              "      // Render to node\n",
              "      var props = {data: data, metadata: metadata[EXEC_MIME_TYPE]};\n",
              "      render(props, toinsert[toinsert.length - 1]);\n",
              "      element.append(toinsert);\n",
              "      return toinsert\n",
              "    }\n",
              "\n",
              "    /* Handle when an output is cleared or removed */\n",
              "    events.on('clear_output.CodeCell', handleClearOutput);\n",
              "    events.on('delete.Cell', handleClearOutput);\n",
              "\n",
              "    /* Handle when a new output is added */\n",
              "    events.on('output_added.OutputArea', handleAddOutput);\n",
              "\n",
              "    /**\n",
              "     * Register the mime type and append_mime function with output_area\n",
              "     */\n",
              "    OutputArea.prototype.register_mime_type(EXEC_MIME_TYPE, append_mime, {\n",
              "      /* Is output safe? */\n",
              "      safe: true,\n",
              "      /* Index of renderer in `output_area.display_order` */\n",
              "      index: 0\n",
              "    });\n",
              "  }\n",
              "\n",
              "  // register the mime type if in Jupyter Notebook environment and previously unregistered\n",
              "  if (root.Jupyter !== undefined) {\n",
              "    var events = require('base/js/events');\n",
              "    var OutputArea = require('notebook/js/outputarea').OutputArea;\n",
              "\n",
              "    if (OutputArea.prototype.mime_types().indexOf(EXEC_MIME_TYPE) == -1) {\n",
              "      register_renderer(events, OutputArea);\n",
              "    }\n",
              "  }\n",
              "\n",
              "  \n",
              "  if (typeof (root._bokeh_timeout) === \"undefined\" || force === true) {\n",
              "    root._bokeh_timeout = Date.now() + 5000;\n",
              "    root._bokeh_failed_load = false;\n",
              "  }\n",
              "\n",
              "  var NB_LOAD_WARNING = {'data': {'text/html':\n",
              "     \"<div style='background-color: #fdd'>\\n\"+\n",
              "     \"<p>\\n\"+\n",
              "     \"BokehJS does not appear to have successfully loaded. If loading BokehJS from CDN, this \\n\"+\n",
              "     \"may be due to a slow or bad network connection. Possible fixes:\\n\"+\n",
              "     \"</p>\\n\"+\n",
              "     \"<ul>\\n\"+\n",
              "     \"<li>re-rerun `output_notebook()` to attempt to load from CDN again, or</li>\\n\"+\n",
              "     \"<li>use INLINE resources instead, as so:</li>\\n\"+\n",
              "     \"</ul>\\n\"+\n",
              "     \"<code>\\n\"+\n",
              "     \"from bokeh.resources import INLINE\\n\"+\n",
              "     \"output_notebook(resources=INLINE)\\n\"+\n",
              "     \"</code>\\n\"+\n",
              "     \"</div>\"}};\n",
              "\n",
              "  function display_loaded() {\n",
              "    var el = document.getElementById(null);\n",
              "    if (el != null) {\n",
              "      el.textContent = \"BokehJS is loading...\";\n",
              "    }\n",
              "    if (root.Bokeh !== undefined) {\n",
              "      if (el != null) {\n",
              "        el.textContent = \"BokehJS \" + root.Bokeh.version + \" successfully loaded.\";\n",
              "      }\n",
              "    } else if (Date.now() < root._bokeh_timeout) {\n",
              "      setTimeout(display_loaded, 100)\n",
              "    }\n",
              "  }\n",
              "\n",
              "\n",
              "  function run_callbacks() {\n",
              "    try {\n",
              "      root._bokeh_onload_callbacks.forEach(function(callback) {\n",
              "        if (callback != null)\n",
              "          callback();\n",
              "      });\n",
              "    } finally {\n",
              "      delete root._bokeh_onload_callbacks\n",
              "    }\n",
              "    console.debug(\"Bokeh: all callbacks have finished\");\n",
              "  }\n",
              "\n",
              "  function load_libs(css_urls, js_urls, callback) {\n",
              "    if (css_urls == null) css_urls = [];\n",
              "    if (js_urls == null) js_urls = [];\n",
              "\n",
              "    root._bokeh_onload_callbacks.push(callback);\n",
              "    if (root._bokeh_is_loading > 0) {\n",
              "      console.debug(\"Bokeh: BokehJS is being loaded, scheduling callback at\", now());\n",
              "      return null;\n",
              "    }\n",
              "    if (js_urls == null || js_urls.length === 0) {\n",
              "      run_callbacks();\n",
              "      return null;\n",
              "    }\n",
              "    console.debug(\"Bokeh: BokehJS not loaded, scheduling load and callback at\", now());\n",
              "    root._bokeh_is_loading = css_urls.length + js_urls.length;\n",
              "\n",
              "    function on_load() {\n",
              "      root._bokeh_is_loading--;\n",
              "      if (root._bokeh_is_loading === 0) {\n",
              "        console.debug(\"Bokeh: all BokehJS libraries/stylesheets loaded\");\n",
              "        run_callbacks()\n",
              "      }\n",
              "    }\n",
              "\n",
              "    function on_error() {\n",
              "      console.error(\"failed to load \" + url);\n",
              "    }\n",
              "\n",
              "    for (var i = 0; i < css_urls.length; i++) {\n",
              "      var url = css_urls[i];\n",
              "      const element = document.createElement(\"link\");\n",
              "      element.onload = on_load;\n",
              "      element.onerror = on_error;\n",
              "      element.rel = \"stylesheet\";\n",
              "      element.type = \"text/css\";\n",
              "      element.href = url;\n",
              "      console.debug(\"Bokeh: injecting link tag for BokehJS stylesheet: \", url);\n",
              "      document.body.appendChild(element);\n",
              "    }\n",
              "\n",
              "    const hashes = {\"https://cdn.bokeh.org/bokeh/release/bokeh-2.1.1.min.js\": \"kLr4fYcqcSpbuI95brIH3vnnYCquzzSxHPU6XGQCIkQRGJwhg0StNbj1eegrHs12\", \"https://cdn.bokeh.org/bokeh/release/bokeh-widgets-2.1.1.min.js\": \"xIGPmVtaOm+z0BqfSOMn4lOR6ciex448GIKG4eE61LsAvmGj48XcMQZtKcE/UXZe\", \"https://cdn.bokeh.org/bokeh/release/bokeh-tables-2.1.1.min.js\": \"Dc9u1wF/0zApGIWoBbH77iWEHtdmkuYWG839Uzmv8y8yBLXebjO9ZnERsde5Ln/P\", \"https://cdn.bokeh.org/bokeh/release/bokeh-gl-2.1.1.min.js\": \"cT9JaBz7GiRXdENrJLZNSC6eMNF3nh3fa5fTF51Svp+ukxPdwcU5kGXGPBgDCa2j\"};\n",
              "\n",
              "    for (var i = 0; i < js_urls.length; i++) {\n",
              "      var url = js_urls[i];\n",
              "      var element = document.createElement('script');\n",
              "      element.onload = on_load;\n",
              "      element.onerror = on_error;\n",
              "      element.async = false;\n",
              "      element.src = url;\n",
              "      if (url in hashes) {\n",
              "        element.crossOrigin = \"anonymous\";\n",
              "        element.integrity = \"sha384-\" + hashes[url];\n",
              "      }\n",
              "      console.debug(\"Bokeh: injecting script tag for BokehJS library: \", url);\n",
              "      document.head.appendChild(element);\n",
              "    }\n",
              "  };\n",
              "\n",
              "  function inject_raw_css(css) {\n",
              "    const element = document.createElement(\"style\");\n",
              "    element.appendChild(document.createTextNode(css));\n",
              "    document.body.appendChild(element);\n",
              "  }\n",
              "\n",
              "  \n",
              "  var js_urls = [\"https://cdn.bokeh.org/bokeh/release/bokeh-2.1.1.min.js\", \"https://cdn.bokeh.org/bokeh/release/bokeh-widgets-2.1.1.min.js\", \"https://cdn.bokeh.org/bokeh/release/bokeh-tables-2.1.1.min.js\", \"https://cdn.bokeh.org/bokeh/release/bokeh-gl-2.1.1.min.js\"];\n",
              "  var css_urls = [];\n",
              "  \n",
              "\n",
              "  var inline_js = [\n",
              "    function(Bokeh) {\n",
              "      Bokeh.set_log_level(\"info\");\n",
              "    },\n",
              "    function(Bokeh) {\n",
              "    \n",
              "    \n",
              "    }\n",
              "  ];\n",
              "\n",
              "  function run_inline_js() {\n",
              "    \n",
              "    if (root.Bokeh !== undefined || force === true) {\n",
              "      \n",
              "    for (var i = 0; i < inline_js.length; i++) {\n",
              "      inline_js[i].call(root, root.Bokeh);\n",
              "    }\n",
              "    } else if (Date.now() < root._bokeh_timeout) {\n",
              "      setTimeout(run_inline_js, 100);\n",
              "    } else if (!root._bokeh_failed_load) {\n",
              "      console.log(\"Bokeh: BokehJS failed to load within specified timeout.\");\n",
              "      root._bokeh_failed_load = true;\n",
              "    } else if (force !== true) {\n",
              "      var cell = $(document.getElementById(null)).parents('.cell').data().cell;\n",
              "      cell.output_area.append_execute_result(NB_LOAD_WARNING)\n",
              "    }\n",
              "\n",
              "  }\n",
              "\n",
              "  if (root._bokeh_is_loading === 0) {\n",
              "    console.debug(\"Bokeh: BokehJS loaded, going straight to plotting\");\n",
              "    run_inline_js();\n",
              "  } else {\n",
              "    load_libs(css_urls, js_urls, function() {\n",
              "      console.debug(\"Bokeh: BokehJS plotting callback run at\", now());\n",
              "      run_inline_js();\n",
              "    });\n",
              "  }\n",
              "}(window));"
            ],
            "application/vnd.bokehjs_load.v0+json": "\n(function(root) {\n  function now() {\n    return new Date();\n  }\n\n  var force = true;\n\n  if (typeof root._bokeh_onload_callbacks === \"undefined\" || force === true) {\n    root._bokeh_onload_callbacks = [];\n    root._bokeh_is_loading = undefined;\n  }\n\n  \n\n  \n  if (typeof (root._bokeh_timeout) === \"undefined\" || force === true) {\n    root._bokeh_timeout = Date.now() + 5000;\n    root._bokeh_failed_load = false;\n  }\n\n  var NB_LOAD_WARNING = {'data': {'text/html':\n     \"<div style='background-color: #fdd'>\\n\"+\n     \"<p>\\n\"+\n     \"BokehJS does not appear to have successfully loaded. If loading BokehJS from CDN, this \\n\"+\n     \"may be due to a slow or bad network connection. Possible fixes:\\n\"+\n     \"</p>\\n\"+\n     \"<ul>\\n\"+\n     \"<li>re-rerun `output_notebook()` to attempt to load from CDN again, or</li>\\n\"+\n     \"<li>use INLINE resources instead, as so:</li>\\n\"+\n     \"</ul>\\n\"+\n     \"<code>\\n\"+\n     \"from bokeh.resources import INLINE\\n\"+\n     \"output_notebook(resources=INLINE)\\n\"+\n     \"</code>\\n\"+\n     \"</div>\"}};\n\n  function display_loaded() {\n    var el = document.getElementById(null);\n    if (el != null) {\n      el.textContent = \"BokehJS is loading...\";\n    }\n    if (root.Bokeh !== undefined) {\n      if (el != null) {\n        el.textContent = \"BokehJS \" + root.Bokeh.version + \" successfully loaded.\";\n      }\n    } else if (Date.now() < root._bokeh_timeout) {\n      setTimeout(display_loaded, 100)\n    }\n  }\n\n\n  function run_callbacks() {\n    try {\n      root._bokeh_onload_callbacks.forEach(function(callback) {\n        if (callback != null)\n          callback();\n      });\n    } finally {\n      delete root._bokeh_onload_callbacks\n    }\n    console.debug(\"Bokeh: all callbacks have finished\");\n  }\n\n  function load_libs(css_urls, js_urls, callback) {\n    if (css_urls == null) css_urls = [];\n    if (js_urls == null) js_urls = [];\n\n    root._bokeh_onload_callbacks.push(callback);\n    if (root._bokeh_is_loading > 0) {\n      console.debug(\"Bokeh: BokehJS is being loaded, scheduling callback at\", now());\n      return null;\n    }\n    if (js_urls == null || js_urls.length === 0) {\n      run_callbacks();\n      return null;\n    }\n    console.debug(\"Bokeh: BokehJS not loaded, scheduling load and callback at\", now());\n    root._bokeh_is_loading = css_urls.length + js_urls.length;\n\n    function on_load() {\n      root._bokeh_is_loading--;\n      if (root._bokeh_is_loading === 0) {\n        console.debug(\"Bokeh: all BokehJS libraries/stylesheets loaded\");\n        run_callbacks()\n      }\n    }\n\n    function on_error() {\n      console.error(\"failed to load \" + url);\n    }\n\n    for (var i = 0; i < css_urls.length; i++) {\n      var url = css_urls[i];\n      const element = document.createElement(\"link\");\n      element.onload = on_load;\n      element.onerror = on_error;\n      element.rel = \"stylesheet\";\n      element.type = \"text/css\";\n      element.href = url;\n      console.debug(\"Bokeh: injecting link tag for BokehJS stylesheet: \", url);\n      document.body.appendChild(element);\n    }\n\n    const hashes = {\"https://cdn.bokeh.org/bokeh/release/bokeh-2.1.1.min.js\": \"kLr4fYcqcSpbuI95brIH3vnnYCquzzSxHPU6XGQCIkQRGJwhg0StNbj1eegrHs12\", \"https://cdn.bokeh.org/bokeh/release/bokeh-widgets-2.1.1.min.js\": \"xIGPmVtaOm+z0BqfSOMn4lOR6ciex448GIKG4eE61LsAvmGj48XcMQZtKcE/UXZe\", \"https://cdn.bokeh.org/bokeh/release/bokeh-tables-2.1.1.min.js\": \"Dc9u1wF/0zApGIWoBbH77iWEHtdmkuYWG839Uzmv8y8yBLXebjO9ZnERsde5Ln/P\", \"https://cdn.bokeh.org/bokeh/release/bokeh-gl-2.1.1.min.js\": \"cT9JaBz7GiRXdENrJLZNSC6eMNF3nh3fa5fTF51Svp+ukxPdwcU5kGXGPBgDCa2j\"};\n\n    for (var i = 0; i < js_urls.length; i++) {\n      var url = js_urls[i];\n      var element = document.createElement('script');\n      element.onload = on_load;\n      element.onerror = on_error;\n      element.async = false;\n      element.src = url;\n      if (url in hashes) {\n        element.crossOrigin = \"anonymous\";\n        element.integrity = \"sha384-\" + hashes[url];\n      }\n      console.debug(\"Bokeh: injecting script tag for BokehJS library: \", url);\n      document.head.appendChild(element);\n    }\n  };\n\n  function inject_raw_css(css) {\n    const element = document.createElement(\"style\");\n    element.appendChild(document.createTextNode(css));\n    document.body.appendChild(element);\n  }\n\n  \n  var js_urls = [\"https://cdn.bokeh.org/bokeh/release/bokeh-2.1.1.min.js\", \"https://cdn.bokeh.org/bokeh/release/bokeh-widgets-2.1.1.min.js\", \"https://cdn.bokeh.org/bokeh/release/bokeh-tables-2.1.1.min.js\", \"https://cdn.bokeh.org/bokeh/release/bokeh-gl-2.1.1.min.js\"];\n  var css_urls = [];\n  \n\n  var inline_js = [\n    function(Bokeh) {\n      Bokeh.set_log_level(\"info\");\n    },\n    function(Bokeh) {\n    \n    \n    }\n  ];\n\n  function run_inline_js() {\n    \n    if (root.Bokeh !== undefined || force === true) {\n      \n    for (var i = 0; i < inline_js.length; i++) {\n      inline_js[i].call(root, root.Bokeh);\n    }\n    } else if (Date.now() < root._bokeh_timeout) {\n      setTimeout(run_inline_js, 100);\n    } else if (!root._bokeh_failed_load) {\n      console.log(\"Bokeh: BokehJS failed to load within specified timeout.\");\n      root._bokeh_failed_load = true;\n    } else if (force !== true) {\n      var cell = $(document.getElementById(null)).parents('.cell').data().cell;\n      cell.output_area.append_execute_result(NB_LOAD_WARNING)\n    }\n\n  }\n\n  if (root._bokeh_is_loading === 0) {\n    console.debug(\"Bokeh: BokehJS loaded, going straight to plotting\");\n    run_inline_js();\n  } else {\n    load_libs(css_urls, js_urls, function() {\n      console.debug(\"Bokeh: BokehJS plotting callback run at\", now());\n      run_inline_js();\n    });\n  }\n}(window));"
          },
          "metadata": {
            "tags": []
          }
        },
        {
          "output_type": "display_data",
          "data": {
            "text/html": [
              "\n",
              "\n",
              "\n",
              "\n",
              "\n",
              "\n",
              "  <div class=\"bk-root\" id=\"50e5feb9-4c3e-4a6c-85ac-d40d2866134b\" data-root-id=\"3552\"></div>\n"
            ]
          },
          "metadata": {
            "tags": []
          }
        },
        {
          "output_type": "display_data",
          "data": {
            "application/javascript": [
              "(function(root) {\n",
              "  function embed_document(root) {\n",
              "    \n",
              "  var docs_json = {\"45e1622a-4e29-4efc-b8c7-8753cdaa01ef\":{\"roots\":{\"references\":[{\"attributes\":{\"below\":[{\"id\":\"3563\"}],\"center\":[{\"id\":\"3566\"},{\"id\":\"3570\"},{\"id\":\"3586\"},{\"id\":\"3603\"}],\"left\":[{\"id\":\"3567\"}],\"plot_height\":800,\"plot_width\":800,\"renderers\":[{\"id\":\"3591\"}],\"title\":{\"id\":\"3553\"},\"toolbar\":{\"id\":\"3578\"},\"x_range\":{\"id\":\"3555\"},\"x_scale\":{\"id\":\"3559\"},\"y_range\":{\"id\":\"3557\"},\"y_scale\":{\"id\":\"3561\"}},\"id\":\"3552\",\"subtype\":\"Figure\",\"type\":\"Plot\"},{\"attributes\":{\"overlay\":{\"id\":\"3577\"}},\"id\":\"3573\",\"type\":\"BoxZoomTool\"},{\"attributes\":{},\"id\":\"3561\",\"type\":\"LinearScale\"},{\"attributes\":{\"axis\":{\"id\":\"3563\"},\"ticker\":null},\"id\":\"3566\",\"type\":\"Grid\"},{\"attributes\":{\"text\":\"Weather Data for Station 270\"},\"id\":\"3553\",\"type\":\"Title\"},{\"attributes\":{},\"id\":\"3576\",\"type\":\"HelpTool\"},{\"attributes\":{},\"id\":\"3572\",\"type\":\"WheelZoomTool\"},{\"attributes\":{},\"id\":\"3595\",\"type\":\"BasicTickFormatter\"},{\"attributes\":{},\"id\":\"3574\",\"type\":\"SaveTool\"},{\"attributes\":{\"base\":{\"field\":\"days\",\"units\":\"data\"},\"fill_color\":\"gray\",\"lower\":{\"field\":\"min\",\"units\":\"data\"},\"source\":{\"id\":\"3585\"},\"upper\":{\"field\":\"max\",\"units\":\"data\"}},\"id\":\"3586\",\"type\":\"Band\"},{\"attributes\":{\"data\":{\"x\":[0,1,2,3,4,5,6,7,8,9,10,11,12,13,14,15,16,17,18,19,20,21,22,23,24,25,26,27,28,29,30,31,32,33,34,35,36,37,38,39,40,41,42,43,44,45,46,47,48,49,50,51,52,53,54,55,56,57,58,59,60,61,62,63,64,65,66,67,68,69,70,71,72,73,74,75,76,77,78,79,80,81,82,83,84,85,86,87,88,89,90,91,92,93,94,95,96,97,98,99,100,101,102,103,104,105,106,107,108,109,110,111,112,113,114,115,116,117,118,119,120,121,122,123,124,125,126,127,128,129,130,131,132,133,134,135,136,137,138,139,140,141,142,143,144,145,146,147,148,149,150,151,152,153,154,155,156,157,158,159,160,161,162,163,164,165,166,167,168,169,170,171,172,173,174,175,176,177,178,179,180,181,182,183,184,185,186,187,188,189,190,191,192,193,194,195,196,197,198,199,200,201,202,203,204,205,206,207,208,209,210,211,212,213,214,215,216,217,218,219,220,221,222,223,224,225,226,227,228,229,230,231,232,233,234,235,236,237,238,239,240,241,242,243,244,245,246,247,248,249,250,251,252,253,254,255,256,257,258,259,260,261,262,263,264,265,266,267,268,269,270,271,272,273,274,275,276,277,278,279,280,281,282,283,284,285,286,287,288,289,290,291,292,293,294,295,296,297,298,299,300,301,302,303,304,305,306,307,308,309,310,311,312,313,314,315,316,317,318,319,320,321,322,323,324,325,326,327,328,329,330,331,332,333,334,335,336,337,338,339,340,341,342,343,344,345,346,347,348,349,350,351,352,353,354,355,356,357,358,359,360,361,362,363],\"y\":{\"__ndarray__\":\"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\",\"dtype\":\"float64\",\"order\":\"little\",\"shape\":[364]}},\"selected\":{\"id\":\"3599\"},\"selection_policy\":{\"id\":\"3598\"}},\"id\":\"3588\",\"type\":\"ColumnDataSource\"},{\"attributes\":{},\"id\":\"3601\",\"type\":\"Selection\"},{\"attributes\":{},\"id\":\"3597\",\"type\":\"BasicTickFormatter\"},{\"attributes\":{\"end\":400},\"id\":\"3555\",\"type\":\"Range1d\"},{\"attributes\":{},\"id\":\"3568\",\"type\":\"BasicTicker\"},{\"attributes\":{},\"id\":\"3564\",\"type\":\"BasicTicker\"},{\"attributes\":{\"data\":{\"days\":[0,1,2,3,4,5,6,7,8,9,10,11,12,13,14,15,16,17,18,19,20,21,22,23,24,25,26,27,28,29,30,31,32,33,34,35,36,37,38,39,40,41,42,43,44,45,46,47,48,49,50,51,52,53,54,55,56,57,58,59,60,61,62,63,64,65,66,67,68,69,70,71,72,73,74,75,76,77,78,79,80,81,82,83,84,85,86,87,88,89,90,91,92,93,94,95,96,97,98,99,100,101,102,103,104,105,106,107,108,109,110,111,112,113,114,115,116,117,118,119,120,121,122,123,124,125,126,127,128,129,130,131,132,133,134,135,136,137,138,139,140,141,142,143,144,145,146,147,148,149,150,151,152,153,154,155,156,157,158,159,160,161,162,163,164,165,166,167,168,169,170,171,172,173,174,175,176,177,178,179,180,181,182,183,184,185,186,187,188,189,190,191,192,193,194,195,196,197,198,199,200,201,202,203,204,205,206,207,208,209,210,211,212,213,214,215,216,217,218,219,220,221,222,223,224,225,226,227,228,229,230,231,232,233,234,235,236,237,238,239,240,241,242,243,244,245,246,247,248,249,250,251,252,253,254,255,256,257,258,259,260,261,262,263,264,265,266,267,268,269,270,271,272,273,274,275,276,277,278,279,280,281,282,283,284,285,286,287,288,289,290,291,292,293,294,295,296,297,298,299,300,301,302,303,304,305,306,307,308,309,310,311,312,313,314,315,316,317,318,319,320,321,322,323,324,325,326,327,328,329,330,331,332,333,334,335,336,337,338,339,340,341,342,343,344,345,346,347,348,349,350,351,352,353,354,355,356,357,358,359,360,361,362,363,364],\"max\":{\"__ndarray__\":\"MzMzMzMzJkBmZmZmZmYkQGZmZmZmZiVAmpmZmZmZI0DNzMzMzMwiQGZmZmZmZilAAAAAAAAAJkBmZmZmZmYmQAAAAAAAAClAzczMzMzMKEBmZmZmZmYlQM3MzMzMzCZAzczMzMzMJkCamZmZmZkkQJqZmZmZmSFAzczMzMzMJEAAAAAAAAAlQGZmZmZmZilAMzMzMzMzJkDNzMzMzMwnQM3MzMzMzCVAmpmZmZmZIEDNzMzMzMwiQGZmZmZmZiRAMzMzMzMzKkAAAAAAAAAkQDMzMzMzMydAmpmZmZmZJkCamZmZmZkkQJqZmZmZmSVAzczMzMzMI0AzMzMzMzMpQM3MzMzMzCpAMzMzMzMzLEBmZmZmZmYrQM3MzMzMzCdAZmZmZmZmJkAzMzMzMzMlQJqZmZmZmSRAMzMzMzMzJkAAAAAAAAApQJqZmZmZmSxAZmZmZmZmJ0BmZmZmZmYiQGZmZmZmZiNAmpmZmZmZKkAzMzMzMzMkQDMzMzMzMyJAzczMzMzMIEBmZmZmZmYiQAAAAAAAACRAmpmZmZmZJUAAAAAAAAAlQAAAAAAAACdAAAAAAAAAKUAAAAAAAAAmQGZmZmZmZiZAmpmZmZmZJEDNzMzMzMwqQJqZmZmZmSZAmpmZmZmZI0DNzMzMzMwjQJqZmZmZmSlAMzMzMzMzLkBmZmZmZmYwQAAAAAAAACZAzczMzMzMLECamZmZmZkwQDMzMzMzMy1AAAAAAAAAKkAzMzMzMzMtQM3MzMzMzChAZmZmZmZmKUAAAAAAAAAqQDMzMzMzMy5AAAAAAAAALkCamZmZmZksQGZmZmZmZilAMzMzMzOzMkAAAAAAAAAtQDMzMzMzszBAmpmZmZmZL0CamZmZmZkzQM3MzMzMzDNAZmZmZmZmL0AAAAAAAAAxQGZmZmZm5jFAAAAAAAAAMkAzMzMzM7MyQAAAAAAAADVAAAAAAACAMUBmZmZmZuY1QDMzMzMzszRAzczMzMxMMkBmZmZmZmYvQAAAAAAAgDFAAAAAAACAMkDNzMzMzMwsQJqZmZmZmTJAAAAAAAAAN0AAAAAAAAA2QDMzMzMzszFAzczMzMxMNUAAAAAAAIA4QM3MzMzMTDtAmpmZmZmZN0AzMzMzM7M0QGZmZmZmZjJAAAAAAAAAN0DNzMzMzMw3QJqZmZmZmThAAAAAAACAOUBmZmZmZuY3QAAAAAAAgDlAZmZmZmbmOUCamZmZmRk3QAAAAAAAADVAZmZmZmZmN0AzMzMzM7M1QM3MzMzMTDVAzczMzMzMN0AAAAAAAAA0QJqZmZmZmTZAAAAAAAAAOkBmZmZmZuY3QGZmZmZm5jdAmpmZmZmZO0AAAAAAAAA8QDMzMzMzMzlAZmZmZmZmOkBmZmZmZmY5QGZmZmZmZjhAAAAAAAAAN0AAAAAAAIA6QAAAAAAAADxAAAAAAACAO0AAAAAAAAA8QGZmZmZm5jVAzczMzMzMNECamZmZmZk6QGZmZmZmZjhAAAAAAAAAOkBmZmZmZmY4QM3MzMzMzDhAMzMzMzOzN0CamZmZmRk7QJqZmZmZmT1AmpmZmZkZOEBmZmZmZuY3QM3MzMzMTDpAAAAAAAAAN0AAAAAAAAA7QGZmZmZmZj1AAAAAAAAAOUCamZmZmZk7QGZmZmZmZj1AAAAAAAAAOUAAAAAAAAA5QAAAAAAAAD9AMzMzMzOzO0AAAAAAAAA7QJqZmZmZmT1AAAAAAAAAPUDNzMzMzMw9QAAAAAAAADZAMzMzMzOzOkBmZmZmZmY0QGZmZmZm5jxAzczMzMzMPEAzMzMzMzM/QDMzMzMzsz9AzczMzMxMOEDNzMzMzMw5QJqZmZmZmTxAZmZmZmbmPEDNzMzMzEw3QAAAAAAAADhAmpmZmZkZPUCamZmZmRk/QGZmZmZm5jlAmpmZmZkZOEBmZmZmZmY+QAAAAAAAAEFAzczMzMzMPkDNzMzMzEw/QAAAAAAAgD1AMzMzMzOzPkBmZmZmZuY4QM3MzMzMTDlAZmZmZmYmQEAzMzMzMzM+QJqZmZmZmTtAZmZmZmZmOEAzMzMzM7M4QGZmZmZm5jtAMzMzMzOzPEAzMzMzM7M+QAAAAAAAAD1AAAAAAACAO0AzMzMzM7NAQDMzMzMzsz9AMzMzMzOzO0AAAAAAAIA+QM3MzMzMzD5AzczMzMxMO0BmZmZmZmY7QAAAAAAAAD1AAAAAAAAAPECamZmZmRk+QAAAAAAAAD1AmpmZmZmZP0AzMzMzMzM9QJqZmZmZmTxAZmZmZmZmP0AAAAAAAAA9QAAAAAAAgDhAAAAAAAAAPEAAAAAAAAA/QAAAAAAAwEBAAAAAAABAQEAzMzMzM7M+QDMzMzMzsz1AMzMzMzMzPkDNzMzMzExAQGZmZmZm5jpAAAAAAACAOUAAAAAAAIA+QDMzMzMzMztAzczMzMzMO0AzMzMzMzM+QM3MzMzMDEBAAAAAAABAQEAAAAAAAAA5QM3MzMzMzDpAzczMzMzMOkAAAAAAAIA9QGZmZmZmZj5AMzMzMzMzOUAAAAAAAAA3QGZmZmZm5jdAAAAAAAAAOkDNzMzMzMw3QGZmZmZmZjxAzczMzMzMN0DNzMzMzMw2QDMzMzMzszlAZmZmZmbmN0AAAAAAAAA9QGZmZmZmZjpAZmZmZmbmOUAzMzMzMzM5QDMzMzMzMztAAAAAAAAAOUAzMzMzM7M6QJqZmZmZmTtAMzMzMzMzPkBmZmZmZmY9QAAAAAAAADtAmpmZmZmZN0CamZmZmZk4QM3MzMzMzDpAzczMzMzMOEAzMzMzMzM3QDMzMzMzszdAMzMzMzOzOkAAAAAAAAA3QAAAAAAAgDZAmpmZmZkZOEAzMzMzM7M1QDMzMzMzMzRAZmZmZmZmN0AzMzMzM7M4QGZmZmZmZjhAmpmZmZkZOEAzMzMzM7M3QDMzMzMzMzZAZmZmZmbmNEAAAAAAAIAyQGZmZmZm5jJAmpmZmZkZM0AzMzMzM7MyQJqZmZmZmTFAAAAAAAAANUCamZmZmZkzQDMzMzMzMzRAAAAAAACANEBmZmZmZuY0QM3MzMzMzDRAAAAAAAAANkDNzMzMzEwyQM3MzMzMzDNAMzMzMzMzM0BmZmZmZmYzQDMzMzMzMzFAMzMzMzOzNEBmZmZmZuYxQAAAAAAAADBAAAAAAAAAMEAAAAAAAIAzQAAAAAAAADRAAAAAAAAAM0BmZmZmZmYxQJqZmZmZGTRAZmZmZmZmMUBmZmZmZuYwQM3MzMzMzC9AZmZmZmbmMEAzMzMzMzMxQAAAAAAAAC1AMzMzMzMzL0CamZmZmRkxQJqZmZmZmS5AMzMzMzMzLkAAAAAAAAAvQGZmZmZmZixAAAAAAAAALUAzMzMzMzMtQGZmZmZmZitAzczMzMzMLEAzMzMzMzMvQJqZmZmZmS1AMzMzMzMzKkBmZmZmZmYqQAAAAAAAACtAZmZmZmZmLEAAAAAAAAApQAAAAAAAACtAzczMzMzMKUAAAAAAAIAwQJqZmZmZmShAZmZmZmZmKkCamZmZmZkqQDMzMzMzMypAmpmZmZmZJ0BmZmZmZmYpQGZmZmZmZidAAAAAAAAAJUCamZmZmZkpQM3MzMzMzCpAMzMzMzMzKEDNzMzMzMwoQGZmZmZmZipAAAAAAAAAJECamZmZmZklQDMzMzMzMyhAmpmZmZmZKUAzMzMzMzMoQJqZmZmZmSZAzczMzMzMI0CamZmZmZknQDMzMzMzMylAmpmZmZmZJ0CamZmZmZkpQAAAAAAAAChAAAAAAAAAJ0BmZmZmZmYqQDMzMzMzMydAZmZmZmZmJ0DNzMzMzMwpQJqZmZmZmSpAZmZmZmZmJ0DNzMzMzMwlQM3MzMzMzCZAMzMzMzMzJkCamZmZmZknQA==\",\"dtype\":\"float64\",\"order\":\"little\",\"shape\":[365]},\"mean\":{\"__ndarray__\":\"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\",\"dtype\":\"float64\",\"order\":\"little\",\"shape\":[365]},\"min\":{\"__ndarray__\":\"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\",\"dtype\":\"float64\",\"order\":\"little\",\"shape\":[365]},\"smooth_max\":{\"__ndarray__\":\"Z6wgLtxRJkCeMcx/gGUkQMPKKfYHhiVA0006kgyPI0CdNVGHgvgiQDUpbv8ucSlA/BuSwIALJkAkCvFYI3omQBDp6hN5JilA/zwCDFPAKEDlc5wSfXclQGdffW3r4CZAN/kullXcJkCpO3jHpHokQK1Z++B4tiFAjRYyYnDpJECMWdo00ColQKnrg+DxjilA2ueDs4IOJkBjMe0rFBwoQPlSGiphXiVATjv/e7O/IEBrJ0c6B9MiQDysODOO5iRAHrL8eg0pKkDAydT8ycwjQAVQz5/MqSdA09cf2Zs+JkCsnbndjN4kQDfDtKa/bCVAZmGPEb8YJEAopiJpKKcpQLwGfJMB5SpAoVGZB5VsLECoHen21yMrQJaCgUW3oCdAU6chey5iJkBK6QZjGBklQFTd1bXDxSRASMtHYU1vJkBn0M4ExJwpQCAs7/sqiSxAk9YQQG+rJkAdlA2/YSMiQK/O9vV5USRAROSh6Ye7KkAhLLKaTT4jQIqEjV9afiJA9YZgR1x1IEBNYJrnASMjQHstlSGT3SNAIfAKBSAoJkBx0fmL9o0kQG1F77hNKShAJZjl6YAvKED/IKwUXYYmQOtT9MmroSVA1l9WyrO9JUD3NW0WybQqQJpCLACiDiZAtOVqwo8kI0Ar8QvxDuUkQNmD0AA3KCpA/q6WuSa1L0BIfS1KTRovQKXbn1f13iVAm0St2UyWLkBfGQfZ/4AwQBQE3LPxFCxA7dYM2M3CKkAWDwCNdccsQFTo8sD9jyhA3fwwDSqCKUDBRg2WVOQqQKE+iSd0ay5AK4q7BLpPLkBKfDDGARwrQPE2VKh2xStATdEtwmevMkCroQvh3RQsQPdlKfkPXDFAbb7IiRE6L0B0/isn3Qk1QGTszc4ISDJAai8HaAcUMEC0T7EBAQoxQGjCNo0MajJARZN7iRWVMUB3hTrvueszQGaRIaXCEzRAeH+lNL8XMkAIjUItVo02QL9s6akT1DNAvrvzBhviMUCU2pXussguQNZB3OqYtjJA1ciZhT0vMUBPS0l/frMtQCmc/IVuJTRATCVOJ8ePN0A+GH+z0Yg0QNIQEDgCHTJAN7bik1t5NkDFr7GubI85QNzV+FVf9jpA5jFJ2M94NkCrIM6PpPgzQJUCfRDHBTNAdT3jIvJROEBY3oS01Vg3QOqQjpZvqzlAMAPjmBmzOEDIZdtjuHA4QNLZsXamzjlA5s4Ulg2fOUAJI4L7w9A1QO4hFrlE1DVAgp1dsRJoN0BlxswmZAE1QIZeBpYGbzZALKYYrN8gN0D50+pXhpgzQOOJhqrYxjhAIBStyxxaOUAT1sCKtbo3QF0iZoFQvjhAk+rNIhnnPEAJosSJd446QL4KC32XwjlAXwBiKqsoOkDp0PNWEVQ5QH9BHQ1skTdAT8OIpYL+N0DuVWRB5aE7QOoFEIjr0jtA82W2aFngO0Dc3484zMI6QJoSSvO2pTNAZkytGXvPN0A2DtfUCwg6QBPekwvp1jhA6/nJ9UzMOUBqfQDFzVA4QBC0kXpRpzhAruhEBss1OEBRaUnZsT89QPtl+3/O2jtAvCEMkPrcNkDkwOPB86s5QJ/yByHXCDlASDpwN7WeN0ApQQ8mdlg9QE+BZlifkjtA59mVIz0lOUAlX6V+L3k9QPCmplbcxTtA1nfG50oFOEBcVyZ/caw7QKhgdGYNKz9AtcijTgWrOUB8xKKWDnk9QMa+uT+PUjxArkyj6S0gP0Czpkm5/U45QBiO+X1mLzhA0oRXpfVmOEAXQLiRolU2QOaSlx22cD9Aqz9E4xu9O0Da0dVAWA5BQAmsOHUcHTtA+BvB7MLSOEBdBHdB+sQ6QIyR9ORnGD5Al7C4n+L3OUAeZwrZiPA2QP62LBUPJzpAEuW0Dh1eP0ACuxPApNM8QEqtgeukPDhAOaGxf1BfOkCHfu4uxelAQE7/7p+rEEBAeHkSp/g/P0AWFDb0dE0+QEvJACDvVT5AurBlpvCePEDfqNufYjE3QCUkVlzLwT1AmjRYb1ULQECGMt70L6s8QC/Z2P4xKDpAQ7VLaKa2N0D8Omjp6s46QPV2SsD4XTxAcfa4CXjkPUAsLvM3V4s+QCSbDVSjUztAr4VhN6KSPkCl3IU8dw5BQBoFbZY3gjxAFoYaQp0uPUCGbRoeLUs/QHAVXDQhKD1ALj2Attl3OkDfZIodDiM9QKsvlA/v9jtAivVO6xufPUCsCJ53YVs9QPDigQwAjD5AP7uzh2X3PkCoUu4BEAs8QIP+Uswnjj5Afk/0hRf1PkAJNDzGx7U5QEFpkja3ADpAukv3KYNBPkBecJSIxkZAQFiBGPTQ0kBAal0sod4YP0CD5vY4X2k+QGrH/RHfYT1Al9O3oMY4QEBbv4SekM89QKgRIri+mDhASwMXZ+Y/PUDmXaq5ex89QNWTBakJkjpAgbuSBIUAPkAs+hvUH90+QKiUqDZv7EBAKcCI8P1SO0CCq7BFDX85QMdnp13LZTtASEFTZszRO0AZhNHx92o/QE8zSZ3n3TpAgl3Km+OiN0Aaat9rngM3QIjtXtc2GDpAgkCONdsaOECJGcWkYOM6QPzGl0ILpDpA/sz/Jp9sNUCYvH1EWRg6QNYOwBHYiTdAAvwpaFTmO0B1Ow7o26Y7QLkbF6GL4zlADekCa2xVOUDAp4+uW8M6QNKuDk0u7jlAww33mzW+OUDBVrCMwbM7QIz30tf2Mj1AiM5kkFN5PkDKuz5myYM7QFhTIkfM6DhAM7Tm/1dlN0ACZdMD2Ro7QL5g7YnhMTlA7Zrrz5n7N0BF7UKYC8o2QMM/u0WitTpAxPLfQo8fOED1yq/TyEA2QKGpMPFt4TdATIAKX5LgNkCaRGFkoOMzQFmgjhxVwzZAHlU2l3+EOEAJsbr+d8g4QIrp8hnD+DdA8fnbReU8OEDU3fTWxVg2QIMlUBuOrDVAsm3+P2O1MkBOhB3hwP0yQNf87AGP3zJATwchYqBVM0BaIjljjTQxQNH/fMr4rzRAUTQXb53wM0BCll7xOxo0QI2KghyiYDRAIdiMpV8iNUDDug6T+XY0QJeJ8QUdaDZAtAE9WbXHMkC6XSNPkoszQGnh6fx6VzNABxFYjsatM0CGzz3YOUwxQK/7dtU0LTRA4fcVUsHjMkDn1t+U7hQwQMYOFEMwvi9AsHNYennbMkAMcn4IhkE0QPIfKTbsTDNAjek5XDl2MUBdwx7olMYzQOnmk40vLzJAhO3mEcmyMEBOfZu611QwQMVx93NJaTBAkZfwyka0MUAeeUFi4VwtQAWRRK5guS5A6EVDrh4RMUBz/vfWlHUvQOxRMJnl0y1AErsfJqBsL0Ad6zgk0p8sQMh5Ue5d8SxAgsz3nP1kLUB1QsfyRKgrQEhpKOLfeixAZsLvZwklL0ChA+BDiiUuQHzWsi2ScypAMwkAvON3KkClUEwnpcwqQMcdOVmjtSxANyrDVVwiKUBthWMjoRIrQC7o0k2ajSlA+wo+r1RlMEBdOfketq4pQEOn+pTYuClAE93oxAAjK0CrwoYvqQsqQPStYV9aHihAnb4VDxb2KEAzg7ny1ywoQLeLRvDyoiRAyIty5LOVKUBtY5BL/rsqQPTfz8Z1rShA2V9YAglnKEAvcfGl8OMqQHoTJoWsKCRAnfDWCYqOJUCT5tdIUQgoQKsBlBngyClAWdsCOag8KED7kZpNDecmQMGe/9B/xiNAPePp5/CFJ0BKmPC2nkIpQEyYl45/uydA+uaG0FyIKUD4QcOry0QoQEFOQbkj5SZASwMPAsmIKkBYreOgOUgnQEMvTt7ZdydA1Dvo32jGKUBnd6AotL8qQOanrXIHdidA8A8VgjLoJUCfJpgmh84mQIrWK1wWUSZA/8mlp6maJ0A=\",\"dtype\":\"float64\",\"order\":\"little\",\"shape\":[364]},\"smooth_mean\":{\"__ndarray__\":\"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\",\"dtype\":\"float64\",\"order\":\"little\",\"shape\":[364]},\"smooth_min\":{\"__ndarray__\":\"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\",\"dtype\":\"float64\",\"order\":\"little\",\"shape\":[364]}},\"selected\":{\"id\":\"3601\"},\"selection_policy\":{\"id\":\"3600\"}},\"id\":\"3585\",\"type\":\"ColumnDataSource\"},{\"attributes\":{\"bottom_units\":\"screen\",\"fill_alpha\":0.5,\"fill_color\":\"lightgrey\",\"left_units\":\"screen\",\"level\":\"overlay\",\"line_alpha\":1.0,\"line_color\":\"black\",\"line_dash\":[4,4],\"line_width\":2,\"right_units\":\"screen\",\"top_units\":\"screen\"},\"id\":\"3577\",\"type\":\"BoxAnnotation\"},{\"attributes\":{},\"id\":\"3600\",\"type\":\"UnionRenderers\"},{\"attributes\":{},\"id\":\"3598\",\"type\":\"UnionRenderers\"},{\"attributes\":{\"items\":[{\"id\":\"3604\"}]},\"id\":\"3603\",\"type\":\"Legend\"},{\"attributes\":{\"active_drag\":\"auto\",\"active_inspect\":\"auto\",\"active_multi\":null,\"active_scroll\":\"auto\",\"active_tap\":\"auto\",\"tools\":[{\"id\":\"3571\"},{\"id\":\"3572\"},{\"id\":\"3573\"},{\"id\":\"3574\"},{\"id\":\"3575\"},{\"id\":\"3576\"}]},\"id\":\"3578\",\"type\":\"Toolbar\"},{\"attributes\":{},\"id\":\"3599\",\"type\":\"Selection\"},{\"attributes\":{},\"id\":\"3559\",\"type\":\"LinearScale\"},{\"attributes\":{\"axis_label\":\"Temprature (In Degree Celcius)\",\"formatter\":{\"id\":\"3597\"},\"ticker\":{\"id\":\"3568\"}},\"id\":\"3567\",\"type\":\"LinearAxis\"},{\"attributes\":{\"axis\":{\"id\":\"3567\"},\"dimension\":1,\"ticker\":null},\"id\":\"3570\",\"type\":\"Grid\"},{\"attributes\":{\"label\":{\"value\":\"Smooth Avg temp 2018\"},\"renderers\":[{\"id\":\"3591\"}]},\"id\":\"3604\",\"type\":\"LegendItem\"},{\"attributes\":{\"source\":{\"id\":\"3588\"}},\"id\":\"3592\",\"type\":\"CDSView\"},{\"attributes\":{\"line_color\":\"#1f77b4\",\"x\":{\"field\":\"x\"},\"y\":{\"field\":\"y\"}},\"id\":\"3589\",\"type\":\"Line\"},{\"attributes\":{\"line_alpha\":0.1,\"line_color\":\"#1f77b4\",\"x\":{\"field\":\"x\"},\"y\":{\"field\":\"y\"}},\"id\":\"3590\",\"type\":\"Line\"},{\"attributes\":{},\"id\":\"3571\",\"type\":\"PanTool\"},{\"attributes\":{},\"id\":\"3575\",\"type\":\"ResetTool\"},{\"attributes\":{\"end\":70},\"id\":\"3557\",\"type\":\"Range1d\"},{\"attributes\":{\"axis_label\":\"Days\",\"formatter\":{\"id\":\"3595\"},\"ticker\":{\"id\":\"3564\"}},\"id\":\"3563\",\"type\":\"LinearAxis\"},{\"attributes\":{\"data_source\":{\"id\":\"3588\"},\"glyph\":{\"id\":\"3589\"},\"hover_glyph\":null,\"muted_glyph\":null,\"nonselection_glyph\":{\"id\":\"3590\"},\"selection_glyph\":null,\"view\":{\"id\":\"3592\"}},\"id\":\"3591\",\"type\":\"GlyphRenderer\"}],\"root_ids\":[\"3552\"]},\"title\":\"Bokeh Application\",\"version\":\"2.1.1\"}};\n",
              "  var render_items = [{\"docid\":\"45e1622a-4e29-4efc-b8c7-8753cdaa01ef\",\"root_ids\":[\"3552\"],\"roots\":{\"3552\":\"50e5feb9-4c3e-4a6c-85ac-d40d2866134b\"}}];\n",
              "  root.Bokeh.embed.embed_items_notebook(docs_json, render_items);\n",
              "\n",
              "  }\n",
              "  if (root.Bokeh !== undefined) {\n",
              "    embed_document(root);\n",
              "  } else {\n",
              "    var attempts = 0;\n",
              "    var timer = setInterval(function(root) {\n",
              "      if (root.Bokeh !== undefined) {\n",
              "        clearInterval(timer);\n",
              "        embed_document(root);\n",
              "      } else {\n",
              "        attempts++;\n",
              "        if (attempts > 100) {\n",
              "          clearInterval(timer);\n",
              "          console.log(\"Bokeh: ERROR: Unable to run BokehJS code because BokehJS library is missing\");\n",
              "        }\n",
              "      }\n",
              "    }, 10, root)\n",
              "  }\n",
              "})(window);"
            ],
            "application/vnd.bokehjs_exec.v0+json": ""
          },
          "metadata": {
            "tags": [],
            "application/vnd.bokehjs_exec.v0+json": {
              "id": "3552"
            }
          }
        }
      ]
    },
    {
      "cell_type": "markdown",
      "metadata": {
        "id": "7oNy6nYCo8xh"
      },
      "source": [
        "---"
      ]
    },
    {
      "cell_type": "markdown",
      "metadata": {
        "id": "FXeZM7Pko8xi"
      },
      "source": [
        "<a name='5'></a>\n",
        "## Part 6: Challenge"
      ]
    },
    {
      "cell_type": "markdown",
      "metadata": {
        "id": "xn7ob0Sxo8xj"
      },
      "source": [
        "Make a widget in which you can select the year range for the multiyear set. Add this to your layout to make the plot interactive. Add another widget to select or deselect the smoother. Inspiration: https://demo.bokeh.org/weather"
      ]
    },
    {
      "cell_type": "code",
      "metadata": {
        "id": "QpuiChlTo8xk"
      },
      "source": [
        ""
      ],
      "execution_count": null,
      "outputs": []
    },
    {
      "cell_type": "markdown",
      "metadata": {
        "id": "jFb1aTPoJCw8"
      },
      "source": [
        "# temp range for few years\r\n",
        "# min of each month temp for one particular year\r\n",
        "# max of each \r\n",
        "# average temp of each day \r\n",
        "# user slider for smoothing \r\n",
        "# user slider for selecting different years "
      ]
    }
  ]
}