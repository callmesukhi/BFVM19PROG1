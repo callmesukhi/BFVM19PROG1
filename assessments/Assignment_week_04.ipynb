{
  "nbformat": 4,
  "nbformat_minor": 0,
  "metadata": {
    "kernelspec": {
      "display_name": "Python 3",
      "language": "python",
      "name": "python3"
    },
    "language_info": {
      "codemirror_mode": {
        "name": "ipython",
        "version": 3
      },
      "file_extension": ".py",
      "mimetype": "text/x-python",
      "name": "python",
      "nbconvert_exporter": "python",
      "pygments_lexer": "ipython3",
      "version": "3.8.1"
    },
    "colab": {
      "name": "Assignment_week_04.ipynb",
      "provenance": [],
      "include_colab_link": true
    }
  },
  "cells": [
    {
      "cell_type": "markdown",
      "metadata": {
        "id": "view-in-github",
        "colab_type": "text"
      },
      "source": [
        "<a href=\"https://colab.research.google.com/github/callmesukhi/BFVM19PROG1/blob/main/assessments/Assignment_week_04.ipynb\" target=\"_parent\"><img src=\"https://colab.research.google.com/assets/colab-badge.svg\" alt=\"Open In Colab\"/></a>"
      ]
    },
    {
      "cell_type": "markdown",
      "metadata": {
        "id": "7y9NCiYwo8w9"
      },
      "source": [
        "# Week 04 Assignment weather data\n",
        "\n",
        "Welcome to week four of this course programming 1. You will to organise your data into the required format and apply smoothing. In this assignment we will work with weatherdata from the KNMI. A subset of weatherdata is for you available in the file: `KNMI_20181231.csv`. The data consist of several stations with daily weather data of several years. Your task is to make a plot similar to the plot below.\n",
        "\n",
        "\n",
        "<img src=\"https://github.com/callmesukhi/BFVM19PROG1/blob/main/assessments/images/weather.png?raw=1\" alt=\"drawing\" width=\"400\"/>\n",
        "\n",
        "\n",
        "Furthermore the plot needs the following enhancements\n",
        "\n",
        "1. proper titles and ticks\n",
        "2. a slider widget selecting a particular year or all years\n",
        "3. lines need to be smoothed\n",
        "3. legends needs to be added\n",
        "\n",
        "Use your creativity. Consider colors, alpha settings, sizes etc. \n",
        "\n",
        "Learning outcomes\n",
        "\n",
        "- load, inspect and clean a dataset \n",
        "- reformat dataframes\n",
        "- apply smoothing technologies\n",
        "- visualize timeseries data\n",
        "\n",
        "The assignment consists of 6 parts:\n",
        "\n",
        "- [part 1: load the data](#0)\n",
        "- [part 2: clean the data](#1)\n",
        "- [part 3: reformat data](#2)\n",
        "- [part 4: smooth the data](#3)\n",
        "- [part 5: visualize the data](#4)\n",
        "- [part 6: Challenge](#5)\n",
        "\n",
        "Part 1 and 5 are mandatory, part 6 is optional (bonus)\n",
        "To pass the assingnment you need to a score of 60%. \n"
      ]
    },
    {
      "cell_type": "markdown",
      "metadata": {
        "id": "C-h-aFp4o8xE"
      },
      "source": [
        "---"
      ]
    },
    {
      "cell_type": "markdown",
      "metadata": {
        "id": "ENflWKtzo8xG"
      },
      "source": [
        "<a name='0'></a>\n",
        "## Part 1: Load the data\n",
        "\n",
        "Either load the dataset `KNMI_20181231.csv` or `KNMI_20181231.txt.tsv`. The dataheaders contain spaces and are not very self explainable. Change this into more readable ones. Select data from station 270. Select only the mean, minimum and maximum temperature. The data should look something like this:\n"
      ]
    },
    {
      "cell_type": "code",
      "metadata": {
        "id": "U1T8npcRs9U0"
      },
      "source": [
        "import pandas as pd\r\n",
        "import numpy as np\r\n",
        "import yaml"
      ],
      "execution_count": 2,
      "outputs": []
    },
    {
      "cell_type": "code",
      "metadata": {
        "id": "oXgnzoj0tXWf",
        "outputId": "4e13bb41-4f1d-49b8-e83f-7bea206cf3e8",
        "colab": {
          "base_uri": "https://localhost:8080/",
          "height": 238
        }
      },
      "source": [
        "df = pd.read_csv('/content/KNMI_20181231.txt.tsv', sep=',', skiprows=63, parse_dates=['YYYYMMDD'])\r\n",
        "df = df.drop(df.index[0])\r\n",
        "df.rename(columns={\"# STN\":\"STATION\", \"YYYYMMDD\":\"DATE\", \"   TG\":\"Tmean\", \"   TN\":\"Tmin\", \"   TX\":\"Tmax\"}, inplace=True)\r\n",
        "df = df.drop(['   SQ', '   DR', '   RH'], axis='columns')\r\n",
        "df_270 = df[df.STATION == 270]\r\n",
        "df_270.head()"
      ],
      "execution_count": 12,
      "outputs": [
        {
          "output_type": "stream",
          "text": [
            "/usr/local/lib/python3.6/dist-packages/IPython/core/interactiveshell.py:2718: DtypeWarning: Columns (0,2,3,4,5,6) have mixed types.Specify dtype option on import or set low_memory=False.\n",
            "  interactivity=interactivity, compiler=compiler, result=result)\n"
          ],
          "name": "stderr"
        },
        {
          "output_type": "execute_result",
          "data": {
            "text/html": [
              "<div>\n",
              "<style scoped>\n",
              "    .dataframe tbody tr th:only-of-type {\n",
              "        vertical-align: middle;\n",
              "    }\n",
              "\n",
              "    .dataframe tbody tr th {\n",
              "        vertical-align: top;\n",
              "    }\n",
              "\n",
              "    .dataframe thead th {\n",
              "        text-align: right;\n",
              "    }\n",
              "</style>\n",
              "<table border=\"1\" class=\"dataframe\">\n",
              "  <thead>\n",
              "    <tr style=\"text-align: right;\">\n",
              "      <th></th>\n",
              "      <th>STATION</th>\n",
              "      <th>DATE</th>\n",
              "      <th>Tmean</th>\n",
              "      <th>Tmin</th>\n",
              "      <th>Tmax</th>\n",
              "    </tr>\n",
              "  </thead>\n",
              "  <tbody>\n",
              "    <tr>\n",
              "      <th>97642</th>\n",
              "      <td>270</td>\n",
              "      <td>2000-01-01</td>\n",
              "      <td>42</td>\n",
              "      <td>-4</td>\n",
              "      <td>79</td>\n",
              "    </tr>\n",
              "    <tr>\n",
              "      <th>97643</th>\n",
              "      <td>270</td>\n",
              "      <td>2000-01-02</td>\n",
              "      <td>55</td>\n",
              "      <td>33</td>\n",
              "      <td>74</td>\n",
              "    </tr>\n",
              "    <tr>\n",
              "      <th>97644</th>\n",
              "      <td>270</td>\n",
              "      <td>2000-01-03</td>\n",
              "      <td>74</td>\n",
              "      <td>49</td>\n",
              "      <td>89</td>\n",
              "    </tr>\n",
              "    <tr>\n",
              "      <th>97645</th>\n",
              "      <td>270</td>\n",
              "      <td>2000-01-04</td>\n",
              "      <td>46</td>\n",
              "      <td>22</td>\n",
              "      <td>75</td>\n",
              "    </tr>\n",
              "    <tr>\n",
              "      <th>97646</th>\n",
              "      <td>270</td>\n",
              "      <td>2000-01-05</td>\n",
              "      <td>41</td>\n",
              "      <td>14</td>\n",
              "      <td>56</td>\n",
              "    </tr>\n",
              "  </tbody>\n",
              "</table>\n",
              "</div>"
            ],
            "text/plain": [
              "      STATION       DATE  Tmean   Tmin   Tmax\n",
              "97642     270 2000-01-01     42     -4     79\n",
              "97643     270 2000-01-02     55     33     74\n",
              "97644     270 2000-01-03     74     49     89\n",
              "97645     270 2000-01-04     46     22     75\n",
              "97646     270 2000-01-05     41     14     56"
            ]
          },
          "metadata": {
            "tags": []
          },
          "execution_count": 12
        }
      ]
    },
    {
      "cell_type": "markdown",
      "metadata": {
        "id": "IhyWB-sLo8xH"
      },
      "source": [
        "        station      Date  Tmean   Tmin   Tmax\n",
        "245205      270  19510101      0    -40     24\n",
        "245206      270  19510102      9     -5     19\n",
        "245207      270  19510103      5     -8     17\n",
        "245208      270  19510104      5    -15     17\n",
        "245209      270  19510105     26      6     46"
      ]
    },
    {
      "cell_type": "markdown",
      "metadata": {
        "id": "wV0DgLjuo8xJ"
      },
      "source": [
        "---"
      ]
    },
    {
      "cell_type": "markdown",
      "metadata": {
        "id": "jFb1aTPoJCw8"
      },
      "source": [
        "# temp range for few years\r\n",
        "# min of each month temp for one particular year\r\n",
        "# max of each \r\n",
        "# average temp of each day \r\n",
        "# user slider for smoothing \r\n",
        "# user slider for selecting different years "
      ]
    },
    {
      "cell_type": "markdown",
      "metadata": {
        "id": "BWv_uXZJo8xL"
      },
      "source": [
        "<a name='1'></a>\n",
        "## Part 2: Clean the data"
      ]
    },
    {
      "cell_type": "markdown",
      "metadata": {
        "id": "MELtnCcyo8xM"
      },
      "source": [
        "The data ia not clean. There are empty cells in the dataframe which needs to be replaced with NaN's and the temperature is in centidegrees which needs to be transformed into degrees. The date field needs a datetime format. For visualization convience we would like to remove the leap year. Conduct the cleaning."
      ]
    },
    {
      "cell_type": "code",
      "metadata": {
        "scrolled": true,
        "id": "urx1YB5Po8xN",
        "outputId": "c137d3e2-1bac-4d5d-c768-8e8393fefcf0",
        "colab": {
          "base_uri": "https://localhost:8080/"
        }
      },
      "source": [
        "df_270['DATE'] = pd.to_datetime(df_270['DATE'], errors='coerce')\n",
        "#replace cells with spaces to NaN\n",
        "# df_270.replace(r'\\s+', np.nan, regex=True)\n",
        "#change data formats\n",
        "df[['STATION','Tmean','Tmin','Tmax']] = df[['STATION','Tmean','Tmin','Tmax']].apply(pd.to_numeric, errors='coerce')\n",
        "# df_270['STATION'] = pd.to_numeric(df_270.STATION, errors='coerce')\n",
        "#change temperatures to celcius degrees\n",
        "#remove leap \n",
        "df_270.info()"
      ],
      "execution_count": 24,
      "outputs": [
        {
          "output_type": "stream",
          "text": [
            "<class 'pandas.core.frame.DataFrame'>\n",
            "Int64Index: 6940 entries, 97642 to 104581\n",
            "Data columns (total 5 columns):\n",
            " #   Column   Non-Null Count  Dtype         \n",
            "---  ------   --------------  -----         \n",
            " 0   STATION  6940 non-null   int64         \n",
            " 1   DATE     6940 non-null   datetime64[ns]\n",
            " 2   Tmean    6940 non-null   object        \n",
            " 3   Tmin     6940 non-null   object        \n",
            " 4   Tmax     6940 non-null   object        \n",
            "dtypes: datetime64[ns](1), int64(1), object(3)\n",
            "memory usage: 325.3+ KB\n"
          ],
          "name": "stdout"
        },
        {
          "output_type": "stream",
          "text": [
            "/usr/local/lib/python3.6/dist-packages/ipykernel_launcher.py:1: SettingWithCopyWarning: \n",
            "A value is trying to be set on a copy of a slice from a DataFrame.\n",
            "Try using .loc[row_indexer,col_indexer] = value instead\n",
            "\n",
            "See the caveats in the documentation: https://pandas.pydata.org/pandas-docs/stable/user_guide/indexing.html#returning-a-view-versus-a-copy\n",
            "  \"\"\"Entry point for launching an IPython kernel.\n"
          ],
          "name": "stderr"
        }
      ]
    },
    {
      "cell_type": "markdown",
      "metadata": {
        "id": "snHGtTobo8xO"
      },
      "source": [
        "<details>    \n",
        "<summary>\n",
        "    <font size=\"3\" color=\"darkgreen\"><b>Hints</b></font>\n",
        "</summary>\n",
        "<ul><li>pd.to_datetime(df['Date'].astype(str), format='%Y%m%d')</li>\n",
        "    <li>regex for empty cells = `^\\s*$` </li>\n",
        "    <li>remove month == 2 & day == 29</li> \n",
        "</ul>\n",
        "</details>"
      ]
    },
    {
      "cell_type": "code",
      "metadata": {
        "id": "Tc7ilMb3o8xP"
      },
      "source": [
        "#Test your outcome\n",
        "df.info()"
      ],
      "execution_count": null,
      "outputs": []
    },
    {
      "cell_type": "markdown",
      "metadata": {
        "id": "kXN5pXpTo8xQ"
      },
      "source": [
        "### Expected outcome"
      ]
    },
    {
      "cell_type": "markdown",
      "metadata": {
        "id": "2bCI0gJHo8xR"
      },
      "source": [
        "DatetimeIndex: 24820 entries, 1951-01-01 to 2018-12-31\n",
        "Data columns (total 5 columns):\n",
        " #   Column   Non-Null Count  Dtype         \n",
        "---  ------   --------------  -----         \n",
        " 0   station  24820 non-null  int64         \n",
        " 1   Date     24820 non-null  datetime64[ns]\n",
        " 2   Tmean    24819 non-null  float64       \n",
        " 3   Tmin     24819 non-null  float64       \n",
        " 4   Tmax     24819 non-null  float64       \n",
        "dtypes: datetime64[ns](1), float64(3), int64(1)\n",
        "memory usage: 1.1 MB"
      ]
    },
    {
      "cell_type": "markdown",
      "metadata": {
        "id": "1v15DIkXo8xS"
      },
      "source": [
        "---"
      ]
    },
    {
      "cell_type": "markdown",
      "metadata": {
        "id": "W0FmqqfWo8xT"
      },
      "source": [
        "<a name='2'></a>\n",
        "## Part 3: Reform your data\n",
        "\n",
        "First we will split the data in data from 2018 and data before 2018. Best is to split this in two dataframes. \n",
        "Next we need for the non 2018 data the minimum values for each day and the maximum values for each day. So we look for the minimum value out of all january-01 minimum values (regardless the year). Create a dataframe with 365 days containing the ultimate minimum and the ultimate maximum per day. \n"
      ]
    },
    {
      "cell_type": "code",
      "metadata": {
        "id": "LH2B7Pgzo8xU"
      },
      "source": [
        "def month_day(df_multipleyears):\n",
        "    #your code to reform data here\n",
        "    \n",
        "    print(df_groupedbymonthday)"
      ],
      "execution_count": null,
      "outputs": []
    },
    {
      "cell_type": "code",
      "metadata": {
        "id": "QCw0F4kFo8xU"
      },
      "source": [
        "#Test your code\n",
        "def test_reformed(df)\n",
        "    #\n",
        "    df = df[(df.index.year > 2007) & (df.index.year < 2018)]\n",
        "    month_day(df)\n",
        "\n",
        "test_reformed(df)"
      ],
      "execution_count": null,
      "outputs": []
    },
    {
      "cell_type": "markdown",
      "metadata": {
        "id": "XrsQJWiyo8xV"
      },
      "source": [
        "<details>    \n",
        "<summary>\n",
        "    <font size=\"3\" color=\"darkgreen\"><b>Hints</b></font>\n",
        "</summary>\n",
        "<ul><li>use the dt.month and dt.day to groupby</li>\n",
        "</ul>\n",
        "</details>"
      ]
    },
    {
      "cell_type": "markdown",
      "metadata": {
        "id": "4_166MRGo8xW"
      },
      "source": [
        "### Expected outcome\n",
        "Note, the layout or names my differ, but the length should be 365 and the minimum values should be the same"
      ]
    },
    {
      "cell_type": "markdown",
      "metadata": {
        "id": "w0z5eg8co8xW"
      },
      "source": [
        "month  day\n",
        "1      1      -5.8\n",
        "       2      -7.5\n",
        "       3     -12.6\n",
        "       4      -4.1\n",
        "       5      -6.0\n",
        "              ... \n",
        "12     27     -4.8\n",
        "       28     -4.2\n",
        "       29     -6.7\n",
        "       30    -10.2\n",
        "       31    -10.6\n",
        "Name: Tmin, Length: 365, dtype: float64"
      ]
    },
    {
      "cell_type": "markdown",
      "metadata": {
        "id": "RVus0QOqo8xX"
      },
      "source": [
        "---"
      ]
    },
    {
      "cell_type": "markdown",
      "metadata": {
        "id": "NmKWsZUso8xZ"
      },
      "source": [
        "<a name='3'></a>\n",
        "## Part 4: Smooth the data\n",
        "\n",
        "Make a function that takes an array or a dataframe column and returns an array of smoothed data. Explain in words why you choose a certain smoothing algoritm\n"
      ]
    },
    {
      "cell_type": "code",
      "metadata": {
        "id": "nC0W3eXvo8xa"
      },
      "source": [
        "#your code here\n",
        "#your motivation here"
      ],
      "execution_count": null,
      "outputs": []
    },
    {
      "cell_type": "markdown",
      "metadata": {
        "id": "xWedUjJoo8xc"
      },
      "source": [
        "---"
      ]
    },
    {
      "cell_type": "markdown",
      "metadata": {
        "id": "d4_S1JdCo8xd"
      },
      "source": [
        "<a name='4'></a>\n",
        "## Part 5: Visualize the data"
      ]
    },
    {
      "cell_type": "markdown",
      "metadata": {
        "id": "6tTPKz5Ho8xe"
      },
      "source": [
        "Plot the mean temperature of the year 2018. Create a shaded band with the ultimate minimum values and the ultimate maximum values from the multi-year dataset. Add labels, titles and legends. Use proper ranges. Be creative to make the plot attractive. \n",
        "\n"
      ]
    },
    {
      "cell_type": "markdown",
      "metadata": {
        "id": "xFz8Ve8Eo8xf"
      },
      "source": [
        "<details>    \n",
        "<summary>\n",
        "    <font size=\"3\" color=\"darkgreen\"><b>Hints</b></font>\n",
        "</summary>\n",
        "<ul><li>use from bokeh.models import Band</li>\n",
        "    <li>use ColumnDataSource to parse data arrays</li>\n",
        "    <li>look for xaxis tick formatters</li>\n",
        "</ul>\n",
        "</details>"
      ]
    },
    {
      "cell_type": "markdown",
      "metadata": {
        "id": "7oNy6nYCo8xh"
      },
      "source": [
        "---"
      ]
    },
    {
      "cell_type": "markdown",
      "metadata": {
        "id": "FXeZM7Pko8xi"
      },
      "source": [
        "<a name='5'></a>\n",
        "## Part 6: Challenge"
      ]
    },
    {
      "cell_type": "markdown",
      "metadata": {
        "id": "xn7ob0Sxo8xj"
      },
      "source": [
        "Make a widget in which you can select the year range for the multiyear set. Add this to your layout to make the plot interactive. Add another widget to select or deselect the smoother. Inspiration: https://demo.bokeh.org/weather"
      ]
    },
    {
      "cell_type": "code",
      "metadata": {
        "id": "QpuiChlTo8xk"
      },
      "source": [
        ""
      ],
      "execution_count": null,
      "outputs": []
    }
  ]
}