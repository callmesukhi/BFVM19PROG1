{
  "nbformat": 4,
  "nbformat_minor": 0,
  "metadata": {
    "kernelspec": {
      "display_name": "Python 3",
      "language": "python",
      "name": "python3"
    },
    "language_info": {
      "codemirror_mode": {
        "name": "ipython",
        "version": 3
      },
      "file_extension": ".py",
      "mimetype": "text/x-python",
      "name": "python",
      "nbconvert_exporter": "python",
      "pygments_lexer": "ipython3",
      "version": "3.8.1"
    },
    "colab": {
      "name": "Assignment_week_05.ipynb",
      "provenance": [],
      "toc_visible": true,
      "include_colab_link": true
    }
  },
  "cells": [
    {
      "cell_type": "markdown",
      "metadata": {
        "id": "view-in-github",
        "colab_type": "text"
      },
      "source": [
        "<a href=\"https://colab.research.google.com/github/callmesukhi/BFVM19PROG1/blob/main/assessments/Assignment_week_05.ipynb\" target=\"_parent\"><img src=\"https://colab.research.google.com/assets/colab-badge.svg\" alt=\"Open In Colab\"/></a>"
      ]
    },
    {
      "cell_type": "markdown",
      "metadata": {
        "id": "vZaA7sGoH6-H"
      },
      "source": [
        "## Assignment week 05: Sleeping habits\n",
        "\n",
        "Welcome to **week five** of this course programming 1. You will learn about analysing data with pandas and numpy and you will learn to visualize with bokeh. Concretely, you will preprocess the Sleep Study data in an appropiate format in order to conduct statistical and visual analysis. Learning outcomes:\n",
        "\n",
        "\n",
        "## About the data\n",
        "\n",
        "The data is collected from a survey-based study of the sleeping habits of individuals within the US. \n",
        "\n",
        "Below is a description of each of the variables contained within the dataset.\n",
        "\n",
        "- Enough = Do you think that you get enough sleep?\n",
        "- Hours = On average, how many hours of sleep do you get on a weeknight?\n",
        "- PhoneReach = Do you sleep with your phone within arms reach?\n",
        "- PhoneTime = Do you use your phone within 30 minutes of falling asleep?\n",
        "- Tired = On a scale from 1 to 5, how tired are you throughout the day? (1 being not tired, 5 being very tired)\n",
        "- Breakfast = Do you typically eat breakfast?\n",
        "\n",
        "The two research questions you should answer in this assignment are:\n",
        "1. Is there a differences in Hours sleep caused by having breakfast (yes, no)?\n",
        "2. Is there a differences in Hours sleep caused by having breakfast and the tireness (score)\n",
        "\n",
        "\n",
        "The assignment consists of 6 parts:\n",
        "\n",
        "- [part 1: load the data](#0)\n",
        "- [part 2: data inspection](#1)\n",
        "- [part 3: check assumptions](#2)\n",
        "   - [check normality 3.1](#ex-31)\n",
        "   - [check equal variance 3.2](#ex-32)\n",
        "- [part 4: prepare the data](#3)\n",
        "- [part 5: answer the research question](#4)\n",
        "- [part 6: enhanced plotting](#5)\n",
        "\n",
        "Part 1 till 5 are mandatory, part 6 is optional (bonus)\n",
        "To pass the assingnment you need to a score of 60%. \n",
        "\n",
        "\n",
        "**NOTE If your project data is suitable you can use that data instead of the given data**"
      ]
    },
    {
      "cell_type": "markdown",
      "metadata": {
        "id": "HncclMyeH6-I"
      },
      "source": [
        "## ANOVA\n",
        "\n",
        "Analysis of variance (ANOVA) compares the variances between groups versus within groups. It basically determines whether the differences between groups is larger than the differences within a group (the noise). \n",
        "A graph picturing this is as follow: https://link.springer.com/article/10.1007/s00424-019-02300-4/figures/2\n",
        "\n",
        "\n",
        "In ANOVA, the dependent variable must be a continuous (interval or ratio) level of measurement. For instance Glucose level. The independent variables in ANOVA must be categorical (nominal or ordinal) variables. For instance trial category, time of day (AM versus PM) or time of trial (different categories). Like the t-test, ANOVA is also a parametric test and has some assumptions. ANOVA assumes that the data is normally distributed.  The ANOVA also assumes homogeneity of variance, which means that the variance among the groups should be approximately equal. ANOVA also assumes that the observations are independent of each other. \n",
        "\n",
        "A one-way ANOVA has just one independent variable. A two-way ANOVA (are also called factorial ANOVA) refers to an ANOVA using two independent variables. For research question 1 we can use the one-way ANOVA, for research question two we can use two-way ANOVA. But first we need to check the assumptions. \n"
      ]
    },
    {
      "cell_type": "markdown",
      "metadata": {
        "id": "mc5VoB7sH6-J"
      },
      "source": [
        "---"
      ]
    },
    {
      "cell_type": "markdown",
      "metadata": {
        "id": "OELKvqIVH6-K"
      },
      "source": [
        "<a name='0'></a>\n",
        "## Part 1: Load the data (10 pt)\n",
        "\n",
        "load the `sleep.csv` data. Get yourself familiar with the data. Answer the following questions.\n",
        "\n",
        "1. What is the percentage missing data?\n",
        "2. Considering the research question, what is the dependent variable and what are the indepent variables? Are they of the correct datatype? "
      ]
    },
    {
      "cell_type": "code",
      "metadata": {
        "id": "BrC0ST2e1CPp"
      },
      "source": [
        "import pandas as pd\r\n",
        "import numpy as np"
      ],
      "execution_count": 1,
      "outputs": []
    },
    {
      "cell_type": "code",
      "metadata": {
        "id": "3KOo3h4E2-M0"
      },
      "source": [
        "class color:\r\n",
        "   PURPLE = '\\033[95m'\r\n",
        "   CYAN = '\\033[96m'\r\n",
        "   DARKCYAN = '\\033[36m'\r\n",
        "   BLUE = '\\033[94m'\r\n",
        "   GREEN = '\\033[92m'\r\n",
        "   YELLOW = '\\033[93m'\r\n",
        "   RED = '\\033[91m'\r\n",
        "   BOLD = '\\033[1m'\r\n",
        "   UNDERLINE = '\\033[4m'\r\n",
        "   END = '\\033[0m'"
      ],
      "execution_count": 2,
      "outputs": []
    },
    {
      "cell_type": "code",
      "metadata": {
        "id": "idMXAlacH6-K",
        "outputId": "fb0f960f-e2a7-4c21-973f-a331b7de9f35",
        "colab": {
          "base_uri": "https://localhost:8080/",
          "height": 272
        }
      },
      "source": [
        "#code printing percentage missing data\r\n",
        "df = pd.read_csv('/content/sleep.csv')\r\n",
        "missing_data = df.isnull().mean()\r\n",
        "print(color.BOLD + color.UNDERLINE + \"Percentage of missing data is:\" +color.END + color.DARKCYAN +  f' \"{round((missing_data.Hours * 100), 2)}%\"' + color.END)\r\n",
        "print('\\n')\r\n",
        "print(color.BOLD + color.UNDERLINE + color.PURPLE + \"Actual Data:\" + color.END)\r\n",
        "df.head()"
      ],
      "execution_count": 3,
      "outputs": [
        {
          "output_type": "stream",
          "text": [
            "\u001b[1m\u001b[4mPercentage of missing data is:\u001b[0m\u001b[36m \"1.92%\"\u001b[0m\n",
            "\n",
            "\n",
            "\u001b[1m\u001b[4m\u001b[95mActual Data:\u001b[0m\n"
          ],
          "name": "stdout"
        },
        {
          "output_type": "execute_result",
          "data": {
            "text/html": [
              "<div>\n",
              "<style scoped>\n",
              "    .dataframe tbody tr th:only-of-type {\n",
              "        vertical-align: middle;\n",
              "    }\n",
              "\n",
              "    .dataframe tbody tr th {\n",
              "        vertical-align: top;\n",
              "    }\n",
              "\n",
              "    .dataframe thead th {\n",
              "        text-align: right;\n",
              "    }\n",
              "</style>\n",
              "<table border=\"1\" class=\"dataframe\">\n",
              "  <thead>\n",
              "    <tr style=\"text-align: right;\">\n",
              "      <th></th>\n",
              "      <th>Enough</th>\n",
              "      <th>Hours</th>\n",
              "      <th>PhoneReach</th>\n",
              "      <th>PhoneTime</th>\n",
              "      <th>Tired</th>\n",
              "      <th>Breakfast</th>\n",
              "    </tr>\n",
              "  </thead>\n",
              "  <tbody>\n",
              "    <tr>\n",
              "      <th>0</th>\n",
              "      <td>Yes</td>\n",
              "      <td>8.0</td>\n",
              "      <td>Yes</td>\n",
              "      <td>Yes</td>\n",
              "      <td>3</td>\n",
              "      <td>Yes</td>\n",
              "    </tr>\n",
              "    <tr>\n",
              "      <th>1</th>\n",
              "      <td>No</td>\n",
              "      <td>6.0</td>\n",
              "      <td>Yes</td>\n",
              "      <td>Yes</td>\n",
              "      <td>3</td>\n",
              "      <td>No</td>\n",
              "    </tr>\n",
              "    <tr>\n",
              "      <th>2</th>\n",
              "      <td>Yes</td>\n",
              "      <td>6.0</td>\n",
              "      <td>Yes</td>\n",
              "      <td>Yes</td>\n",
              "      <td>2</td>\n",
              "      <td>Yes</td>\n",
              "    </tr>\n",
              "    <tr>\n",
              "      <th>3</th>\n",
              "      <td>No</td>\n",
              "      <td>7.0</td>\n",
              "      <td>Yes</td>\n",
              "      <td>Yes</td>\n",
              "      <td>4</td>\n",
              "      <td>No</td>\n",
              "    </tr>\n",
              "    <tr>\n",
              "      <th>4</th>\n",
              "      <td>No</td>\n",
              "      <td>7.0</td>\n",
              "      <td>Yes</td>\n",
              "      <td>Yes</td>\n",
              "      <td>2</td>\n",
              "      <td>Yes</td>\n",
              "    </tr>\n",
              "  </tbody>\n",
              "</table>\n",
              "</div>"
            ],
            "text/plain": [
              "  Enough  Hours PhoneReach PhoneTime  Tired Breakfast\n",
              "0    Yes    8.0        Yes       Yes      3       Yes\n",
              "1     No    6.0        Yes       Yes      3        No\n",
              "2    Yes    6.0        Yes       Yes      2       Yes\n",
              "3     No    7.0        Yes       Yes      4        No\n",
              "4     No    7.0        Yes       Yes      2       Yes"
            ]
          },
          "metadata": {
            "tags": []
          },
          "execution_count": 3
        }
      ]
    },
    {
      "cell_type": "code",
      "metadata": {
        "id": "FbkvyaplH6-L",
        "outputId": "d8055ca4-ee4c-4b95-f314-063d9eb24ca1",
        "colab": {
          "base_uri": "https://localhost:8080/"
        }
      },
      "source": [
        "#code printing answer dependent and independent variables\r\n",
        "variables = df.columns.tolist()\r\n",
        "print(color.BOLD + color.UNDERLINE + 'Dependent variables are:'+ color.END + color.PURPLE + f' {variables[1]}' + color.END)\r\n",
        "print('\\n')\r\n",
        "del variables[1]\r\n",
        "print(color.BOLD + color.UNDERLINE + 'Independent variables are:' + color.END + color.GREEN + f' {variables}' + color.END)"
      ],
      "execution_count": 15,
      "outputs": [
        {
          "output_type": "stream",
          "text": [
            "\u001b[1m\u001b[4mDependent variables are:\u001b[0m\u001b[95m Hours\u001b[0m\n",
            "\n",
            "\n",
            "\u001b[1m\u001b[4mIndependent variables are:\u001b[0m\u001b[92m ['Enough', 'PhoneReach', 'PhoneTime', 'Tired', 'Breakfast']\u001b[0m\n"
          ],
          "name": "stdout"
        }
      ]
    },
    {
      "cell_type": "code",
      "metadata": {
        "id": "MfFCO7btH6-L",
        "outputId": "c47f74e7-6753-440f-a03d-30dcf89b802b",
        "colab": {
          "base_uri": "https://localhost:8080/"
        }
      },
      "source": [
        "#code printing answer about datatypes\r\n",
        "print(color.BOLD + color.UNDERLINE + f'Current DataTypes are:\\n' + color.END + f'{df.dtypes}')\r\n",
        "\r\n",
        "columns = ['Enough', 'PhoneReach', 'PhoneTime', 'Breakfast']\r\n",
        "\r\n",
        "for col in columns:\r\n",
        "  df[col] = df[col].astype('category')\r\n",
        "\r\n",
        "print('\\n')\r\n",
        "print(color.BOLD + color.UNDERLINE + f'Changed DataTypes:\\n' + color.END + f'{df.dtypes}')"
      ],
      "execution_count": 5,
      "outputs": [
        {
          "output_type": "stream",
          "text": [
            "\u001b[1m\u001b[4mCurrent DataTypes are:\n",
            "\u001b[0mEnough         object\n",
            "Hours         float64\n",
            "PhoneReach     object\n",
            "PhoneTime      object\n",
            "Tired           int64\n",
            "Breakfast      object\n",
            "dtype: object\n",
            "\n",
            "\n",
            "\u001b[1m\u001b[4mChanged DataTypes:\n",
            "\u001b[0mEnough        category\n",
            "Hours          float64\n",
            "PhoneReach    category\n",
            "PhoneTime     category\n",
            "Tired            int64\n",
            "Breakfast     category\n",
            "dtype: object\n"
          ],
          "name": "stdout"
        }
      ]
    },
    {
      "cell_type": "markdown",
      "metadata": {
        "id": "nIZlI24PH6-M"
      },
      "source": [
        "---"
      ]
    },
    {
      "cell_type": "markdown",
      "metadata": {
        "id": "I86gIRzTH6-N"
      },
      "source": [
        "<a name='1'></a>\n",
        "## Part 2: Inspect the data (30 pt)\n",
        "\n",
        "Inspect the data practically. Get an idea about how well the variable categories are ballanced. Are the values of a variable equally divided? What is the mean value of the dependent variable? Are there correlations amongs the variables?\n"
      ]
    },
    {
      "cell_type": "markdown",
      "metadata": {
        "id": "_yCrO8D-H6-N"
      },
      "source": [
        "<ul>\n",
        "<li>Create some meaninful overviews such as variable value counts</li>\n",
        "<li>Create a scatter plot ploting the relation between being tired and hours of sleep with different colors for Breakfast</li>\n",
        "    <li>Print some basic statistics about the target (mean, standard deviation)</li>\n",
        "    <li>Create a heatmap to check for correlations among variables. </li>\n",
        "\n",
        "<details>    \n",
        "<summary>\n",
        "    <font size=\"3\" color=\"darkgreen\"><b>Hints</b></font>\n",
        "</summary>\n",
        "    <ul><li>the gitbook has a bokeh heatmap example</li></ul>\n",
        "</details>\n",
        "</ul>"
      ]
    },
    {
      "cell_type": "code",
      "metadata": {
        "id": "qgNlcmKIH6-N",
        "outputId": "a5a972e7-be89-4341-c7e8-4e6c87432ca1",
        "colab": {
          "base_uri": "https://localhost:8080/"
        }
      },
      "source": [
        "#code your answer to the value counts and distribution plots here\r\n",
        "df.info()"
      ],
      "execution_count": 22,
      "outputs": [
        {
          "output_type": "stream",
          "text": [
            "<class 'pandas.core.frame.DataFrame'>\n",
            "RangeIndex: 104 entries, 0 to 103\n",
            "Data columns (total 6 columns):\n",
            " #   Column      Non-Null Count  Dtype   \n",
            "---  ------      --------------  -----   \n",
            " 0   Enough      104 non-null    category\n",
            " 1   Hours       102 non-null    float64 \n",
            " 2   PhoneReach  104 non-null    category\n",
            " 3   PhoneTime   104 non-null    category\n",
            " 4   Tired       104 non-null    int64   \n",
            " 5   Breakfast   104 non-null    category\n",
            "dtypes: category(4), float64(1), int64(1)\n",
            "memory usage: 2.5 KB\n"
          ],
          "name": "stdout"
        }
      ]
    },
    {
      "cell_type": "code",
      "metadata": {
        "id": "I_T8wJ40H6-O"
      },
      "source": [
        "#code for the scatter plot here"
      ],
      "execution_count": null,
      "outputs": []
    },
    {
      "cell_type": "code",
      "metadata": {
        "id": "q5KKi4BLH6-O"
      },
      "source": [
        "#code your answer to the target statistics here"
      ],
      "execution_count": null,
      "outputs": []
    },
    {
      "cell_type": "code",
      "metadata": {
        "id": "wZimWSccH6-O"
      },
      "source": [
        "#code your answer for the heatmap here and briefly state your finding"
      ],
      "execution_count": null,
      "outputs": []
    },
    {
      "cell_type": "markdown",
      "metadata": {
        "id": "0jPij4keH6-P"
      },
      "source": [
        "---"
      ]
    },
    {
      "cell_type": "markdown",
      "metadata": {
        "id": "8rF3ehQFH6-P"
      },
      "source": [
        "<a name='2'></a>\n",
        "## Part 3: Check Assumptions\n",
        "\n",
        "Before we answer the research question with ANOVA we need to check the following assumptions:\n",
        "\n",
        "1. ANOVA assumes that the dependent variable is normaly distributed\n",
        "2. ANOVA also assumes homogeneity of variance\n",
        "3. ANOVA also assumes that the observations are independent of each other. Most of the time we need domain knowledge and experiment setup descriptions to estimate this assumption\n",
        "\n",
        "We are going to do this graphically and statistically. "
      ]
    },
    {
      "cell_type": "markdown",
      "metadata": {
        "id": "f9r-gBn0H6-P"
      },
      "source": [
        "<a name='ex-31'></a>\n",
        "### Check normality (10 pt)\n",
        "\n",
        "<ul><li>\n",
        "Plot the distribution of the dependent variable. Add a vertical line at the position of the average. Add a vertical line for the robuust estimation. Add the normal distribution line to the plot. Comment on the normallity of the data. Do you want the full points? Plot with bokeh!</li>\n",
        "\n",
        "<li>Use a Shapiro-Wilk Test or an Anderson-Darling test to check statistically</li></ul>\n",
        "\n",
        "\n",
        "<details>    \n",
        "<summary>\n",
        "    <font size=\"3\" color=\"darkgreen\"><b>Hints</b></font>\n",
        "</summary>\n",
        "    <ul><li>check the code of lesson 1 DS1 bayesian statistics</li>\n",
        "        <li>heart_failure case of gitbook uses bokeh histograms</li>\n",
        "</ul>\n",
        "</details>"
      ]
    },
    {
      "cell_type": "code",
      "metadata": {
        "id": "WKD99y_SH6-P"
      },
      "source": [
        "# your code to plot here"
      ],
      "execution_count": null,
      "outputs": []
    },
    {
      "cell_type": "code",
      "metadata": {
        "id": "w1V5uok1H6-Q"
      },
      "source": [
        "# briefly summarize your findings"
      ],
      "execution_count": null,
      "outputs": []
    },
    {
      "cell_type": "markdown",
      "metadata": {
        "id": "feVuXuzeH6-Q"
      },
      "source": [
        "<a name='ex-32'></a>\n",
        "### Check homogeneity of variance (20 pt)\n",
        "\n",
        "<ul><li>\n",
        "Use boxplots for the check of homoegeneity of variance. Do you want the full points? Plot with bokeh!</li>\n",
        "\n",
        "<li>Use a Levene’s & Bartlett’s Test of Equality (Homogeneity) of Variance to test equal variance statistically</li><ul>"
      ]
    },
    {
      "cell_type": "code",
      "metadata": {
        "id": "8WUxN1GMH6-Q"
      },
      "source": [
        "# your code to plot here"
      ],
      "execution_count": null,
      "outputs": []
    },
    {
      "cell_type": "code",
      "metadata": {
        "id": "F0gGroTuH6-Q"
      },
      "source": [
        "# your code for the statistical test here"
      ],
      "execution_count": null,
      "outputs": []
    },
    {
      "cell_type": "code",
      "metadata": {
        "id": "MrGHKWmwH6-R"
      },
      "source": [
        "# briefly summarize your findings"
      ],
      "execution_count": null,
      "outputs": []
    },
    {
      "cell_type": "markdown",
      "metadata": {
        "id": "0PjlBPpGH6-R"
      },
      "source": [
        "---"
      ]
    },
    {
      "cell_type": "markdown",
      "metadata": {
        "id": "f7rzujjKH6-R"
      },
      "source": [
        "<a name='3'></a>\n",
        "## Part 4: Prepare your data (10 pt)\n",
        "\n",
        "Create a dataframe with equal samplesize. Make three categories for tireness 1-2 = no, 3 = maybe, 4-5 = yes"
      ]
    },
    {
      "cell_type": "code",
      "metadata": {
        "id": "_U7E_Li-H6-R"
      },
      "source": [
        "#your solution here"
      ],
      "execution_count": null,
      "outputs": []
    },
    {
      "cell_type": "markdown",
      "metadata": {
        "id": "vBGGwSsjH6-R"
      },
      "source": [
        "---"
      ]
    },
    {
      "cell_type": "markdown",
      "metadata": {
        "id": "UiYtOjOyH6-S"
      },
      "source": [
        "<a name='4'></a>\n",
        "## Part 5: Answer the research questions (20 pt)\n",
        "\n",
        "<details>    \n",
        "<summary>\n",
        "    <font size=\"3\" color=\"darkgreen\"><b>Hints</b></font>\n",
        "</summary>\n",
        "    <ul><li>use one-way ANOVA for research question 1</li>\n",
        "    <li>Use two-way ANOVA for research question 2</li>\n",
        "    <li>https://reneshbedre.github.io/blog/anova.html</li>\n",
        "</ul>\n",
        "</details>"
      ]
    },
    {
      "cell_type": "code",
      "metadata": {
        "id": "gKertXzkH6-S"
      },
      "source": [
        "#Your solution here"
      ],
      "execution_count": null,
      "outputs": []
    },
    {
      "cell_type": "markdown",
      "metadata": {
        "id": "CNIKNGeCH6-S"
      },
      "source": [
        "---"
      ]
    },
    {
      "cell_type": "markdown",
      "metadata": {
        "id": "GZnU-EelH6-S"
      },
      "source": [
        "<a name='5'></a>\n",
        "## Part 6: Enhanced plotting (20 pt)\n",
        "\n",
        "Create a panel with 1) your dataframe with equal samplesize 2) a picture of a sleeping beauty, 3) the scatter plot of tired / hours of sleep with different colors for Breakfast from part 2 4) the boxplots given the p-value for the anova outcome in the title"
      ]
    },
    {
      "cell_type": "code",
      "metadata": {
        "id": "Ga9ddhgUH6-T"
      },
      "source": [
        "#your solution here"
      ],
      "execution_count": null,
      "outputs": []
    }
  ]
}