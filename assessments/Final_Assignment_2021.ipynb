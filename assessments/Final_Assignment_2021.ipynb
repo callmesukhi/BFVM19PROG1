{
  "nbformat": 4,
  "nbformat_minor": 0,
  "metadata": {
    "kernelspec": {
      "display_name": "Python 3",
      "language": "python",
      "name": "python3"
    },
    "language_info": {
      "codemirror_mode": {
        "name": "ipython",
        "version": 3
      },
      "file_extension": ".py",
      "mimetype": "text/x-python",
      "name": "python",
      "nbconvert_exporter": "python",
      "pygments_lexer": "ipython3",
      "version": "3.8.1"
    },
    "colab": {
      "name": "Final_Assignment_2021.ipynb",
      "provenance": [],
      "toc_visible": true,
      "include_colab_link": true
    }
  },
  "cells": [
    {
      "cell_type": "markdown",
      "metadata": {
        "id": "view-in-github",
        "colab_type": "text"
      },
      "source": [
        "<a href=\"https://colab.research.google.com/github/callmesukhi/BFVM19PROG1/blob/main/assessments/Final_Assignment_2021.ipynb\" target=\"_parent\"><img src=\"https://colab.research.google.com/assets/colab-badge.svg\" alt=\"Open In Colab\"/></a>"
      ]
    },
    {
      "cell_type": "markdown",
      "metadata": {
        "id": "xI-NloMrM0Va"
      },
      "source": [
        "## Final Assignment"
      ]
    },
    {
      "cell_type": "markdown",
      "metadata": {
        "id": "hjl4C4_uM0Ve"
      },
      "source": [
        "\n",
        "Before working on this assignment please read these instructions fully. Use blackboard to submit a link to your repository. \n",
        "\n",
        "On blackboard your find the assessment criteria. Please familiarize yourself with the criteria before beginning the assignment.\n",
        "\n",
        "This assignment requires that you to find at least two datasets on the web which are related, and that you build an application that visualize these datasets to answer a research question with the broad topic of **health** or **agriculture** in the **region where you were born**. The region can be a city, town or a provence.  \n",
        "\n",
        "The research question should be a question with a causual nature. For instance questions like: How does independent variable X influence the dependent variable of Y?\n",
        "\n",
        "The code should be programmed efficiently. Also identify the most critical part and write software test for this part. Take into account the performance of the dataprocessing"
      ]
    },
    {
      "cell_type": "markdown",
      "metadata": {
        "id": "RFDZlrVyM0Vf"
      },
      "source": [
        "### About the data\n",
        "\n",
        "You can merge these datasets with data from different regions if you like. For instance, you might want to compare the health effect of earhtquacks in Groningen versus Los Angelos USA. \n",
        "\n",
        "You are welcome to choose datasets at your discretion, but keep in mind they will be shared with others, so choose appropriate datasets. You are welcome to use datasets of your own as well, but minimual two datasets should be coming from the web and or API's. \n",
        "\n",
        "Also, you are welcome to preserve data in its original language, but for the purposes of grading you should provide english translations in your visualization. "
      ]
    },
    {
      "cell_type": "markdown",
      "metadata": {
        "id": "UFC93S3hM0Vg"
      },
      "source": [
        "### Instructions:\n",
        "\n",
        "Define a research question, select data and code your data acquisition, data processing, data analysis and visualization. Write code to test most critical parts. Use a repository with a commit strategy and write a readme file. \n",
        "\n",
        "Write a small document with the following:\n",
        "- State the region and the domain category that your data sets are about \n",
        "- State the research question \n",
        "- Justify the chosen data storage and processing approach\n",
        "- Justify the chosen analysis approach\n",
        "- Justify the chosen data visualization approach\n",
        "\n",
        "Upload your document and the link of your repository to black board"
      ]
    },
    {
      "cell_type": "markdown",
      "metadata": {
        "id": "Q0e0ZnLuM393"
      },
      "source": [
        "### Required documents:\r\n",
        "  \r\n",
        "\r\n",
        "1.   Code file [Could be a `jupyter` notebook or `python(.py)` file]\r\n",
        "2.   Document expolainig your choices [Could combine the writing with jupyter or create a seperate document(Latex?).\r\n",
        "3.   ReadMe file for the repositry \r\n",
        "4.   Use Yaml\r\n",
        "5.   Use functions and make code more dynamic\r\n",
        "6.   Better visulization /\r\n",
        "\r\n"
      ]
    },
    {
      "cell_type": "code",
      "metadata": {
        "id": "oQ0jUdthM0Vh"
      },
      "source": [
        ""
      ],
      "execution_count": null,
      "outputs": []
    }
  ]
}