{
 "cells": [
  {
   "cell_type": "markdown",
   "metadata": {
    "id": "7y9NCiYwo8w9"
   },
   "source": [
    "# Week 04 Assignment weather data\n",
    "\n",
    "Welcome to week four of this course programming 1. You will to organise your data into the required format and apply smoothing. In this assignment we will work with weatherdata from the KNMI. A subset of weatherdata is for you available in the file: `KNMI_20181231.csv`. The data consist of several stations with daily weather data of several years. Your task is to make a plot similar to the plot below.\n",
    "\n",
    "\n",
    "<img src=\"https://github.com/callmesukhi/BFVM19PROG1/blob/main/assessments/images/weather.png?raw=1\" alt=\"drawing\" width=\"400\"/>\n",
    "\n",
    "\n",
    "Furthermore the plot needs the following enhancements\n",
    "\n",
    "1. proper titles and ticks\n",
    "2. a slider widget selecting a particular year or all years\n",
    "3. lines need to be smoothed\n",
    "3. legends needs to be added\n",
    "\n",
    "Use your creativity. Consider colors, alpha settings, sizes etc. \n",
    "\n",
    "Learning outcomes\n",
    "\n",
    "- load, inspect and clean a dataset \n",
    "- reformat dataframes\n",
    "- apply smoothing technologies\n",
    "- visualize timeseries data\n",
    "\n",
    "The assignment consists of 6 parts:\n",
    "\n",
    "- [part 1: load the data](#0)\n",
    "- [part 2: clean the data](#1)\n",
    "- [part 3: reformat data](#2)\n",
    "- [part 4: smooth the data](#3)\n",
    "- [part 5: visualize the data](#4)\n",
    "- [part 6: Challenge](#5)\n",
    "\n",
    "Part 1 and 5 are mandatory, part 6 is optional (bonus)\n",
    "To pass the assingnment you need to a score of 60%. \n"
   ]
  },
  {
   "cell_type": "markdown",
   "metadata": {
    "id": "C-h-aFp4o8xE"
   },
   "source": [
    "---"
   ]
  },
  {
   "cell_type": "markdown",
   "metadata": {
    "id": "ENflWKtzo8xG"
   },
   "source": [
    "<a name='0'></a>\n",
    "## Part 1: Load the data\n",
    "\n",
    "Either load the dataset `KNMI_20181231.csv` or `KNMI_20181231.txt.tsv`. The dataheaders contain spaces and are not very self explainable. Change this into more readable ones. Select data from station 270. Select only the mean, minimum and maximum temperature. The data should look something like this:\n"
   ]
  },
  {
   "cell_type": "code",
   "execution_count": 2,
   "metadata": {
    "id": "U1T8npcRs9U0"
   },
   "outputs": [],
   "source": [
    "import pandas as pd\n",
    "import numpy as np\n",
    "import yaml"
   ]
  },
  {
   "cell_type": "code",
   "execution_count": 3,
   "metadata": {
    "colab": {
     "base_uri": "https://localhost:8080/",
     "height": 459
    },
    "id": "oXgnzoj0tXWf",
    "outputId": "990481da-8415-4b90-b8c3-8d814d7e9087"
   },
   "outputs": [
    {
     "name": "stderr",
     "output_type": "stream",
     "text": [
      "/usr/local/lib/python3.6/dist-packages/IPython/core/interactiveshell.py:2718: DtypeWarning: Columns (0,2,3,4,5,6) have mixed types.Specify dtype option on import or set low_memory=False.\n",
      "  interactivity=interactivity, compiler=compiler, result=result)\n"
     ]
    },
    {
     "name": "stdout",
     "output_type": "stream",
     "text": [
      "<class 'pandas.core.frame.DataFrame'>\n",
      "RangeIndex: 6940 entries, 0 to 6939\n",
      "Data columns (total 5 columns):\n",
      " #   Column   Non-Null Count  Dtype         \n",
      "---  ------   --------------  -----         \n",
      " 0   STATION  6940 non-null   object        \n",
      " 1   DATE     6940 non-null   datetime64[ns]\n",
      " 2   Tmean    6940 non-null   object        \n",
      " 3   Tmin     6940 non-null   object        \n",
      " 4   Tmax     6940 non-null   object        \n",
      "dtypes: datetime64[ns](1), object(4)\n",
      "memory usage: 271.2+ KB\n",
      "None\n"
     ]
    },
    {
     "data": {
      "text/html": [
       "<div>\n",
       "<style scoped>\n",
       "    .dataframe tbody tr th:only-of-type {\n",
       "        vertical-align: middle;\n",
       "    }\n",
       "\n",
       "    .dataframe tbody tr th {\n",
       "        vertical-align: top;\n",
       "    }\n",
       "\n",
       "    .dataframe thead th {\n",
       "        text-align: right;\n",
       "    }\n",
       "</style>\n",
       "<table border=\"1\" class=\"dataframe\">\n",
       "  <thead>\n",
       "    <tr style=\"text-align: right;\">\n",
       "      <th></th>\n",
       "      <th>STATION</th>\n",
       "      <th>DATE</th>\n",
       "      <th>Tmean</th>\n",
       "      <th>Tmin</th>\n",
       "      <th>Tmax</th>\n",
       "    </tr>\n",
       "  </thead>\n",
       "  <tbody>\n",
       "    <tr>\n",
       "      <th>0</th>\n",
       "      <td>270</td>\n",
       "      <td>2000-01-01</td>\n",
       "      <td>42</td>\n",
       "      <td>-4</td>\n",
       "      <td>79</td>\n",
       "    </tr>\n",
       "    <tr>\n",
       "      <th>1</th>\n",
       "      <td>270</td>\n",
       "      <td>2000-01-02</td>\n",
       "      <td>55</td>\n",
       "      <td>33</td>\n",
       "      <td>74</td>\n",
       "    </tr>\n",
       "    <tr>\n",
       "      <th>2</th>\n",
       "      <td>270</td>\n",
       "      <td>2000-01-03</td>\n",
       "      <td>74</td>\n",
       "      <td>49</td>\n",
       "      <td>89</td>\n",
       "    </tr>\n",
       "    <tr>\n",
       "      <th>3</th>\n",
       "      <td>270</td>\n",
       "      <td>2000-01-04</td>\n",
       "      <td>46</td>\n",
       "      <td>22</td>\n",
       "      <td>75</td>\n",
       "    </tr>\n",
       "    <tr>\n",
       "      <th>4</th>\n",
       "      <td>270</td>\n",
       "      <td>2000-01-05</td>\n",
       "      <td>41</td>\n",
       "      <td>14</td>\n",
       "      <td>56</td>\n",
       "    </tr>\n",
       "  </tbody>\n",
       "</table>\n",
       "</div>"
      ],
      "text/plain": [
       "  STATION       DATE  Tmean   Tmin   Tmax\n",
       "0     270 2000-01-01     42     -4     79\n",
       "1     270 2000-01-02     55     33     74\n",
       "2     270 2000-01-03     74     49     89\n",
       "3     270 2000-01-04     46     22     75\n",
       "4     270 2000-01-05     41     14     56"
      ]
     },
     "execution_count": 3,
     "metadata": {
      "tags": []
     },
     "output_type": "execute_result"
    }
   ],
   "source": [
    "df = pd.read_csv('/content/KNMI_20181231.txt.tsv', sep=',', skiprows=63, parse_dates=['YYYYMMDD'])\n",
    "df = df.drop(df.index[0])\n",
    "df.rename(columns={\"# STN\":\"STATION\", \"YYYYMMDD\":\"DATE\", \"   TG\":\"Tmean\", \"   TN\":\"Tmin\", \"   TX\":\"Tmax\"}, inplace=True)\n",
    "df = df.drop(['   SQ', '   DR', '   RH'], axis='columns')\n",
    "df = df[df.STATION == 270]\n",
    "df = df.reset_index(drop=True)\n",
    "print(df.info())\n",
    "df.head()"
   ]
  },
  {
   "cell_type": "markdown",
   "metadata": {
    "id": "IhyWB-sLo8xH"
   },
   "source": [
    "        station      Date  Tmean   Tmin   Tmax\n",
    "245205      270  19510101      0    -40     24\n",
    "245206      270  19510102      9     -5     19\n",
    "245207      270  19510103      5     -8     17\n",
    "245208      270  19510104      5    -15     17\n",
    "245209      270  19510105     26      6     46"
   ]
  },
  {
   "cell_type": "markdown",
   "metadata": {
    "id": "wV0DgLjuo8xJ"
   },
   "source": [
    "---"
   ]
  },
  {
   "cell_type": "markdown",
   "metadata": {
    "id": "BWv_uXZJo8xL"
   },
   "source": [
    "<a name='1'></a>\n",
    "## Part 2: Clean the data"
   ]
  },
  {
   "cell_type": "markdown",
   "metadata": {
    "id": "MELtnCcyo8xM"
   },
   "source": [
    "The data ia not clean. There are empty cells in the dataframe which needs to be replaced with NaN's and the temperature is in centidegrees which needs to be transformed into degrees. The date field needs a datetime format. For visualization convience we would like to remove the leap year. Conduct the cleaning."
   ]
  },
  {
   "cell_type": "code",
   "execution_count": 4,
   "metadata": {
    "id": "UiYtXWC7M_Na"
   },
   "outputs": [],
   "source": [
    "class color:\n",
    "   PURPLE = '\\033[95m'\n",
    "   CYAN = '\\033[96m'\n",
    "   DARKCYAN = '\\033[36m'\n",
    "   BLUE = '\\033[94m'\n",
    "   GREEN = '\\033[92m'\n",
    "   YELLOW = '\\033[93m'\n",
    "   RED = '\\033[91m'\n",
    "   BOLD = '\\033[1m'\n",
    "   UNDERLINE = '\\033[4m'\n",
    "   END = '\\033[0m'"
   ]
  },
  {
   "cell_type": "code",
   "execution_count": 5,
   "metadata": {
    "colab": {
     "base_uri": "https://localhost:8080/",
     "height": 646
    },
    "id": "urx1YB5Po8xN",
    "outputId": "28c5674d-fb55-442c-c970-1d362d707a6b",
    "scrolled": true
   },
   "outputs": [
    {
     "name": "stdout",
     "output_type": "stream",
     "text": [
      "\u001b[1m\u001b[4mReplaced all the empty spaces with NaNs:\u001b[0m\n",
      "STATION    0\n",
      "DATE       0\n",
      "Tmean      0\n",
      "Tmin       0\n",
      "Tmax       0\n",
      "dtype: int64\n",
      "\n",
      "\n",
      "\u001b[1m\u001b[4mDataFrame after changing the data types of each column, converting the temprature to celcius, and removing the 29th feb from each leap year\u001b[0m\n",
      "<class 'pandas.core.frame.DataFrame'>\n",
      "Int64Index: 6935 entries, 0 to 6939\n",
      "Data columns (total 5 columns):\n",
      " #   Column   Non-Null Count  Dtype         \n",
      "---  ------   --------------  -----         \n",
      " 0   STATION  6935 non-null   int64         \n",
      " 1   DATE     6935 non-null   datetime64[ns]\n",
      " 2   Tmean    6935 non-null   float64       \n",
      " 3   Tmin     6935 non-null   float64       \n",
      " 4   Tmax     6935 non-null   float64       \n",
      "dtypes: datetime64[ns](1), float64(3), int64(1)\n",
      "memory usage: 325.1 KB\n",
      "None\n",
      "\n",
      "\n",
      "\u001b[1m\u001b[4mFinal DataFrame for station 270\u001b[0m\n"
     ]
    },
    {
     "data": {
      "text/html": [
       "<div>\n",
       "<style scoped>\n",
       "    .dataframe tbody tr th:only-of-type {\n",
       "        vertical-align: middle;\n",
       "    }\n",
       "\n",
       "    .dataframe tbody tr th {\n",
       "        vertical-align: top;\n",
       "    }\n",
       "\n",
       "    .dataframe thead th {\n",
       "        text-align: right;\n",
       "    }\n",
       "</style>\n",
       "<table border=\"1\" class=\"dataframe\">\n",
       "  <thead>\n",
       "    <tr style=\"text-align: right;\">\n",
       "      <th></th>\n",
       "      <th>STATION</th>\n",
       "      <th>DATE</th>\n",
       "      <th>Tmean</th>\n",
       "      <th>Tmin</th>\n",
       "      <th>Tmax</th>\n",
       "    </tr>\n",
       "  </thead>\n",
       "  <tbody>\n",
       "    <tr>\n",
       "      <th>0</th>\n",
       "      <td>270</td>\n",
       "      <td>2000-01-01</td>\n",
       "      <td>4.2</td>\n",
       "      <td>-0.4</td>\n",
       "      <td>7.9</td>\n",
       "    </tr>\n",
       "    <tr>\n",
       "      <th>1</th>\n",
       "      <td>270</td>\n",
       "      <td>2000-01-02</td>\n",
       "      <td>5.5</td>\n",
       "      <td>3.3</td>\n",
       "      <td>7.4</td>\n",
       "    </tr>\n",
       "    <tr>\n",
       "      <th>2</th>\n",
       "      <td>270</td>\n",
       "      <td>2000-01-03</td>\n",
       "      <td>7.4</td>\n",
       "      <td>4.9</td>\n",
       "      <td>8.9</td>\n",
       "    </tr>\n",
       "    <tr>\n",
       "      <th>3</th>\n",
       "      <td>270</td>\n",
       "      <td>2000-01-04</td>\n",
       "      <td>4.6</td>\n",
       "      <td>2.2</td>\n",
       "      <td>7.5</td>\n",
       "    </tr>\n",
       "    <tr>\n",
       "      <th>4</th>\n",
       "      <td>270</td>\n",
       "      <td>2000-01-05</td>\n",
       "      <td>4.1</td>\n",
       "      <td>1.4</td>\n",
       "      <td>5.6</td>\n",
       "    </tr>\n",
       "  </tbody>\n",
       "</table>\n",
       "</div>"
      ],
      "text/plain": [
       "   STATION       DATE  Tmean  Tmin  Tmax\n",
       "0      270 2000-01-01    4.2  -0.4   7.9\n",
       "1      270 2000-01-02    5.5   3.3   7.4\n",
       "2      270 2000-01-03    7.4   4.9   8.9\n",
       "3      270 2000-01-04    4.6   2.2   7.5\n",
       "4      270 2000-01-05    4.1   1.4   5.6"
      ]
     },
     "execution_count": 5,
     "metadata": {
      "tags": []
     },
     "output_type": "execute_result"
    }
   ],
   "source": [
    "#replace cells with spaces to NaN\n",
    "df = df.replace(r'^\\s*$', np.nan, regex=True)\n",
    "print(color.BOLD + color.UNDERLINE + \"Replaced all the empty spaces with NaNs:\" + color.END)\n",
    "print(df.isna().sum())\n",
    "print(\"\\n\")\n",
    "# #change data formats\n",
    "df['DATE'] = pd.to_datetime(df['DATE'], errors='coerce')\n",
    "df['STATION'] = pd.to_numeric(df['STATION'], errors='coerce').astype('int')\n",
    "df['Tmean'] = pd.to_numeric(df['Tmean'], errors='coerce')\n",
    "df['Tmin'] = pd.to_numeric(df['Tmin'], errors='coerce')\n",
    "df['Tmax'] = pd.to_numeric(df['Tmax'], errors='coerce')\n",
    "# #change temperatures to celcius degrees\n",
    "df['Tmean'] = df['Tmean'] / 10\n",
    "df['Tmin'] = df['Tmin'] / 10\n",
    "df['Tmax'] = df['Tmax'] / 10\n",
    "# #remove leap \n",
    "df = df[~((df['DATE'].dt.month == 2) & (df['DATE'].dt.day == 29))] \n",
    "print(color.BOLD + color.UNDERLINE + \"DataFrame after changing the data types of each column, converting the temprature to celcius, and removing the 29th feb from each leap year\" + color.END)\n",
    "print(df.info())\n",
    "print(\"\\n\")\n",
    "print(color.BOLD + color.UNDERLINE + \"Final DataFrame for station 270\" + color.END)\n",
    "df.head()\n"
   ]
  },
  {
   "cell_type": "markdown",
   "metadata": {
    "id": "snHGtTobo8xO"
   },
   "source": [
    "<details>    \n",
    "<summary>\n",
    "    <font size=\"3\" color=\"darkgreen\"><b>Hints</b></font>\n",
    "</summary>\n",
    "<ul><li>pd.to_datetime(df['Date'].astype(str), format='%Y%m%d')</li>\n",
    "    <li>regex for empty cells = `^\\s*$` </li>\n",
    "    <li>remove month == 2 & day == 29</li> \n",
    "</ul>\n",
    "</details>"
   ]
  },
  {
   "cell_type": "code",
   "execution_count": 6,
   "metadata": {
    "colab": {
     "base_uri": "https://localhost:8080/"
    },
    "id": "Tc7ilMb3o8xP",
    "outputId": "a88c3faf-2d7a-4199-e483-099023b1fa91"
   },
   "outputs": [
    {
     "name": "stdout",
     "output_type": "stream",
     "text": [
      "<class 'pandas.core.frame.DataFrame'>\n",
      "Int64Index: 6935 entries, 0 to 6939\n",
      "Data columns (total 5 columns):\n",
      " #   Column   Non-Null Count  Dtype         \n",
      "---  ------   --------------  -----         \n",
      " 0   STATION  6935 non-null   int64         \n",
      " 1   DATE     6935 non-null   datetime64[ns]\n",
      " 2   Tmean    6935 non-null   float64       \n",
      " 3   Tmin     6935 non-null   float64       \n",
      " 4   Tmax     6935 non-null   float64       \n",
      "dtypes: datetime64[ns](1), float64(3), int64(1)\n",
      "memory usage: 325.1 KB\n"
     ]
    }
   ],
   "source": [
    "#Test your outcome\n",
    "df.info()"
   ]
  },
  {
   "cell_type": "markdown",
   "metadata": {
    "id": "kXN5pXpTo8xQ"
   },
   "source": [
    "### Expected outcome"
   ]
  },
  {
   "cell_type": "markdown",
   "metadata": {
    "id": "2bCI0gJHo8xR"
   },
   "source": [
    "DatetimeIndex: 24820 entries, 1951-01-01 to 2018-12-31\n",
    "Data columns (total 5 columns):\n",
    " #   Column   Non-Null Count  Dtype         \n",
    "---  ------   --------------  -----         \n",
    " 0   station  24820 non-null  int64         \n",
    " 1   Date     24820 non-null  datetime64[ns]\n",
    " 2   Tmean    24819 non-null  float64       \n",
    " 3   Tmin     24819 non-null  float64       \n",
    " 4   Tmax     24819 non-null  float64       \n",
    "dtypes: datetime64[ns](1), float64(3), int64(1)\n",
    "memory usage: 1.1 MB"
   ]
  },
  {
   "cell_type": "markdown",
   "metadata": {
    "id": "1v15DIkXo8xS"
   },
   "source": [
    "---"
   ]
  },
  {
   "cell_type": "markdown",
   "metadata": {
    "id": "W0FmqqfWo8xT"
   },
   "source": [
    "<a name='2'></a>\n",
    "## Part 3: Reform your data\n",
    "\n",
    "First we will split the data in data from 2018 and data before 2018. Best is to split this in two dataframes. \n",
    "Next we need for the non 2018 data the minimum values for each day and the maximum values for each day. So we look for the minimum value out of all january-01 minimum values (regardless the year). Create a dataframe with 365 days containing the ultimate minimum and the ultimate maximum per day. \n"
   ]
  },
  {
   "cell_type": "code",
   "execution_count": 7,
   "metadata": {
    "id": "3w7qEAc3THBJ"
   },
   "outputs": [],
   "source": [
    "df_before_2018 = df[df.DATE.dt.year != 2018].set_index('DATE')\n",
    "df_2018 = df[df.DATE.dt.year == 2018].reset_index(drop = True).set_index('DATE')"
   ]
  },
  {
   "cell_type": "code",
   "execution_count": 8,
   "metadata": {
    "id": "LH2B7Pgzo8xU"
   },
   "outputs": [],
   "source": [
    "def month_day(df_before_2018):\n",
    "  df_before_2018_Tmin =  df_before_2018.groupby([df_before_2018.index.month, df_before_2018.index.day]).Tmin.min()\n",
    "  df_before_2018_Tmax =  df_before_2018.groupby([df_before_2018.index.month, df_before_2018.index.day]).Tmax.max()\n",
    "  return (df_before_2018_Tmin, df_before_2018_Tmax)"
   ]
  },
  {
   "cell_type": "code",
   "execution_count": 9,
   "metadata": {
    "colab": {
     "base_uri": "https://localhost:8080/"
    },
    "id": "QCw0F4kFo8xU",
    "outputId": "67d7cd41-8112-4966-c258-a8b86e370fb1"
   },
   "outputs": [
    {
     "name": "stdout",
     "output_type": "stream",
     "text": [
      "DATE  DATE\n",
      "1     1       -5.8\n",
      "      2       -7.5\n",
      "      3      -12.6\n",
      "      4       -4.1\n",
      "      5       -6.0\n",
      "              ... \n",
      "12    27      -4.8\n",
      "      28      -4.2\n",
      "      29      -6.7\n",
      "      30     -10.2\n",
      "      31     -10.6\n",
      "Name: Tmin, Length: 365, dtype: float64\n"
     ]
    }
   ],
   "source": [
    "#Test your code\n",
    "def test_reformed(df):\n",
    "    df = df[(df.index.year > 2007) & (df.index.year < 2018)]\n",
    "    x, y = month_day(df)\n",
    "    print(x)\n",
    "\n",
    "test_reformed(df_before_2018)"
   ]
  },
  {
   "cell_type": "markdown",
   "metadata": {
    "id": "XrsQJWiyo8xV"
   },
   "source": [
    "<details>    \n",
    "<summary>\n",
    "    <font size=\"3\" color=\"darkgreen\"><b>Hints</b></font>\n",
    "</summary>\n",
    "<ul><li>use the dt.month and dt.day to groupby</li>\n",
    "</ul>\n",
    "</details>"
   ]
  },
  {
   "cell_type": "markdown",
   "metadata": {
    "id": "4_166MRGo8xW"
   },
   "source": [
    "### Expected outcome\n",
    "Note, the layout or names my differ, but the length should be 365 and the minimum values should be the same"
   ]
  },
  {
   "cell_type": "markdown",
   "metadata": {
    "id": "w0z5eg8co8xW"
   },
   "source": [
    "month  day\n",
    "1      1      -5.8\n",
    "       2      -7.5\n",
    "       3     -12.6\n",
    "       4      -4.1\n",
    "       5      -6.0\n",
    "              ... \n",
    "12     27     -4.8\n",
    "       28     -4.2\n",
    "       29     -6.7\n",
    "       30    -10.2\n",
    "       31    -10.6\n",
    "Name: Tmin, Length: 365, dtype: float64"
   ]
  },
  {
   "cell_type": "markdown",
   "metadata": {
    "id": "RVus0QOqo8xX"
   },
   "source": [
    "---"
   ]
  },
  {
   "cell_type": "markdown",
   "metadata": {
    "id": "NmKWsZUso8xZ"
   },
   "source": [
    "<a name='3'></a>\n",
    "## Part 4: Smooth the data\n",
    "\n",
    "Make a function that takes an array or a dataframe column and returns an array of smoothed data. Explain in words why you choose a certain smoothing algoritm\n"
   ]
  },
  {
   "cell_type": "code",
   "execution_count": 42,
   "metadata": {
    "colab": {
     "base_uri": "https://localhost:8080/",
     "height": 52
    },
    "id": "VzyyoYcX-9cc",
    "outputId": "01e262c9-1815-4a7a-b58f-9502e10f5a11"
   },
   "outputs": [
    {
     "data": {
      "application/vnd.google.colaboratory.intrinsic+json": {
       "type": "string"
      },
      "text/plain": [
       "'\\nI choose Discrete fourier transformation because we have time-series data. Where we could convert real inputs to frequencies and then remove some of the lower/higher freqs and then inverse it back to the real. \\n'"
      ]
     },
     "execution_count": 42,
     "metadata": {
      "tags": []
     },
     "output_type": "execute_result"
    }
   ],
   "source": [
    "def smooth_data(df_column):\n",
    "  import numpy as np\n",
    "  rft = np.fft.rfft(df_column) \n",
    "  rft[8:] = 0 # removing lower frequencies \n",
    "  smooth_column = np.fft.irfft(rft)\n",
    "  return smooth_column\n",
    "\n",
    "'''\n",
    "I choose Discrete fourier transformation because we have time-series data. Where we could convert real inputs to frequencies and then remove some of the lower/higher freqs and then inverse it back to the real. \n",
    "'''"
   ]
  },
  {
   "cell_type": "code",
   "execution_count": 15,
   "metadata": {
    "colab": {
     "base_uri": "https://localhost:8080/",
     "height": 265
    },
    "id": "nC0W3eXvo8xa",
    "outputId": "35277a05-a3d5-4665-9096-fe4bd2a30717"
   },
   "outputs": [
    {
     "data": {
      "image/png": "[encoded data removed]",
      "text/plain": [
       "<Figure size 432x288 with 1 Axes>"
      ]
     },
     "metadata": {
      "needs_background": "light",
      "tags": []
     },
     "output_type": "display_data"
    }
   ],
   "source": [
    "import matplotlib.pyplot as plt\n",
    "\n",
    "x1 = np.arange(365)\n",
    "x2 = np.arange(364)\n",
    "rft_min = np.fft.rfft(df_before_2018_Tmin)\n",
    "rft_max = np.fft.rfft(df_before_2018_Tmax)\n",
    "rft_mean = np.fft.rfft(df_2018.Tmean)\n",
    "rft_min[5:] = 0 \n",
    "rft_max[5:] = 0 \n",
    "rft_mean[5:] = 0\n",
    "y_smooth_min = np.fft.irfft(rft_min)\n",
    "y_smooth_max = np.fft.irfft(rft_max)\n",
    "y_smooth_mean = np.fft.irfft(rft_mean)\n",
    "\n",
    "plt.plot(x1, month_day(df_before_2018)[0], color='gray')\n",
    "plt.plot(x1, month_day(df_before_2018)[1], color='gray')\n",
    "plt.plot(x1, df_2018.Tmean)\n",
    "plt.plot(x2, smooth_data(month_day(df_before_2018)[0]), label='Smoothed Min')\n",
    "plt.plot(x2, smooth_data(month_day(df_before_2018)[1]), label='Smoothed Max')\n",
    "plt.plot(x2, smooth_data(df_2018.Tmean), label='Smoothed 2018')\n",
    "\n",
    "\n",
    "plt.fill_between(x1, month_day(df_before_2018)[0], month_day(df_before_2018)[1],\n",
    "                 facecolor=\"gray\") # The fill color\n",
    "\n",
    "plt.legend(loc=0)\n",
    "plt.show()"
   ]
  },
  {
   "cell_type": "markdown",
   "metadata": {
    "id": "xWedUjJoo8xc"
   },
   "source": [
    "---"
   ]
  },
  {
   "cell_type": "markdown",
   "metadata": {
    "id": "d4_S1JdCo8xd"
   },
   "source": [
    "<a name='4'></a>\n",
    "## Part 5: Visualize the data"
   ]
  },
  {
   "cell_type": "markdown",
   "metadata": {
    "id": "6tTPKz5Ho8xe"
   },
   "source": [
    "Plot the mean temperature of the year 2018. Create a shaded band with the ultimate minimum values and the ultimate maximum values from the multi-year dataset. Add labels, titles and legends. Use proper ranges. Be creative to make the plot attractive. \n",
    "\n"
   ]
  },
  {
   "cell_type": "markdown",
   "metadata": {
    "id": "xFz8Ve8Eo8xf"
   },
   "source": [
    "<details>    \n",
    "<summary>\n",
    "    <font size=\"3\" color=\"darkgreen\"><b>Hints</b></font>\n",
    "</summary>\n",
    "<ul><li>use from bokeh.models import Band</li>\n",
    "    <li>use ColumnDataSource to parse data arrays</li>\n",
    "    <li>look for xaxis tick formatters</li>\n",
    "</ul>\n",
    "</details>"
   ]
  },
  {
   "cell_type": "code",
   "execution_count": 43,
   "metadata": {
    "id": "gJykaAwSz5Kr"
   },
   "outputs": [],
   "source": [
    "from bokeh.io import output_notebook, curdoc\n",
    "from bokeh.plotting import figure, show\n",
    "from bokeh.layouts import gridplot, column\n",
    "from bokeh.models import Select, ColumnDataSource, Band, CheckboxGroup, Legend, LegendItem\n",
    "from bokeh.models.widgets import Panel, Tabs\n",
    "output_notebook()"
   ]
  },
  {
   "cell_type": "code",
   "execution_count": 47,
   "metadata": {
    "colab": {
     "base_uri": "https://localhost:8080/",
     "height": 817
    },
    "id": "Sq0OQsPQ7DIb",
    "outputId": "b432056f-ea6c-429a-9d19-db9a1e10a86d"
   },
   "outputs": [
    {
     "data": {
      "application/javascript": [
       "\n",
       "(function(root) {\n",
       "  function now() {\n",
       "    return new Date();\n",
       "  }\n",
       "\n",
       "  var force = true;\n",
       "\n",
       "  if (typeof root._bokeh_onload_callbacks === \"undefined\" || force === true) {\n",
       "    root._bokeh_onload_callbacks = [];\n",
       "    root._bokeh_is_loading = undefined;\n",
       "  }\n",
       "\n",
       "  var JS_MIME_TYPE = 'application/javascript';\n",
       "  var HTML_MIME_TYPE = 'text/html';\n",
       "  var EXEC_MIME_TYPE = 'application/vnd.bokehjs_exec.v0+json';\n",
       "  var CLASS_NAME = 'output_bokeh rendered_html';\n",
       "\n",
       "  /**\n",
       "   * Render data to the DOM node\n",
       "   */\n",
       "  function render(props, node) {\n",
       "    var script = document.createElement(\"script\");\n",
       "    node.appendChild(script);\n",
       "  }\n",
       "\n",
       "  /**\n",
       "   * Handle when an output is cleared or removed\n",
       "   */\n",
       "  function handleClearOutput(event, handle) {\n",
       "    var cell = handle.cell;\n",
       "\n",
       "    var id = cell.output_area._bokeh_element_id;\n",
       "    var server_id = cell.output_area._bokeh_server_id;\n",
       "    // Clean up Bokeh references\n",
       "    if (id != null && id in Bokeh.index) {\n",
       "      Bokeh.index[id].model.document.clear();\n",
       "      delete Bokeh.index[id];\n",
       "    }\n",
       "\n",
       "    if (server_id !== undefined) {\n",
       "      // Clean up Bokeh references\n",
       "      var cmd = \"from bokeh.io.state import curstate; print(curstate().uuid_to_server['\" + server_id + \"'].get_sessions()[0].document.roots[0]._id)\";\n",
       "      cell.notebook.kernel.execute(cmd, {\n",
       "        iopub: {\n",
       "          output: function(msg) {\n",
       "            var id = msg.content.text.trim();\n",
       "            if (id in Bokeh.index) {\n",
       "              Bokeh.index[id].model.document.clear();\n",
       "              delete Bokeh.index[id];\n",
       "            }\n",
       "          }\n",
       "        }\n",
       "      });\n",
       "      // Destroy server and session\n",
       "      var cmd = \"import bokeh.io.notebook as ion; ion.destroy_server('\" + server_id + \"')\";\n",
       "      cell.notebook.kernel.execute(cmd);\n",
       "    }\n",
       "  }\n",
       "\n",
       "  /**\n",
       "   * Handle when a new output is added\n",
       "   */\n",
       "  function handleAddOutput(event, handle) {\n",
       "    var output_area = handle.output_area;\n",
       "    var output = handle.output;\n",
       "\n",
       "    // limit handleAddOutput to display_data with EXEC_MIME_TYPE content only\n",
       "    if ((output.output_type != \"display_data\") || (!output.data.hasOwnProperty(EXEC_MIME_TYPE))) {\n",
       "      return\n",
       "    }\n",
       "\n",
       "    var toinsert = output_area.element.find(\".\" + CLASS_NAME.split(' ')[0]);\n",
       "\n",
       "    if (output.metadata[EXEC_MIME_TYPE][\"id\"] !== undefined) {\n",
       "      toinsert[toinsert.length - 1].firstChild.textContent = output.data[JS_MIME_TYPE];\n",
       "      // store reference to embed id on output_area\n",
       "      output_area._bokeh_element_id = output.metadata[EXEC_MIME_TYPE][\"id\"];\n",
       "    }\n",
       "    if (output.metadata[EXEC_MIME_TYPE][\"server_id\"] !== undefined) {\n",
       "      var bk_div = document.createElement(\"div\");\n",
       "      bk_div.innerHTML = output.data[HTML_MIME_TYPE];\n",
       "      var script_attrs = bk_div.children[0].attributes;\n",
       "      for (var i = 0; i < script_attrs.length; i++) {\n",
       "        toinsert[toinsert.length - 1].firstChild.setAttribute(script_attrs[i].name, script_attrs[i].value);\n",
       "        toinsert[toinsert.length - 1].firstChild.textContent = bk_div.children[0].textContent\n",
       "      }\n",
       "      // store reference to server id on output_area\n",
       "      output_area._bokeh_server_id = output.metadata[EXEC_MIME_TYPE][\"server_id\"];\n",
       "    }\n",
       "  }\n",
       "\n",
       "  function register_renderer(events, OutputArea) {\n",
       "\n",
       "    function append_mime(data, metadata, element) {\n",
       "      // create a DOM node to render to\n",
       "      var toinsert = this.create_output_subarea(\n",
       "        metadata,\n",
       "        CLASS_NAME,\n",
       "        EXEC_MIME_TYPE\n",
       "      );\n",
       "      this.keyboard_manager.register_events(toinsert);\n",
       "      // Render to node\n",
       "      var props = {data: data, metadata: metadata[EXEC_MIME_TYPE]};\n",
       "      render(props, toinsert[toinsert.length - 1]);\n",
       "      element.append(toinsert);\n",
       "      return toinsert\n",
       "    }\n",
       "\n",
       "    /* Handle when an output is cleared or removed */\n",
       "    events.on('clear_output.CodeCell', handleClearOutput);\n",
       "    events.on('delete.Cell', handleClearOutput);\n",
       "\n",
       "    /* Handle when a new output is added */\n",
       "    events.on('output_added.OutputArea', handleAddOutput);\n",
       "\n",
       "    /**\n",
       "     * Register the mime type and append_mime function with output_area\n",
       "     */\n",
       "    OutputArea.prototype.register_mime_type(EXEC_MIME_TYPE, append_mime, {\n",
       "      /* Is output safe? */\n",
       "      safe: true,\n",
       "      /* Index of renderer in `output_area.display_order` */\n",
       "      index: 0\n",
       "    });\n",
       "  }\n",
       "\n",
       "  // register the mime type if in Jupyter Notebook environment and previously unregistered\n",
       "  if (root.Jupyter !== undefined) {\n",
       "    var events = require('base/js/events');\n",
       "    var OutputArea = require('notebook/js/outputarea').OutputArea;\n",
       "\n",
       "    if (OutputArea.prototype.mime_types().indexOf(EXEC_MIME_TYPE) == -1) {\n",
       "      register_renderer(events, OutputArea);\n",
       "    }\n",
       "  }\n",
       "\n",
       "  \n",
       "  if (typeof (root._bokeh_timeout) === \"undefined\" || force === true) {\n",
       "    root._bokeh_timeout = Date.now() + 5000;\n",
       "    root._bokeh_failed_load = false;\n",
       "  }\n",
       "\n",
       "  var NB_LOAD_WARNING = {'data': {'text/html':\n",
       "     \"<div style='background-color: #fdd'>\\n\"+\n",
       "     \"<p>\\n\"+\n",
       "     \"BokehJS does not appear to have successfully loaded. If loading BokehJS from CDN, this \\n\"+\n",
       "     \"may be due to a slow or bad network connection. Possible fixes:\\n\"+\n",
       "     \"</p>\\n\"+\n",
       "     \"<ul>\\n\"+\n",
       "     \"<li>re-rerun `output_notebook()` to attempt to load from CDN again, or</li>\\n\"+\n",
       "     \"<li>use INLINE resources instead, as so:</li>\\n\"+\n",
       "     \"</ul>\\n\"+\n",
       "     \"<code>\\n\"+\n",
       "     \"from bokeh.resources import INLINE\\n\"+\n",
       "     \"output_notebook(resources=INLINE)\\n\"+\n",
       "     \"</code>\\n\"+\n",
       "     \"</div>\"}};\n",
       "\n",
       "  function display_loaded() {\n",
       "    var el = document.getElementById(null);\n",
       "    if (el != null) {\n",
       "      el.textContent = \"BokehJS is loading...\";\n",
       "    }\n",
       "    if (root.Bokeh !== undefined) {\n",
       "      if (el != null) {\n",
       "        el.textContent = \"BokehJS \" + root.Bokeh.version + \" successfully loaded.\";\n",
       "      }\n",
       "    } else if (Date.now() < root._bokeh_timeout) {\n",
       "      setTimeout(display_loaded, 100)\n",
       "    }\n",
       "  }\n",
       "\n",
       "\n",
       "  function run_callbacks() {\n",
       "    try {\n",
       "      root._bokeh_onload_callbacks.forEach(function(callback) {\n",
       "        if (callback != null)\n",
       "          callback();\n",
       "      });\n",
       "    } finally {\n",
       "      delete root._bokeh_onload_callbacks\n",
       "    }\n",
       "    console.debug(\"Bokeh: all callbacks have finished\");\n",
       "  }\n",
       "\n",
       "  function load_libs(css_urls, js_urls, callback) {\n",
       "    if (css_urls == null) css_urls = [];\n",
       "    if (js_urls == null) js_urls = [];\n",
       "\n",
       "    root._bokeh_onload_callbacks.push(callback);\n",
       "    if (root._bokeh_is_loading > 0) {\n",
       "      console.debug(\"Bokeh: BokehJS is being loaded, scheduling callback at\", now());\n",
       "      return null;\n",
       "    }\n",
       "    if (js_urls == null || js_urls.length === 0) {\n",
       "      run_callbacks();\n",
       "      return null;\n",
       "    }\n",
       "    console.debug(\"Bokeh: BokehJS not loaded, scheduling load and callback at\", now());\n",
       "    root._bokeh_is_loading = css_urls.length + js_urls.length;\n",
       "\n",
       "    function on_load() {\n",
       "      root._bokeh_is_loading--;\n",
       "      if (root._bokeh_is_loading === 0) {\n",
       "        console.debug(\"Bokeh: all BokehJS libraries/stylesheets loaded\");\n",
       "        run_callbacks()\n",
       "      }\n",
       "    }\n",
       "\n",
       "    function on_error() {\n",
       "      console.error(\"failed to load \" + url);\n",
       "    }\n",
       "\n",
       "    for (var i = 0; i < css_urls.length; i++) {\n",
       "      var url = css_urls[i];\n",
       "      const element = document.createElement(\"link\");\n",
       "      element.onload = on_load;\n",
       "      element.onerror = on_error;\n",
       "      element.rel = \"stylesheet\";\n",
       "      element.type = \"text/css\";\n",
       "      element.href = url;\n",
       "      console.debug(\"Bokeh: injecting link tag for BokehJS stylesheet: \", url);\n",
       "      document.body.appendChild(element);\n",
       "    }\n",
       "\n",
       "    const hashes = {\"https://cdn.bokeh.org/bokeh/release/bokeh-2.1.1.min.js\": \"kLr4fYcqcSpbuI95brIH3vnnYCquzzSxHPU6XGQCIkQRGJwhg0StNbj1eegrHs12\", \"https://cdn.bokeh.org/bokeh/release/bokeh-widgets-2.1.1.min.js\": \"xIGPmVtaOm+z0BqfSOMn4lOR6ciex448GIKG4eE61LsAvmGj48XcMQZtKcE/UXZe\", \"https://cdn.bokeh.org/bokeh/release/bokeh-tables-2.1.1.min.js\": \"Dc9u1wF/0zApGIWoBbH77iWEHtdmkuYWG839Uzmv8y8yBLXebjO9ZnERsde5Ln/P\", \"https://cdn.bokeh.org/bokeh/release/bokeh-gl-2.1.1.min.js\": \"cT9JaBz7GiRXdENrJLZNSC6eMNF3nh3fa5fTF51Svp+ukxPdwcU5kGXGPBgDCa2j\"};\n",
       "\n",
       "    for (var i = 0; i < js_urls.length; i++) {\n",
       "      var url = js_urls[i];\n",
       "      var element = document.createElement('script');\n",
       "      element.onload = on_load;\n",
       "      element.onerror = on_error;\n",
       "      element.async = false;\n",
       "      element.src = url;\n",
       "      if (url in hashes) {\n",
       "        element.crossOrigin = \"anonymous\";\n",
       "        element.integrity = \"sha384-\" + hashes[url];\n",
       "      }\n",
       "      console.debug(\"Bokeh: injecting script tag for BokehJS library: \", url);\n",
       "      document.head.appendChild(element);\n",
       "    }\n",
       "  };\n",
       "\n",
       "  function inject_raw_css(css) {\n",
       "    const element = document.createElement(\"style\");\n",
       "    element.appendChild(document.createTextNode(css));\n",
       "    document.body.appendChild(element);\n",
       "  }\n",
       "\n",
       "  \n",
       "  var js_urls = [\"https://cdn.bokeh.org/bokeh/release/bokeh-2.1.1.min.js\", \"https://cdn.bokeh.org/bokeh/release/bokeh-widgets-2.1.1.min.js\", \"https://cdn.bokeh.org/bokeh/release/bokeh-tables-2.1.1.min.js\", \"https://cdn.bokeh.org/bokeh/release/bokeh-gl-2.1.1.min.js\"];\n",
       "  var css_urls = [];\n",
       "  \n",
       "\n",
       "  var inline_js = [\n",
       "    function(Bokeh) {\n",
       "      Bokeh.set_log_level(\"info\");\n",
       "    },\n",
       "    function(Bokeh) {\n",
       "    \n",
       "    \n",
       "    }\n",
       "  ];\n",
       "\n",
       "  function run_inline_js() {\n",
       "    \n",
       "    if (root.Bokeh !== undefined || force === true) {\n",
       "      \n",
       "    for (var i = 0; i < inline_js.length; i++) {\n",
       "      inline_js[i].call(root, root.Bokeh);\n",
       "    }\n",
       "    } else if (Date.now() < root._bokeh_timeout) {\n",
       "      setTimeout(run_inline_js, 100);\n",
       "    } else if (!root._bokeh_failed_load) {\n",
       "      console.log(\"Bokeh: BokehJS failed to load within specified timeout.\");\n",
       "      root._bokeh_failed_load = true;\n",
       "    } else if (force !== true) {\n",
       "      var cell = $(document.getElementById(null)).parents('.cell').data().cell;\n",
       "      cell.output_area.append_execute_result(NB_LOAD_WARNING)\n",
       "    }\n",
       "\n",
       "  }\n",
       "\n",
       "  if (root._bokeh_is_loading === 0) {\n",
       "    console.debug(\"Bokeh: BokehJS loaded, going straight to plotting\");\n",
       "    run_inline_js();\n",
       "  } else {\n",
       "    load_libs(css_urls, js_urls, function() {\n",
       "      console.debug(\"Bokeh: BokehJS plotting callback run at\", now());\n",
       "      run_inline_js();\n",
       "    });\n",
       "  }\n",
       "}(window));"
      ],
      "application/vnd.bokehjs_load.v0+json": "\n(function(root) {\n  function now() {\n    return new Date();\n  }\n\n  var force = true;\n\n  if (typeof root._bokeh_onload_callbacks === \"undefined\" || force === true) {\n    root._bokeh_onload_callbacks = [];\n    root._bokeh_is_loading = undefined;\n  }\n\n  \n\n  \n  if (typeof (root._bokeh_timeout) === \"undefined\" || force === true) {\n    root._bokeh_timeout = Date.now() + 5000;\n    root._bokeh_failed_load = false;\n  }\n\n  var NB_LOAD_WARNING = {'data': {'text/html':\n     \"<div style='background-color: #fdd'>\\n\"+\n     \"<p>\\n\"+\n     \"BokehJS does not appear to have successfully loaded. If loading BokehJS from CDN, this \\n\"+\n     \"may be due to a slow or bad network connection. Possible fixes:\\n\"+\n     \"</p>\\n\"+\n     \"<ul>\\n\"+\n     \"<li>re-rerun `output_notebook()` to attempt to load from CDN again, or</li>\\n\"+\n     \"<li>use INLINE resources instead, as so:</li>\\n\"+\n     \"</ul>\\n\"+\n     \"<code>\\n\"+\n     \"from bokeh.resources import INLINE\\n\"+\n     \"output_notebook(resources=INLINE)\\n\"+\n     \"</code>\\n\"+\n     \"</div>\"}};\n\n  function display_loaded() {\n    var el = document.getElementById(null);\n    if (el != null) {\n      el.textContent = \"BokehJS is loading...\";\n    }\n    if (root.Bokeh !== undefined) {\n      if (el != null) {\n        el.textContent = \"BokehJS \" + root.Bokeh.version + \" successfully loaded.\";\n      }\n    } else if (Date.now() < root._bokeh_timeout) {\n      setTimeout(display_loaded, 100)\n    }\n  }\n\n\n  function run_callbacks() {\n    try {\n      root._bokeh_onload_callbacks.forEach(function(callback) {\n        if (callback != null)\n          callback();\n      });\n    } finally {\n      delete root._bokeh_onload_callbacks\n    }\n    console.debug(\"Bokeh: all callbacks have finished\");\n  }\n\n  function load_libs(css_urls, js_urls, callback) {\n    if (css_urls == null) css_urls = [];\n    if (js_urls == null) js_urls = [];\n\n    root._bokeh_onload_callbacks.push(callback);\n    if (root._bokeh_is_loading > 0) {\n      console.debug(\"Bokeh: BokehJS is being loaded, scheduling callback at\", now());\n      return null;\n    }\n    if (js_urls == null || js_urls.length === 0) {\n      run_callbacks();\n      return null;\n    }\n    console.debug(\"Bokeh: BokehJS not loaded, scheduling load and callback at\", now());\n    root._bokeh_is_loading = css_urls.length + js_urls.length;\n\n    function on_load() {\n      root._bokeh_is_loading--;\n      if (root._bokeh_is_loading === 0) {\n        console.debug(\"Bokeh: all BokehJS libraries/stylesheets loaded\");\n        run_callbacks()\n      }\n    }\n\n    function on_error() {\n      console.error(\"failed to load \" + url);\n    }\n\n    for (var i = 0; i < css_urls.length; i++) {\n      var url = css_urls[i];\n      const element = document.createElement(\"link\");\n      element.onload = on_load;\n      element.onerror = on_error;\n      element.rel = \"stylesheet\";\n      element.type = \"text/css\";\n      element.href = url;\n      console.debug(\"Bokeh: injecting link tag for BokehJS stylesheet: \", url);\n      document.body.appendChild(element);\n    }\n\n    const hashes = {\"https://cdn.bokeh.org/bokeh/release/bokeh-2.1.1.min.js\": \"kLr4fYcqcSpbuI95brIH3vnnYCquzzSxHPU6XGQCIkQRGJwhg0StNbj1eegrHs12\", \"https://cdn.bokeh.org/bokeh/release/bokeh-widgets-2.1.1.min.js\": \"xIGPmVtaOm+z0BqfSOMn4lOR6ciex448GIKG4eE61LsAvmGj48XcMQZtKcE/UXZe\", \"https://cdn.bokeh.org/bokeh/release/bokeh-tables-2.1.1.min.js\": \"Dc9u1wF/0zApGIWoBbH77iWEHtdmkuYWG839Uzmv8y8yBLXebjO9ZnERsde5Ln/P\", \"https://cdn.bokeh.org/bokeh/release/bokeh-gl-2.1.1.min.js\": \"cT9JaBz7GiRXdENrJLZNSC6eMNF3nh3fa5fTF51Svp+ukxPdwcU5kGXGPBgDCa2j\"};\n\n    for (var i = 0; i < js_urls.length; i++) {\n      var url = js_urls[i];\n      var element = document.createElement('script');\n      element.onload = on_load;\n      element.onerror = on_error;\n      element.async = false;\n      element.src = url;\n      if (url in hashes) {\n        element.crossOrigin = \"anonymous\";\n        element.integrity = \"sha384-\" + hashes[url];\n      }\n      console.debug(\"Bokeh: injecting script tag for BokehJS library: \", url);\n      document.head.appendChild(element);\n    }\n  };\n\n  function inject_raw_css(css) {\n    const element = document.createElement(\"style\");\n    element.appendChild(document.createTextNode(css));\n    document.body.appendChild(element);\n  }\n\n  \n  var js_urls = [\"https://cdn.bokeh.org/bokeh/release/bokeh-2.1.1.min.js\", \"https://cdn.bokeh.org/bokeh/release/bokeh-widgets-2.1.1.min.js\", \"https://cdn.bokeh.org/bokeh/release/bokeh-tables-2.1.1.min.js\", \"https://cdn.bokeh.org/bokeh/release/bokeh-gl-2.1.1.min.js\"];\n  var css_urls = [];\n  \n\n  var inline_js = [\n    function(Bokeh) {\n      Bokeh.set_log_level(\"info\");\n    },\n    function(Bokeh) {\n    \n    \n    }\n  ];\n\n  function run_inline_js() {\n    \n    if (root.Bokeh !== undefined || force === true) {\n      \n    for (var i = 0; i < inline_js.length; i++) {\n      inline_js[i].call(root, root.Bokeh);\n    }\n    } else if (Date.now() < root._bokeh_timeout) {\n      setTimeout(run_inline_js, 100);\n    } else if (!root._bokeh_failed_load) {\n      console.log(\"Bokeh: BokehJS failed to load within specified timeout.\");\n      root._bokeh_failed_load = true;\n    } else if (force !== true) {\n      var cell = $(document.getElementById(null)).parents('.cell').data().cell;\n      cell.output_area.append_execute_result(NB_LOAD_WARNING)\n    }\n\n  }\n\n  if (root._bokeh_is_loading === 0) {\n    console.debug(\"Bokeh: BokehJS loaded, going straight to plotting\");\n    run_inline_js();\n  } else {\n    load_libs(css_urls, js_urls, function() {\n      console.debug(\"Bokeh: BokehJS plotting callback run at\", now());\n      run_inline_js();\n    });\n  }\n}(window));"
     },
     "metadata": {
      "tags": []
     },
     "output_type": "display_data"
    },
    {
     "data": {
      "text/html": [
       "\n",
       "\n",
       "\n",
       "\n",
       "\n",
       "\n",
       "  <div class=\"bk-root\" id=\"ccd35d64-6574-49f6-a4f1-b656a3c80e7e\" data-root-id=\"4775\"></div>\n"
      ]
     },
     "metadata": {
      "tags": []
     },
     "output_type": "display_data"
    },
    {
     "data": {
      "application/javascript": [
       "(function(root) {\n",
       "  function embed_document(root) {\n",
       "    \n",
       "  var docs_json = {\"dfa22c85-5fcd-48ad-a9b6-702517e9af10\":{\"roots\":{\"references\":[{\"attributes\":{\"below\":[{\"id\":\"4786\"}],\"center\":[{\"id\":\"4789\"},{\"id\":\"4793\"},{\"id\":\"4810\"},{\"id\":\"4825\"}],\"left\":[{\"id\":\"4790\"}],\"plot_height\":800,\"plot_width\":800,\"renderers\":[{\"id\":\"4815\"},{\"id\":\"4830\"},{\"id\":\"4846\"},{\"id\":\"4862\"}],\"title\":{\"id\":\"4776\"},\"toolbar\":{\"id\":\"4801\"},\"x_range\":{\"id\":\"4778\"},\"x_scale\":{\"id\":\"4782\"},\"y_range\":{\"id\":\"4780\"},\"y_scale\":{\"id\":\"4784\"}},\"id\":\"4775\",\"subtype\":\"Figure\",\"type\":\"Plot\"},{\"attributes\":{\"line_alpha\":0.1,\"line_color\":\"red\",\"x\":{\"field\":\"days\"},\"y\":{\"field\":\"smooth_mean\"}},\"id\":\"4829\",\"type\":\"Line\"},{\"attributes\":{},\"id\":\"4782\",\"type\":\"LinearScale\"},{\"attributes\":{\"source\":{\"id\":\"4809\"}},\"id\":\"4831\",\"type\":\"CDSView\"},{\"attributes\":{\"line_color\":\"red\",\"x\":{\"field\":\"days\"},\"y\":{\"field\":\"smooth_mean\"}},\"id\":\"4828\",\"type\":\"Line\"},{\"attributes\":{},\"id\":\"4784\",\"type\":\"LinearScale\"},{\"attributes\":{},\"id\":\"4839\",\"type\":\"Selection\"},{\"attributes\":{\"data_source\":{\"id\":\"4809\"},\"glyph\":{\"id\":\"4828\"},\"hover_glyph\":null,\"muted_glyph\":null,\"nonselection_glyph\":{\"id\":\"4829\"},\"selection_glyph\":null,\"view\":{\"id\":\"4831\"}},\"id\":\"4830\",\"type\":\"GlyphRenderer\"},{\"attributes\":{\"axis_label\":\"Days\",\"formatter\":{\"id\":\"4820\"},\"ticker\":{\"id\":\"4787\"}},\"id\":\"4786\",\"type\":\"LinearAxis\"},{\"attributes\":{},\"id\":\"4840\",\"type\":\"UnionRenderers\"},{\"attributes\":{\"bottom_units\":\"screen\",\"fill_alpha\":0.5,\"fill_color\":\"lightgrey\",\"left_units\":\"screen\",\"level\":\"overlay\",\"line_alpha\":1.0,\"line_color\":\"black\",\"line_dash\":[4,4],\"line_width\":2,\"right_units\":\"screen\",\"top_units\":\"screen\"},\"id\":\"4800\",\"type\":\"BoxAnnotation\"},{\"attributes\":{\"label\":{\"value\":\"Smooth Avg temp 2018\"},\"renderers\":[{\"id\":\"4830\"}]},\"id\":\"4842\",\"type\":\"LegendItem\"},{\"attributes\":{},\"id\":\"4787\",\"type\":\"BasicTicker\"},{\"attributes\":{\"axis\":{\"id\":\"4786\"},\"ticker\":null},\"id\":\"4789\",\"type\":\"Grid\"},{\"attributes\":{\"text\":\"Weather Data for Station 270\"},\"id\":\"4776\",\"type\":\"Title\"},{\"attributes\":{\"axis_label\":\"Temprature (In Degree Celcius)\",\"formatter\":{\"id\":\"4818\"},\"ticker\":{\"id\":\"4791\"}},\"id\":\"4790\",\"type\":\"LinearAxis\"},{\"attributes\":{\"label\":{\"value\":\"Smooth min temp before 2018\"},\"renderers\":[{\"id\":\"4846\"}]},\"id\":\"4858\",\"type\":\"LegendItem\"},{\"attributes\":{\"line_color\":\"hotpink\",\"x\":{\"field\":\"days\"},\"y\":{\"field\":\"smooth_min\"}},\"id\":\"4844\",\"type\":\"Line\"},{\"attributes\":{\"line_alpha\":0.1,\"line_color\":\"hotpink\",\"x\":{\"field\":\"days\"},\"y\":{\"field\":\"smooth_min\"}},\"id\":\"4845\",\"type\":\"Line\"},{\"attributes\":{},\"id\":\"4791\",\"type\":\"BasicTicker\"},{\"attributes\":{},\"id\":\"4823\",\"type\":\"UnionRenderers\"},{\"attributes\":{\"axis\":{\"id\":\"4790\"},\"dimension\":1,\"ticker\":null},\"id\":\"4793\",\"type\":\"Grid\"},{\"attributes\":{\"source\":{\"id\":\"4809\"}},\"id\":\"4847\",\"type\":\"CDSView\"},{\"attributes\":{\"base\":{\"field\":\"days\",\"units\":\"data\"},\"fill_color\":\"gray\",\"lower\":{\"field\":\"min\",\"units\":\"data\"},\"source\":{\"id\":\"4808\"},\"upper\":{\"field\":\"max\",\"units\":\"data\"}},\"id\":\"4810\",\"type\":\"Band\"},{\"attributes\":{\"data_source\":{\"id\":\"4809\"},\"glyph\":{\"id\":\"4844\"},\"hover_glyph\":null,\"muted_glyph\":null,\"nonselection_glyph\":{\"id\":\"4845\"},\"selection_glyph\":null,\"view\":{\"id\":\"4847\"}},\"id\":\"4846\",\"type\":\"GlyphRenderer\"},{\"attributes\":{\"click_policy\":\"hide\",\"items\":[{\"id\":\"4826\"},{\"id\":\"4842\"},{\"id\":\"4858\"},{\"id\":\"4874\"}]},\"id\":\"4825\",\"type\":\"Legend\"},{\"attributes\":{},\"id\":\"4820\",\"type\":\"BasicTickFormatter\"},{\"attributes\":{},\"id\":\"4818\",\"type\":\"BasicTickFormatter\"},{\"attributes\":{},\"id\":\"4794\",\"type\":\"PanTool\"},{\"attributes\":{\"data_source\":{\"id\":\"4808\"},\"glyph\":{\"id\":\"4813\"},\"hover_glyph\":null,\"muted_glyph\":null,\"nonselection_glyph\":{\"id\":\"4814\"},\"selection_glyph\":null,\"view\":{\"id\":\"4816\"}},\"id\":\"4815\",\"type\":\"GlyphRenderer\"},{\"attributes\":{\"label\":{\"value\":\"Smooth max temp before 2018\"},\"renderers\":[{\"id\":\"4862\"}]},\"id\":\"4874\",\"type\":\"LegendItem\"},{\"attributes\":{\"end\":400},\"id\":\"4778\",\"type\":\"Range1d\"},{\"attributes\":{\"label\":{\"value\":\"Average Temp 2018\"},\"renderers\":[{\"id\":\"4815\"}]},\"id\":\"4826\",\"type\":\"LegendItem\"},{\"attributes\":{\"x\":{\"field\":\"days\"},\"y\":{\"field\":\"smooth_max\"}},\"id\":\"4860\",\"type\":\"Line\"},{\"attributes\":{},\"id\":\"4795\",\"type\":\"WheelZoomTool\"},{\"attributes\":{\"line_alpha\":0.1,\"x\":{\"field\":\"days\"},\"y\":{\"field\":\"smooth_max\"}},\"id\":\"4861\",\"type\":\"Line\"},{\"attributes\":{\"source\":{\"id\":\"4808\"}},\"id\":\"4816\",\"type\":\"CDSView\"},{\"attributes\":{\"overlay\":{\"id\":\"4800\"}},\"id\":\"4796\",\"type\":\"BoxZoomTool\"},{\"attributes\":{\"line_color\":\"#1f77b4\",\"x\":{\"field\":\"days\"},\"y\":{\"field\":\"mean\"}},\"id\":\"4813\",\"type\":\"Line\"},{\"attributes\":{\"data\":{\"days\":[0,1,2,3,4,5,6,7,8,9,10,11,12,13,14,15,16,17,18,19,20,21,22,23,24,25,26,27,28,29,30,31,32,33,34,35,36,37,38,39,40,41,42,43,44,45,46,47,48,49,50,51,52,53,54,55,56,57,58,59,60,61,62,63,64,65,66,67,68,69,70,71,72,73,74,75,76,77,78,79,80,81,82,83,84,85,86,87,88,89,90,91,92,93,94,95,96,97,98,99,100,101,102,103,104,105,106,107,108,109,110,111,112,113,114,115,116,117,118,119,120,121,122,123,124,125,126,127,128,129,130,131,132,133,134,135,136,137,138,139,140,141,142,143,144,145,146,147,148,149,150,151,152,153,154,155,156,157,158,159,160,161,162,163,164,165,166,167,168,169,170,171,172,173,174,175,176,177,178,179,180,181,182,183,184,185,186,187,188,189,190,191,192,193,194,195,196,197,198,199,200,201,202,203,204,205,206,207,208,209,210,211,212,213,214,215,216,217,218,219,220,221,222,223,224,225,226,227,228,229,230,231,232,233,234,235,236,237,238,239,240,241,242,243,244,245,246,247,248,249,250,251,252,253,254,255,256,257,258,259,260,261,262,263,264,265,266,267,268,269,270,271,272,273,274,275,276,277,278,279,280,281,282,283,284,285,286,287,288,289,290,291,292,293,294,295,296,297,298,299,300,301,302,303,304,305,306,307,308,309,310,311,312,313,314,315,316,317,318,319,320,321,322,323,324,325,326,327,328,329,330,331,332,333,334,335,336,337,338,339,340,341,342,343,344,345,346,347,348,349,350,351,352,353,354,355,356,357,358,359,360,361,362,363],\"smooth_max\":{\"__ndarray__\":\"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\",\"dtype\":\"float64\",\"order\":\"little\",\"shape\":[364]},\"smooth_mean\":{\"__ndarray__\":\"+zBUTgoHFkAl5bURD8oVQOfmvnwXihVAvrTFF6xHFUA3MlikUAMVQL4wZn+BvRRAKhBwLLF2FECRhTMURi8UQAbamICY5xNAk8LD3vCfE0DFQCdPhlgTQFxKV4p9ERNA11ARIOjKEkAtppoUxIQSQAESJt/7PhJAmu91ymb5EUD6X2u3ybMRQKEqqz/YbRFABpz7NDYnEUAA1YF4ed8QQOBOliMslhBAVmaN+s5KEEC9yR1BuPkPQC6D5wSUVw9AIqZA2xyuDkD1Ku6NQ/wNQHxDoaoEQQ1ASA/HJG97DEBkuGnpqqoLQJtnFEr/zQpAmPDQI9nkCUC9yeGn0O4IQIn9y6yu6wdAAu+Yb3HbBkCpOeuuUL4FQHN2jwvBlARA3aySnHZfA0Bq3pSnZh8CQK9s/XDI1QBAzgm+NSoI/z/tmVwZDVj8P2MQzMIqn/k/pvKAuuvh9j/qT4ffJyX0PzPA35QcbvE/sqWAX8KE7T/LgDqKs0/oP711l/ZQSeM/83BGKnb83D8fs79zmPbTP3mPtxLSNcc/QdtUKqMMsD9SOQ23nLqlv+faXnji98C/Bs6gITlmyr82obCLlcbQvxrBCLG5IdO/IuzAz8ox1L8tvGF8MebTvxfAdla6MNK/D5k2Z5oLzr/cfh+6OrnEvw5h04VIvbC/d2LoYMcmrD/ZkZAo+X7JP3zYL+v3fNc/F6Lz8DXb4T8fc/5V4LDoP+qEuEJtHPA/Jl7s23019D/3XJsw0p74Px3ALh/qUv0/u8e5NNElAUBKyMQDIsEDQLO5iLHKdwZAlPQGpPZFCUBmbVipoycMQE7L482sGA9Aicku2GoKEUDawg0Y64sSQH3gYyizDhRAZkW/FqWQFUCbqW/qrg8XQNGGzHPQiRhArDe+6SD9GUCrgxFD1GcbQAbu3jlAyBxANnBO6OAcHkDEBTrvXGQfQCjdUIzETiBAVRPDtLXjIEDnkUbMnnAhQDr/ZHA39SFA8hAMlVJxIkDtBVPB3uQiQI6Fx/PlTyNAG5hWLo2yI0DZEw2rEw0kQGbIDrzRXyRADf1AWjerJEAhqDdnyu8kQJ1m+ackLiVAlSMhf/FmJUBDPsJt65olQGTKOWPZyiVA8IbC5Iv3JUBj+y4W2iEmQNPVm62eSiZA7pA63LRyJkBrc4A29ZomQNZxD6YyxCZAvSWVbzfvJkAQJqBWwhwnQHBIDumDTSdAf9k3+xuCJ0CrRF5dF7snQHD2KdLt+CdA0uctTQA8KEAR/Xl/l4QoQDBMQ7fi0ihAENyVFvcmKUAaGOIjz4ApQK/dDLZK4ClAuqF3PC9FKkDrvUJiKK8qQJmN2grJHStAPKy0pIyQK0BLWAHO2AYsQL+IAUb/fyxAnk+wJED7LEBDGYFRzHctQGZaHzHI9C1Ayx1igU5xLkDDEwlac+wuQDpaW0hHZS9APdFje9raL0AQVib7HyYwQAhlIl9IXDBAZMKyfHePMEBxcB96RL8wQG7eAAJO6zBAHVPZnTsTMUAJarH1vjYxQIW6jvCUVTFA/9MBsoZvMUC5MXtxaoQxQOMalCgklDFAIer+FaaeMUDOKWAT8aMxQJpw5bwUpDFAcAQGai+fMUACA3L3bZUxQLsozWILhzFALktoOVB0MUCrR77bkV0xQMKeBJgxQzFAPG6jnpslMUA0ROLTRQUxQNXThYKu4jBAQIB881q+MEDOxAvv1ZgwQFGxNSyucjBAKylDs3RMMEDUtYQ4uyYwQBcicHQSAjBAbBuJ/BC+L0DLiaJcTnwvQPpTuxnlPy9A2coEpc4JL0CaGQ398touQJDTDg8mtC5ARiawVCWWLkCiy0C1lYEuQDwEpbABdy5A0pUo2dd2LkBYVHKgaYEuQFKUwnrqli5AUaiQWm+3LkC95YCF7uIuQJZWkcI/GS9AX+RC4BxaL0BPDHOQIqUvQKWKkpbR+S9AtZz1IcgrMEB63V4e1l4wQFOpFECulTBAHA0I1uHPMEAr6sA6+QwxQGHw1CZ1TDFAJWtlFdCNMUCRlj62f9AxQNN5F2n2EzJAI41kvaRXMkDNtjHy+poyQIAxiXFq3TJArUoMQ2ceM0By/o9xaV0zQDB+yV/umTNAebRcCHrTM0Dlwu8lmAk0QEYJQUDdOzRAzymgm+dpNEBWQZQIYJM0QPSr6JH6tzRA/pvMB3fXNEAY7CZnofE0QMNTtRxSBjVAaesCJG4VNUByLbQC5x41QMrhFKG6IjVAkjc9AfMgNUDaboXWpRk1QLmnWf/zDDVAFKXQ4wj7NECyoq+7GeQ0QCkEwr5kyDRAHwGdQjCoNEA5Gw3JyYM0QJ3XhAKFWzRAO9Hxx7ovNEAM114PyAA0QByqv94MzzNAQnstQOuaM0BnEbs6xmQzQC873dIALTNAFrIwFf3zMkAf1CouG7oyQN+j/5C4fzJARXe+Ly9FMkDO2FjG1AoyQG6c9Tn60DFAv1CeDeuXMUCHTgDt7F8xQA37pU0/KTFAY5q5Jhv0MEDLgBK/ssAwQM6tAJExjzBAn+0CQ7xfMEDoeFG0cDIwQCSJ6xtmBzBA2F9EcVq9L0AGGN0goXAvQJ1We3qpKC9A5a+CinHlLkACyYX57KYuQFSf194FbS5AoF3vnZ03LkDP8ZXKjQYuQDlM9Q+p2S1AF0nRFrywLUB6gHBnjostQIMpBkTjaS1AmkLEeHpLLUCrhxwfETAtQJODHVJiFy1ACkNF0icBLUBG1ZKXGu0sQCHNEFHz2ixA0VOD0WrKLED7FVJpOrssQGR9Ly4crSxAP3ZhMcufLECKxOqlA5MsQPAtJfiChixAZCKj2Ad6LEAwAmo8Um0sQJa7w1QjYCxA7pkGgT1SLEAsWcQ8ZEMsQDa81QxcMyxAXBmubeohLEBN5UrF1Q4sQJDN7lrl+StAhT6nVuHiK0AhQl/KkskrQCmz/MXDrStAei62dz+PK0Aeg3pZ0m0rQIpJ52tKSStAA4TtfnchK0C8heKHK/YqQBG2WgQ7xypAk/LMaH2UKkAMKKKZzV0qQJP7/mwKIypAUrRGMxfkKUAikxBE3KApQNXODI1HWSlAlr8lIE0NKUACbwW+57woQPKaEFoZaChA6t3elOsOKEA+gjwqcLEnQG6p1U/BTydAT8vLAQLqJkCXyKU6XoAmQBtJRxQLEyZAig3lz0aiJUC0M0DDWC4lQBHr0CmRtyRAVE/w2Eg+JED3dn/W4MIjQKuA/dHBRSNAH7N1gFvHIkAeqyfcI0giQLggREmWyCFAqP+OoTJJIUD0bCkpfMogQHTsMW/4TCBAoZ+YOlyiH0B/W/lyR68eQDpqHby8wR1A+KIH18DaHEB3AmtxUPsbQEfH+YpdJBtAKymI6MxWGkBPndGdc5MZQFtjk7YU2xhAkMZwB18uGEAKfLUu640XQLrHicw5+hZAPguM+bFzFkBiEQYCoPoVQB9AHGs0jxVA8sNkRoMxFUBMDVDXg+EUQMVJtowQnxRAhdO6T+dpFECaHAsoqkEUQJzETjTgJRRAm9Vu9PYVFEDrJi/iQxEUQJUoc1MGFxRAK1NzoGkmFEA4cyaHhz4UQDcXNsRqXhRAbVID2RGFFEBFPIz1cbEUQPIYbvx54hRAnn3OlhUXFUDhGalNME4VQGmh2Z24hhVAJZM6/KK/FUBPslq/7PcVQAW6m+SeLhZA+VcEp9BiFkDcaKzeqZMWQFjPaiBlwBZAlohNllHoFkCyzGOK1AoXQKmSe55qJxdAkMWjrKg9F0BFi4ZNPE0XQJaL/gLsVRdAilSiBpdXF0AwuVy9NFIXQDc4g9LTRRdAQe0u/pgyF0DgLOR7vRgXQDO2yzeN+BZAR5bhuWTSFkBZ8ITXrqYWQHy3vDTidRZAw0BMn35AFkA=\",\"dtype\":\"float64\",\"order\":\"little\",\"shape\":[364]},\"smooth_min\":{\"__ndarray__\":\"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\",\"dtype\":\"float64\",\"order\":\"little\",\"shape\":[364]}},\"selected\":{\"id\":\"4839\"},\"selection_policy\":{\"id\":\"4840\"}},\"id\":\"4809\",\"type\":\"ColumnDataSource\"},{\"attributes\":{},\"id\":\"4797\",\"type\":\"SaveTool\"},{\"attributes\":{\"source\":{\"id\":\"4809\"}},\"id\":\"4863\",\"type\":\"CDSView\"},{\"attributes\":{\"data\":{\"days\":[0,1,2,3,4,5,6,7,8,9,10,11,12,13,14,15,16,17,18,19,20,21,22,23,24,25,26,27,28,29,30,31,32,33,34,35,36,37,38,39,40,41,42,43,44,45,46,47,48,49,50,51,52,53,54,55,56,57,58,59,60,61,62,63,64,65,66,67,68,69,70,71,72,73,74,75,76,77,78,79,80,81,82,83,84,85,86,87,88,89,90,91,92,93,94,95,96,97,98,99,100,101,102,103,104,105,106,107,108,109,110,111,112,113,114,115,116,117,118,119,120,121,122,123,124,125,126,127,128,129,130,131,132,133,134,135,136,137,138,139,140,141,142,143,144,145,146,147,148,149,150,151,152,153,154,155,156,157,158,159,160,161,162,163,164,165,166,167,168,169,170,171,172,173,174,175,176,177,178,179,180,181,182,183,184,185,186,187,188,189,190,191,192,193,194,195,196,197,198,199,200,201,202,203,204,205,206,207,208,209,210,211,212,213,214,215,216,217,218,219,220,221,222,223,224,225,226,227,228,229,230,231,232,233,234,235,236,237,238,239,240,241,242,243,244,245,246,247,248,249,250,251,252,253,254,255,256,257,258,259,260,261,262,263,264,265,266,267,268,269,270,271,272,273,274,275,276,277,278,279,280,281,282,283,284,285,286,287,288,289,290,291,292,293,294,295,296,297,298,299,300,301,302,303,304,305,306,307,308,309,310,311,312,313,314,315,316,317,318,319,320,321,322,323,324,325,326,327,328,329,330,331,332,333,334,335,336,337,338,339,340,341,342,343,344,345,346,347,348,349,350,351,352,353,354,355,356,357,358,359,360,361,362,363,364],\"max\":{\"__ndarray__\":\"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\",\"dtype\":\"float64\",\"order\":\"little\",\"shape\":[365]},\"mean\":{\"__ndarray__\":\"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\",\"dtype\":\"float64\",\"order\":\"little\",\"shape\":[365]},\"min\":{\"__ndarray__\":\"MzMzMzMzF8AAAAAAAAAewDMzMzMzMynAzczMzMzMGsDNzMzMzMwYwJqZmZmZmSTAZmZmZmZmJ8BmZmZmZmYuwM3MzMzMzCTAZmZmZmZmJsBmZmZmZmYlwJqZmZmZmRfAAAAAAAAAGsDNzMzMzMwcwAAAAAAAAB7AZmZmZmZmIcCamZmZmZkgwGZmZmZmZiTAMzMzMzMzF8BmZmZmZmYcwGZmZmZmZhLAmpmZmZmZHcBmZmZmZmYkwAAAAAAAABjAAAAAAAAAKcBmZmZmZmYpwGZmZmZmZinAmpmZmZmZGcAzMzMzMzMiwDMzMzMzMxXAmpmZmZmZG8DNzMzMzMwawM3MzMzMzCPAZmZmZmZmLMDNzMzMzMwwwGZmZmZmZiPAzczMzMzMJMCamZmZmZkuwM3MzMzMzCTAMzMzMzMzG8AzMzMzMzMlwAAAAAAAACvAMzMzMzMzI8BmZmZmZmYawGZmZmZmZiDAmpmZmZmZIMBmZmZmZmYYwJqZmZmZmSTAmpmZmZmZIMCamZmZmZkRwDMzMzMzMwvAmpmZmZmZF8AzMzMzMzMZwDMzMzMzMxHAmpmZmZmZH8AAAAAAAAAIwDMzMzMzMxXAmpmZmZmZG8AzMzMzMzMfwM3MzMzMzBTAMzMzMzMzC8AzMzMzMzMtwM3MzMzMTDDAAAAAAAAAGsCamZmZmZkkwM3MzMzMzBrAAAAAAAAAEsDNzMzMzMwSwAAAAAAAABDAMzMzMzMzD8AzMzMzMzMgwJqZmZmZmRfAmpmZmZmZEcDNzMzMzMwSwDMzMzMzM/u/MzMzMzMzD8AzMzMzMzMLwM3MzMzMzAzAmpmZmZmZDcAzMzMzMzMPwAAAAAAAABTAmpmZmZmZGcDNzMzMzMwUwDMzMzMzMw/AzczMzMzMDMCamZmZmZkRwM3MzMzMzBDAZmZmZmZmFMAAAAAAAAAIwJqZmZmZmRPAZmZmZmZmGsAAAAAAAAAUwDMzMzMzMwvAmpmZmZmZ+b8AAAAAAADwv5qZmZmZmQnAzczMzMzMEsBmZmZmZmYUwAAAAAAAABbAAAAAAAAABMAAAAAAAAAAwDMzMzMzM9M/ZmZmZmZmAsBmZmZmZmYGwAAAAAAAAATAMzMzMzMz47/NzMzMzMz8v2ZmZmZmZuY/AAAAAAAA8L+amZmZmZkBwAAAAAAAAADAzczMzMzM/L8AAAAAAAAEwJqZmZmZmdk/ZmZmZmZm9j8AAAAAAADgP5qZmZmZmem/mpmZmZmZ+b+amZmZmZnZP5qZmZmZmbm/AAAAAAAACMDNzMzMzMz0P5qZmZmZmck/AAAAAAAA+D8AAAAAAAAAAAAAAAAAAARAmpmZmZmZ6T+amZmZmZnxP2ZmZmZmZv4/zczMzMzMCEBmZmZmZmYCQJqZmZmZmfE/ZmZmZmZmAkBmZmZmZmYGQDMzMzMzM/s/mpmZmZmZ2T+amZmZmZn5PwAAAAAAAABAMzMzMzMzA0DNzMzMzMz8PwAAAAAAAARAAAAAAAAAEkBmZmZmZmYOQJqZmZmZmQlAAAAAAAAADEDNzMzMzMz8P2ZmZmZmZhBAmpmZmZmZFUAAAAAAAAASQDMzMzMzMw9AZmZmZmZmCkCamZmZmZkTQDMzMzMzMw9AMzMzMzMzGUCamZmZmZkRQGZmZmZmZgpAmpmZmZmZ+T8AAAAAAAAQQM3MzMzMzAhAzczMzMzMFEAzMzMzMzMZQAAAAAAAABZAmpmZmZmZE0AzMzMzMzMTQGZmZmZmZhBAZmZmZmZmFkAAAAAAAAAYQAAAAAAAABRAMzMzMzMzI0AzMzMzMzMgQAAAAAAAACFAzczMzMzMFkAAAAAAAAAYQAAAAAAAABhAAAAAAAAAGEDNzMzMzMwWQM3MzMzMzB5AmpmZmZmZG0CamZmZmZkdQJqZmZmZmRVAmpmZmZmZHUAzMzMzMzMZQGZmZmZmZiBAMzMzMzMzJUAAAAAAAAAjQJqZmZmZmSFAmpmZmZmZIEDNzMzMzMwaQM3MzMzMzCRAzczMzMzMIEAAAAAAAAAiQDMzMzMzMyNAmpmZmZmZH0CamZmZmZkfQJqZmZmZmSNAAAAAAAAAIkCamZmZmZkhQJqZmZmZmRdAmpmZmZmZIUAzMzMzMzMhQAAAAAAAACBAAAAAAAAAI0BmZmZmZmYgQAAAAAAAACNAMzMzMzMzI0CamZmZmZkgQJqZmZmZmSRAZmZmZmZmIECamZmZmZkgQJqZmZmZmSRAmpmZmZmZJUAzMzMzMzMkQJqZmZmZmSNAZmZmZmZmIkDNzMzMzMwiQM3MzMzMzCFAmpmZmZmZJkAAAAAAAAAkQM3MzMzMzCNAmpmZmZmZIUBmZmZmZmYhQDMzMzMzMx1AMzMzMzMzH0BmZmZmZmYeQGZmZmZmZhxAMzMzMzMzIUBmZmZmZmYgQM3MzMzMzCBAAAAAAAAAIECamZmZmZkfQGZmZmZmZiRAmpmZmZmZIUCamZmZmZkfQJqZmZmZmSBAZmZmZmZmGkDNzMzMzMwWQAAAAAAAAB5AZmZmZmZmIUDNzMzMzMwiQJqZmZmZmSBAAAAAAAAAHEDNzMzMzMwjQGZmZmZmZiFAAAAAAAAAHEDNzMzMzMwaQDMzMzMzMxlAAAAAAAAAIEAAAAAAAAAcQJqZmZmZmSNAmpmZmZmZJEAzMzMzMzMgQAAAAAAAABxAmpmZmZmZIUDNzMzMzMwjQAAAAAAAACFAzczMzMzMGkAzMzMzMzMbQDMzMzMzMxdAMzMzMzMzF0BmZmZmZmYWQM3MzMzMzBJAZmZmZmZmDkAAAAAAAAAYQM3MzMzMzBRAZmZmZmZmGEBmZmZmZmYSQM3MzMzMzBBAmpmZmZmZF0AAAAAAAAAUQM3MzMzMzAhAZmZmZmZmEkAzMzMzMzMLQM3MzMzMzBhAmpmZmZmZEUDNzMzMzMwEQAAAAAAAABJAzczMzMzMCEAAAAAAAAASQGZmZmZmZgJAzczMzMzMBECamZmZmZnJP5qZmZmZmQFAmpmZmZmZyT9mZmZmZmb+P83MzMzMzPQ/mpmZmZmZ8T+amZmZmZnpvzMzMzMzM+M/mpmZmZmZ2T+amZmZmZm5PwAAAAAAAPi/MzMzMzMzC8AAAAAAAADgP2ZmZmZmZgLAMzMzMzMzD8AzMzMzMzMLwGZmZmZmZva/mpmZmZmZ2T8AAAAAAAAIwDMzMzMzMxHAmpmZmZmZ6T+amZmZmZm5PwAAAAAAAAjAMzMzMzMz87/NzMzMzMz0P5qZmZmZmQlAzczMzMzMCEAAAAAAAAAEQM3MzMzMzABAAAAAAAAA+D8AAAAAAADgPzMzMzMzM/u/MzMzMzMz078zMzMzMzPjPwAAAAAAAATAzczMzMzM9L8AAAAAAADgv2ZmZmZmZgbAMzMzMzMzC8CamZmZmZnZvzMzMzMzM/O/mpmZmZmZ2b/NzMzMzMz8v2ZmZmZmZgLAAAAAAAAACMCamZmZmZnZv5qZmZmZmfG/AAAAAAAAAMAAAAAAAAAAwJqZmZmZmRHAmpmZmZmZFcBmZmZmZmYWwDMzMzMzMxvAZmZmZmZmEMAzMzMzMzMbwDMzMzMzMxnAMzMzMzMzG8DNzMzMzMwYwJqZmZmZmSHAAAAAAAAAIcAzMzMzMzMbwDMzMzMzMyTAzczMzMzMIMAzMzMzMzMhwJqZmZmZmR/AmpmZmZmZG8CamZmZmZkfwM3MzMzMzB7AZmZmZmZmHMCamZmZmZkTwGZmZmZmZhDAMzMzMzMzF8AAAAAAAAAgwM3MzMzMzBzAMzMzMzMzI8CamZmZmZkfwGZmZmZmZijAMzMzMzMzD8BmZmZmZmYYwAAAAAAAABTAAAAAAAAAGMCamZmZmZkdwDMzMzMzMx3AZmZmZmZmJMAzMzMzMzMlwA==\",\"dtype\":\"float64\",\"order\":\"little\",\"shape\":[365]}},\"selected\":{\"id\":\"4822\"},\"selection_policy\":{\"id\":\"4823\"}},\"id\":\"4808\",\"type\":\"ColumnDataSource\"},{\"attributes\":{},\"id\":\"4798\",\"type\":\"ResetTool\"},{\"attributes\":{\"data_source\":{\"id\":\"4809\"},\"glyph\":{\"id\":\"4860\"},\"hover_glyph\":null,\"muted_glyph\":null,\"nonselection_glyph\":{\"id\":\"4861\"},\"selection_glyph\":null,\"view\":{\"id\":\"4863\"}},\"id\":\"4862\",\"type\":\"GlyphRenderer\"},{\"attributes\":{\"line_alpha\":0.1,\"line_color\":\"#1f77b4\",\"x\":{\"field\":\"days\"},\"y\":{\"field\":\"mean\"}},\"id\":\"4814\",\"type\":\"Line\"},{\"attributes\":{},\"id\":\"4799\",\"type\":\"HelpTool\"},{\"attributes\":{\"end\":70},\"id\":\"4780\",\"type\":\"Range1d\"},{\"attributes\":{\"active_drag\":\"auto\",\"active_inspect\":\"auto\",\"active_multi\":null,\"active_scroll\":\"auto\",\"active_tap\":\"auto\",\"tools\":[{\"id\":\"4794\"},{\"id\":\"4795\"},{\"id\":\"4796\"},{\"id\":\"4797\"},{\"id\":\"4798\"},{\"id\":\"4799\"}]},\"id\":\"4801\",\"type\":\"Toolbar\"},{\"attributes\":{},\"id\":\"4822\",\"type\":\"Selection\"}],\"root_ids\":[\"4775\"]},\"title\":\"Bokeh Application\",\"version\":\"2.1.1\"}};\n",
       "  var render_items = [{\"docid\":\"dfa22c85-5fcd-48ad-a9b6-702517e9af10\",\"root_ids\":[\"4775\"],\"roots\":{\"4775\":\"ccd35d64-6574-49f6-a4f1-b656a3c80e7e\"}}];\n",
       "  root.Bokeh.embed.embed_items_notebook(docs_json, render_items);\n",
       "\n",
       "  }\n",
       "  if (root.Bokeh !== undefined) {\n",
       "    embed_document(root);\n",
       "  } else {\n",
       "    var attempts = 0;\n",
       "    var timer = setInterval(function(root) {\n",
       "      if (root.Bokeh !== undefined) {\n",
       "        clearInterval(timer);\n",
       "        embed_document(root);\n",
       "      } else {\n",
       "        attempts++;\n",
       "        if (attempts > 100) {\n",
       "          clearInterval(timer);\n",
       "          console.log(\"Bokeh: ERROR: Unable to run BokehJS code because BokehJS library is missing\");\n",
       "        }\n",
       "      }\n",
       "    }, 10, root)\n",
       "  }\n",
       "})(window);"
      ],
      "application/vnd.bokehjs_exec.v0+json": ""
     },
     "metadata": {
      "application/vnd.bokehjs_exec.v0+json": {
       "id": "4775"
      },
      "tags": []
     },
     "output_type": "display_data"
    }
   ],
   "source": [
    "p = figure(title= \"Weather Data for Station 270\", plot_width = 800, plot_height = 800 , x_range=(0,400), y_range=(0, 70))\n",
    "\n",
    "source = ColumnDataSource({'days': np.arange(365), 'min': month_day(df_before_2018)[0] , 'max': month_day(df_before_2018)[1] , 'mean': df_2018.Tmean})\n",
    "source2 = ColumnDataSource({'days': np.arange(364), 'smooth_min': smooth_data(month_day(df_before_2018)[0]), 'smooth_max': smooth_data(month_day(df_before_2018)[1]), 'smooth_mean': smooth_data(df_2018.Tmean)})\n",
    "\n",
    "band = Band(base = 'days', lower = 'min' , upper='max', source=source, fill_color = 'gray')\n",
    "p.add_layout(band)\n",
    "\n",
    "p.line(x='days', y='mean', source=source, legend_label = 'Average Temp 2018')\n",
    "p.line(x='days', y='smooth_mean', source=source2, legend_label = 'Smooth Avg temp 2018', color = 'red', alpha = 1.0)\n",
    "p.line(x='days', y='smooth_min', source=source2, legend_label = 'Smooth min temp before 2018', color = 'hotpink', alpha = 1.0)\n",
    "p.line(x='days', y='smooth_max', source=source2, legend_label = 'Smooth max temp before 2018', color = 'black', alpha = 1.0)\n",
    "\n",
    "p.xaxis.axis_label = 'Days'\n",
    "p.yaxis.axis_label = 'Temprature (In Degree Celcius)'\n",
    "p.legend.click_policy=\"hide\"\n",
    "\n",
    "\n",
    "show(p)"
   ]
  },
  {
   "cell_type": "markdown",
   "metadata": {
    "id": "7oNy6nYCo8xh"
   },
   "source": [
    "---"
   ]
  },
  {
   "cell_type": "markdown",
   "metadata": {
    "id": "FXeZM7Pko8xi"
   },
   "source": [
    "<a name='5'></a>\n",
    "## Part 6: Challenge"
   ]
  },
  {
   "cell_type": "markdown",
   "metadata": {
    "id": "xn7ob0Sxo8xj"
   },
   "source": [
    "Make a widget in which you can select the year range for the multiyear set. Add this to your layout to make the plot interactive. Add another widget to select or deselect the smoother. Inspiration: https://demo.bokeh.org/weather"
   ]
  },
  {
   "cell_type": "code",
   "execution_count": null,
   "metadata": {
    "id": "QpuiChlTo8xk"
   },
   "outputs": [],
   "source": []
  },
  {
   "cell_type": "markdown",
   "metadata": {
    "id": "jFb1aTPoJCw8"
   },
   "source": [
    "# temp range for few years\n",
    "# min of each month temp for one particular year\n",
    "# max of each \n",
    "# average temp of each day \n",
    "# user slider for smoothing \n",
    "# user slider for selecting different years "
   ]
  }
 ],
 "metadata": {
  "colab": {
   "include_colab_link": true,
   "name": "Assignment_week_04.ipynb",
   "provenance": [],
   "toc_visible": true
  },
  "kernelspec": {
   "display_name": "Python 3",
   "language": "python",
   "name": "python3"
  },
  "language_info": {
   "codemirror_mode": {
    "name": "ipython",
    "version": 3
   },
   "file_extension": ".py",
   "mimetype": "text/x-python",
   "name": "python",
   "nbconvert_exporter": "python",
   "pygments_lexer": "ipython3",
   "version": "3.8.5"
  }
 },
 "nbformat": 4,
 "nbformat_minor": 1
}
